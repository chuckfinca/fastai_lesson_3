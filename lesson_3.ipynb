{
 "cells": [
  {
   "cell_type": "markdown",
   "id": "77f86984",
   "metadata": {},
   "source": [
    "### Setup"
   ]
  },
  {
   "cell_type": "markdown",
   "id": "dd75b446",
   "metadata": {},
   "source": [
    "#### Let's start by importing \"all the things\""
   ]
  },
  {
   "cell_type": "code",
   "execution_count": 1,
   "id": "6a0f669d",
   "metadata": {},
   "outputs": [
    {
     "name": "stderr",
     "output_type": "stream",
     "text": [
      "/Users/charlesfeinn/miniforge-pypy3/envs/fastai_lesson_3/lib/python3.9/site-packages/torchvision/io/image.py:13: UserWarning: Failed to load image Python extension: 'dlopen(/Users/charlesfeinn/miniforge-pypy3/envs/fastai_lesson_3/lib/python3.9/site-packages/torchvision/image.so, 0x0006): Symbol not found: __ZN3c106detail19maybe_wrap_dim_slowIxEET_S2_S2_b\n",
      "  Referenced from: <CC4BC91F-8B6A-3F9A-B9EB-A2B9D578E202> /Users/charlesfeinn/miniforge-pypy3/envs/fastai_lesson_3/lib/python3.9/site-packages/torchvision/image.so\n",
      "  Expected in:     <408F81C0-C6C8-33EF-B02E-B683F7178A71> /Users/charlesfeinn/miniforge-pypy3/envs/fastai_lesson_3/lib/python3.9/site-packages/torch/lib/libc10.dylib'If you don't plan on using image functionality from `torchvision.io`, you can ignore this warning. Otherwise, there might be something wrong with your environment. Did you have `libjpeg` or `libpng` installed before building `torchvision` from source?\n",
      "  warn(\n"
     ]
    }
   ],
   "source": [
    "from fastai.vision.all import *"
   ]
  },
  {
   "cell_type": "markdown",
   "id": "f4a5ece7",
   "metadata": {},
   "source": [
    "#### Now let's print out our package versions\n",
    "That way our git commits will contain the information necessary to troubleshoot any depenceny issues that arise.\n",
    "\n",
    "We'll use a library I created, [pkg_vers](https://pypi.org/project/pkg-vers/), to do this quickly and easily."
   ]
  },
  {
   "cell_type": "code",
   "execution_count": 2,
   "id": "5910ccf9",
   "metadata": {},
   "outputs": [],
   "source": [
    "!pip install -qq pkg_vers"
   ]
  },
  {
   "cell_type": "code",
   "execution_count": 3,
   "id": "a1d36fb7",
   "metadata": {},
   "outputs": [
    {
     "name": "stdout",
     "output_type": "stream",
     "text": [
      "itertools: \n",
      "pandas: 2.2.1\n",
      "seaborn: 0.12.2\n",
      "matplotlib: 3.8.0\n",
      "fastai: 2.7.14\n",
      "pkg_vers: 0.0.6\n",
      "PIL: 10.2.0\n",
      "csv: 1.0\n"
     ]
    }
   ],
   "source": [
    "import pkg_vers\n",
    "\n",
    "notebook_path = 'lesson_3.ipynb'\n",
    "imported_packages = pkg_vers.get_package_versions_from_ipynb(notebook_path)\n",
    "for key, value in imported_packages.items():\n",
    "    print(f\"{key}: {value}\")"
   ]
  },
  {
   "cell_type": "markdown",
   "id": "b7278747",
   "metadata": {},
   "source": [
    "Next let's setup the matplotlib runtime configuration to show images in grayscale "
   ]
  },
  {
   "cell_type": "code",
   "execution_count": 4,
   "id": "5e3efd9a",
   "metadata": {},
   "outputs": [],
   "source": [
    "matplotlib.rc('image', cmap='Greys')"
   ]
  },
  {
   "cell_type": "markdown",
   "id": "59c1c0dc",
   "metadata": {},
   "source": [
    "### Data Preparation"
   ]
  },
  {
   "cell_type": "markdown",
   "id": "9a73261b",
   "metadata": {},
   "source": [
    "#### Save & load\n",
    "\n",
    "We'll add some functions to save and load our data locally. That way we don't need to keep downloading it while we play with hyperparameters, etc."
   ]
  },
  {
   "cell_type": "code",
   "execution_count": 5,
   "id": "4f8ac707",
   "metadata": {},
   "outputs": [],
   "source": [
    "def on_disk(type_name):\n",
    "    X_file_name = f'{type_name}_X.pt'\n",
    "    y_file_name = f'{type_name}_y.pt'\n",
    "    return os.path.exists(X_file_name) and os.path.exists(y_file_name)"
   ]
  },
  {
   "cell_type": "code",
   "execution_count": 6,
   "id": "f401a1ca",
   "metadata": {},
   "outputs": [],
   "source": [
    "def save_to_disk(data_name, X, y):\n",
    "    X_file_name = f'{data_name}_X.pt'\n",
    "    y_file_name = f'{data_name}_y.pt'\n",
    "    torch.save(X, X_file_name)\n",
    "    torch.save(y, y_file_name)\n"
   ]
  },
  {
   "cell_type": "code",
   "execution_count": 7,
   "id": "fc9840fa",
   "metadata": {},
   "outputs": [],
   "source": [
    "def load_from_disk(data_name):\n",
    "    X_file_name = f'{data_name}_X.pt'\n",
    "    y_file_name = f'{data_name}_y.pt'\n",
    "\n",
    "    if on_disk(data_name):\n",
    "        X = torch.load(X_file_name)\n",
    "        y = torch.load(y_file_name)\n",
    "        print(f\"Loaded {data_name} data from disk\")  \n",
    "        return X, y"
   ]
  },
  {
   "cell_type": "markdown",
   "id": "0690d82d",
   "metadata": {},
   "source": [
    "#### Download"
   ]
  },
  {
   "cell_type": "code",
   "execution_count": 8,
   "id": "aab5796d",
   "metadata": {},
   "outputs": [
    {
     "name": "stdout",
     "output_type": "stream",
     "text": [
      "[Path('/Users/charlesfeinn/.fastai/data/mnist_png/training'), Path('/Users/charlesfeinn/.fastai/data/mnist_png/testing')]\n",
      "[Path('/Users/charlesfeinn/.fastai/data/mnist_png/training/9'), Path('/Users/charlesfeinn/.fastai/data/mnist_png/training/0'), Path('/Users/charlesfeinn/.fastai/data/mnist_png/training/7'), Path('/Users/charlesfeinn/.fastai/data/mnist_png/training/6'), Path('/Users/charlesfeinn/.fastai/data/mnist_png/training/1'), Path('/Users/charlesfeinn/.fastai/data/mnist_png/training/8'), Path('/Users/charlesfeinn/.fastai/data/mnist_png/training/4'), Path('/Users/charlesfeinn/.fastai/data/mnist_png/training/3'), Path('/Users/charlesfeinn/.fastai/data/mnist_png/training/2'), Path('/Users/charlesfeinn/.fastai/data/mnist_png/training/5')]\n"
     ]
    }
   ],
   "source": [
    "# Setup our path to get the MNIST data\n",
    "path = untar_data(URLs.MNIST)\n",
    "print(path.ls())\n",
    "print((path/'training').ls())"
   ]
  },
  {
   "cell_type": "code",
   "execution_count": 9,
   "id": "06b6e299",
   "metadata": {},
   "outputs": [
    {
     "name": "stdout",
     "output_type": "stream",
     "text": [
      "[Path('/Users/charlesfeinn/.fastai/data/mnist_png/testing/9'), Path('/Users/charlesfeinn/.fastai/data/mnist_png/testing/0'), Path('/Users/charlesfeinn/.fastai/data/mnist_png/testing/7'), Path('/Users/charlesfeinn/.fastai/data/mnist_png/testing/6'), Path('/Users/charlesfeinn/.fastai/data/mnist_png/testing/1'), Path('/Users/charlesfeinn/.fastai/data/mnist_png/testing/8'), Path('/Users/charlesfeinn/.fastai/data/mnist_png/testing/4'), Path('/Users/charlesfeinn/.fastai/data/mnist_png/testing/3'), Path('/Users/charlesfeinn/.fastai/data/mnist_png/testing/2'), Path('/Users/charlesfeinn/.fastai/data/mnist_png/testing/5')]\n"
     ]
    }
   ],
   "source": [
    "print((path/'testing').ls())"
   ]
  },
  {
   "cell_type": "code",
   "execution_count": 10,
   "id": "dd6c3dc4",
   "metadata": {},
   "outputs": [],
   "source": [
    "def download_data(data_name, path):\n",
    "    images = []\n",
    "    labels = []\n",
    "    for label in range(10):\n",
    "        print(f\"Loading {label}s...\")\n",
    "        image_paths = (path/data_name/f\"{label}\").ls()\n",
    "        for image_path in image_paths:\n",
    "            image_tensor = tensor(Image.open(image_path))\n",
    "            images.append(image_tensor)\n",
    "            labels.append(label)\n",
    "\n",
    "\n",
    "    # Generally when images are floats, the pixel values are expected to be between 0 and 1, so we will also divide by 255 here:\n",
    "    tensor_images = torch.stack(images).float()/255\n",
    "\n",
    "    # unsqueeze() adds an extra dimension of depth 1\n",
    "    tensor_labels = torch.tensor(labels, dtype=torch.long).unsqueeze(1)\n",
    "\n",
    "    print(f\"Loaded {data_name} data from the web\") \n",
    "    return (tensor_images, tensor_labels)"
   ]
  },
  {
   "cell_type": "markdown",
   "id": "1424124a",
   "metadata": {},
   "source": [
    "#### Inspect"
   ]
  },
  {
   "cell_type": "code",
   "execution_count": 11,
   "id": "9fa0ab9e",
   "metadata": {},
   "outputs": [],
   "source": [
    "import matplotlib.pyplot as plt\n",
    "\n",
    "def plot_images(images, image_indexes, page, true_labels=None, predicted_labels=None, index_mapping=None):\n",
    "    plt.figure(figsize=(10, 4))\n",
    "    n = len(images)\n",
    "    page_size = 10\n",
    "    for index in range(page_size):\n",
    "        i = page_size * page + index\n",
    "\n",
    "        ax = plt.subplot(2, page_size//2, index + 1)\n",
    "\n",
    "        img = images[i]\n",
    "\n",
    "        # Check if the image is a PyTorch tensor\n",
    "        if isinstance(img, torch.Tensor):\n",
    "            img = img.cpu().numpy()\n",
    "\n",
    "        if len(img.shape) == 1:\n",
    "                img = img.reshape(28, 28)\n",
    "\n",
    "        plt.imshow(img, cmap='gray')\n",
    "        title = \"\"\n",
    "        if predicted_labels is not None:\n",
    "            title += f\"Pred: {predicted_labels[i][0].numpy()}\"\n",
    "        if predicted_labels is not None:\n",
    "            title += f\", True: {true_labels[i][0].numpy()}\"\n",
    "        if index_mapping is not None:\n",
    "            training_set_index = image_indexes[i]\n",
    "            unshuffled_index = index_mapping[training_set_index]\n",
    "            subtitle = f\"train_X idx: {training_set_index}\\n\"\n",
    "            subtitle += f\"train_X_original idx: {unshuffled_index}\"\n",
    "\n",
    "            # Add subtitle below the image\n",
    "            ax.text(0.5, -0.4, subtitle, transform=ax.transAxes, ha='center', fontsize=10, color='blue')\n",
    "\n",
    "\n",
    "        ax.set_title(title)\n",
    "        plt.axis('off')\n",
    "    plt.tight_layout(pad=2.0, h_pad=2.5)  # Adjusted padding to avoid overlap\n",
    "    plt.show()"
   ]
  },
  {
   "cell_type": "markdown",
   "id": "66a03a01",
   "metadata": {},
   "source": [
    "#### Prepare"
   ]
  },
  {
   "cell_type": "code",
   "execution_count": 12,
   "id": "a868b8c0",
   "metadata": {},
   "outputs": [],
   "source": [
    "def shuffle_data(X, y, misclassified_indices):\n",
    "    number_of_examples = X.shape[0]\n",
    "\n",
    "    indices = np.arange(number_of_examples)\n",
    "\n",
    "    if misclassified_indices is not None and misclassified_indices.numel() > 0:\n",
    "        indices = np.concatenate((indices[:(number_of_examples - misclassified_indices.shape[0])], misclassified_indices.numpy()))\n",
    "\n",
    "    np.random.shuffle(indices)\n",
    "    X_shuffled= X[indices]\n",
    "    y_shuffled = y[indices]\n",
    "    \n",
    "    return X_shuffled, y_shuffled, indices.tolist()"
   ]
  },
  {
   "cell_type": "code",
   "execution_count": 75,
   "id": "51e252c7",
   "metadata": {},
   "outputs": [],
   "source": [
    "from PIL import Image\n",
    "import random\n",
    "\n",
    "def random_transform(images, scale_options=(0.8, 2), rotation_angle=5):\n",
    "    \"\"\"\n",
    "    Applies random transformations to a batch of images.\n",
    "\n",
    "    Parameters:\n",
    "        images (numpy.ndarray): Input array of shape (batch_size, height, width, channels).\n",
    "        scale_options (tuple): A tuple containing the scaling factors to choose from.\n",
    "        rotation_angle (int): Maximum rotation angle, rotation will be in the range [-C, C].\n",
    "\n",
    "    Returns:\n",
    "        numpy.ndarray: Array of transformed images with the same shape as input.\n",
    "    \"\"\"\n",
    "    transformed_images = np.empty_like(images)\n",
    "    for i, img in enumerate(images):\n",
    "        if isinstance(img, torch.Tensor):\n",
    "          img = img.numpy()\n",
    "\n",
    "        # Convert numpy array to PIL Image\n",
    "        img_pil = Image.fromarray(img)\n",
    "\n",
    "        # Random rotation\n",
    "        angle = random.uniform(-rotation_angle, rotation_angle)\n",
    "        img_pil = img_pil.rotate(angle)\n",
    "\n",
    "        # Random scaling\n",
    "        if angle != 0:\n",
    "          scale_factor = 1.1\n",
    "        else:\n",
    "          scale_factor = random.choice(scale_options)\n",
    "\n",
    "        new_width = int(img_pil.width * scale_factor)\n",
    "        new_height = int(img_pil.height * scale_factor)\n",
    "        img_pil = img_pil.resize((new_width, new_height), Image.BILINEAR)\n",
    "\n",
    "        # Center crop to the original dimensions\n",
    "        left = (new_width - images.shape[2]) // 2\n",
    "        top = (new_height - images.shape[1]) // 2\n",
    "        right = left + images.shape[2]\n",
    "        bottom = top + images.shape[1]\n",
    "        img_pil = img_pil.crop((left, top, right, bottom))\n",
    "\n",
    "        # Convert PIL Image back to numpy array and store in the transformed array\n",
    "        img_pil = img_pil.resize((images.shape[1], images.shape[2]), Image.BILINEAR)  # Resize back to original dimensions\n",
    "        transformed_images[i] = np.array(img_pil)\n",
    "\n",
    "    return torch.from_numpy(transformed_images)"
   ]
  },
  {
   "cell_type": "code",
   "execution_count": 14,
   "id": "8bab0769",
   "metadata": {},
   "outputs": [],
   "source": [
    "def augment_data(X, y, indices, number_of_augmentations_per_example):\n",
    "    indexes = indices.copy()\n",
    "    number_of_originals = X.shape[0]\n",
    "    number_after_augmentation = number_of_augmentations_per_example * number_of_originals\n",
    "    \n",
    "    X_total = torch.empty((number_after_augmentation, X.shape[1], X.shape[2]))\n",
    "    y_total = torch.empty((number_after_augmentation, y.shape[1]))\n",
    "\n",
    "    for i in range(number_of_augmentations_per_example):\n",
    "        X_augmented = random_transform(X)\n",
    "        start_index = number_of_originals * i\n",
    "        X_total[start_index : start_index + number_of_originals] = X_augmented\n",
    "        y_total[start_index : start_index + number_of_originals] = y\n",
    "        indexes += indices\n",
    "    \n",
    "    return X_total, y_total, indexes"
   ]
  },
  {
   "cell_type": "code",
   "execution_count": 15,
   "id": "881e6705",
   "metadata": {},
   "outputs": [],
   "source": [
    "def augment_example(X, y, rotation_angle):\n",
    "    total_number = X.shape[0]\n",
    "    X_augmented = random_transform(X, rotation_angle=rotation_angle)\n",
    "    start_index = total_number * i\n",
    "    X_total[start_index : start_index + total_number] = X_augmented\n",
    "    y_total[start_index : start_index + total_number] = y\n",
    "    indexes += indices\n"
   ]
  },
  {
   "cell_type": "code",
   "execution_count": 16,
   "id": "2965659d",
   "metadata": {},
   "outputs": [],
   "source": [
    "def add_misclassified(X, y, misclassified_data_name):\n",
    "\n",
    "    misclassified_X_indices, misclassified_y = load_from_disk(misclassified_data_name)\n",
    "    \n",
    "    misclassified_X_indices = torch.tensor(misclassified_X_indices)  # Ensure indices are a tensor\n",
    "    misclassified_X = torch.index_select(X, 0, misclassified_X_indices)\n",
    "    misclassified_y = torch.tensor(misclassified_y).unsqueeze(1)\n",
    "\n",
    "    # add another copy of the misclassified data to the dataset\n",
    "    X = torch.cat((X, misclassified_X), dim=0)\n",
    "    y = torch.cat((y, misclassified_y), dim=0)\n",
    "    return X, y, misclassified_X_indices\n",
    "        "
   ]
  },
  {
   "cell_type": "markdown",
   "id": "18b62285",
   "metadata": {},
   "source": [
    "### Model"
   ]
  },
  {
   "cell_type": "code",
   "execution_count": 17,
   "id": "39fc3384",
   "metadata": {},
   "outputs": [],
   "source": [
    "def simple_net():\n",
    "    return nn.Sequential(\n",
    "        nn.Linear(28*28, 30),   # First layer takes 784 inputs from a flattened 28x28 image and outputs to 30 neurons\n",
    "        nn.ReLU(),              # ReLU activation function\n",
    "        nn.Linear(30, 10),      # Change this layer from outputting 1 to outputting 10 for digits 0-9\n",
    "        nn.Softmax(dim=1)       # Softmax layer to convert the final layer outputs into probabilities\n",
    "    )"
   ]
  },
  {
   "cell_type": "markdown",
   "id": "a24cfa76",
   "metadata": {},
   "source": [
    "### Train"
   ]
  },
  {
   "cell_type": "markdown",
   "id": "8fa425ac",
   "metadata": {},
   "source": [
    "#### Get the train and validation sets\n",
    "If we've already prepared the data then we'll load it from disk. Otherwise we'll download, prepare things here, and save them to disk for future use."
   ]
  },
  {
   "cell_type": "code",
   "execution_count": 18,
   "id": "3a2f33cd",
   "metadata": {},
   "outputs": [],
   "source": [
    "def get_data(misclassified_data_name=None):\n",
    "    train_data_name = 'train'\n",
    "    validate_data_name = 'validate'\n",
    "\n",
    "    if on_disk(train_data_name) and on_disk(validate_data_name):\n",
    "        train_X_original, train_y_original = load_from_disk(train_data_name)\n",
    "        validate_X, validate_y = load_from_disk(validate_data_name)\n",
    "\n",
    "    else:\n",
    "        train_X_original, train_y_original = download_data('training', path)\n",
    "        save_to_disk(train_data_name, train_X_original, train_y_original)\n",
    "\n",
    "        validate_X, validate_y = download_data('testing', path)\n",
    "        save_to_disk(validate_data_name, validate_X, validate_y)\n",
    " \n",
    "    # add the previously saved misclassified examples\n",
    "    if misclassified_data_name and on_disk(misclassified_data_name):\n",
    "        train_X, train_y, misclassified_indicies = add_misclassified(train_X_original, train_y_original, misclassified_data_name)\n",
    "    else:\n",
    "        train_X, train_y, misclassified_indicies = train_X_original, train_y_original, None\n",
    "\n",
    "    # shuffle the original data\n",
    "    train_X, train_y, train_inverse_index_mapping = shuffle_data(train_X, train_y, misclassified_indicies)\n",
    "\n",
    "    # augment the data with variations\n",
    "    number_of_variations = 2\n",
    "    augmented_X, augmented_y, augmented_X_indices = augment_data(train_X, train_y, train_inverse_index_mapping, number_of_variations)\n",
    "\n",
    "    # add the augmented data to the dataset\n",
    "    train_X = torch.cat((train_X, augmented_X), dim=0)\n",
    "    train_y = torch.cat((train_y, augmented_y), dim=0)\n",
    "    train_inverse_index_mapping += augmented_X_indices\n",
    "\n",
    "    # flatten from shape (number of examples, height=28, width=28) to (number of examples, 28*28)\n",
    "    train_X = train_X.view(-1, 28*28)\n",
    "    validate_X = validate_X.view(-1, 28*28)\n",
    "    \n",
    "    return (train_X, train_y, train_X_original, train_inverse_index_mapping), (validate_X, validate_y)"
   ]
  },
  {
   "cell_type": "code",
   "execution_count": 19,
   "id": "dd55c8cd",
   "metadata": {},
   "outputs": [
    {
     "name": "stdout",
     "output_type": "stream",
     "text": [
      "Loaded train data from disk\n",
      "Loaded validate data from disk\n"
     ]
    }
   ],
   "source": [
    "(X, y, train_X_original, train_inverse_index_mapping), (validate_X, validate_y) = get_data(misclassified_data_name=None)"
   ]
  },
  {
   "cell_type": "markdown",
   "id": "34db776f",
   "metadata": {},
   "source": [
    "Let's check the shape of our data to make sure it looks right"
   ]
  },
  {
   "cell_type": "code",
   "execution_count": 20,
   "id": "af043c42",
   "metadata": {},
   "outputs": [
    {
     "data": {
      "text/plain": [
       "(torch.Size([180000, 784]),\n",
       " torch.Size([180000, 1]),\n",
       " torch.Size([10000, 784]),\n",
       " torch.Size([10000, 1]))"
      ]
     },
     "execution_count": 20,
     "metadata": {},
     "output_type": "execute_result"
    }
   ],
   "source": [
    "X.shape, y.shape, validate_X.shape, validate_y.shape"
   ]
  },
  {
   "cell_type": "markdown",
   "id": "c3c56a0c",
   "metadata": {},
   "source": [
    "Zip up our images and labels (as ints) into train and validate datasets"
   ]
  },
  {
   "cell_type": "code",
   "execution_count": 21,
   "id": "e5b1becc",
   "metadata": {},
   "outputs": [],
   "source": [
    "train_dataset = list(zip(X,y.long()))\n",
    "validate_dataset = list(zip(validate_X, validate_y.long()))"
   ]
  },
  {
   "cell_type": "markdown",
   "id": "f42f9948",
   "metadata": {},
   "source": [
    "#### Sanity check to make sure things are working"
   ]
  },
  {
   "cell_type": "code",
   "execution_count": 22,
   "id": "bf4c5e69",
   "metadata": {},
   "outputs": [],
   "source": [
    "def display_image(example):\n",
    "    if len(example.shape) == 1:\n",
    "        # unflatten from 784 to 28x28\n",
    "        example = example.reshape(28, 28)\n",
    "    # convert back to uint8 and RGB scale 0-255\n",
    "    image = (example*255).to(torch.uint8).numpy()\n",
    "    return Image.fromarray(image)"
   ]
  },
  {
   "cell_type": "code",
   "execution_count": 23,
   "id": "bd276697",
   "metadata": {},
   "outputs": [],
   "source": [
    "import random\n",
    "\n",
    "def load_random_example(dataset):\n",
    "    random_example_number = random.randint(0,len(dataset)-1)\n",
    "    example = dataset[random_example_number]\n",
    "    X = example[0]\n",
    "    y = example[1][0]\n",
    "    if len(example) == 3:\n",
    "        pred = example[2][0]\n",
    "        print(f\"label: {y}\\npredicted: {pred}\")\n",
    "    else:\n",
    "        print(f\"label: {y}\")\n",
    "    return display_image(X)"
   ]
  },
  {
   "cell_type": "code",
   "execution_count": 24,
   "id": "d66535f6",
   "metadata": {},
   "outputs": [
    {
     "name": "stdout",
     "output_type": "stream",
     "text": [
      "label: 2\n"
     ]
    },
    {
     "data": {
      "image/jpeg": "[encoded data removed]",
      "image/png": "[encoded data removed]",
      "text/plain": [
       "<PIL.Image.Image image mode=L size=28x28>"
      ]
     },
     "execution_count": 24,
     "metadata": {},
     "output_type": "execute_result"
    }
   ],
   "source": [
    "load_random_example(train_dataset)"
   ]
  },
  {
   "cell_type": "markdown",
   "id": "3c8afb1f",
   "metadata": {},
   "source": [
    "#### Tooling"
   ]
  },
  {
   "cell_type": "code",
   "execution_count": 25,
   "id": "3e3d1343",
   "metadata": {},
   "outputs": [],
   "source": [
    "import csv\n",
    "\n",
    "def write_losses_to(file_name, train_losses, accuracies, val_losses, **kwargs):\n",
    "    with open(file_name, 'a', newline='') as file:\n",
    "        writer = csv.writer(file)\n",
    "        \n",
    "        # Write header if the file is empty\n",
    "        if file.tell() == 0:\n",
    "            header = ['Epoch', 'Train Loss', 'Val Loss', 'Accuracies']\n",
    "            header.extend(kwargs.keys())\n",
    "            writer.writerow(header)\n",
    "        \n",
    "        # Write losses and additional parameters for each epoch\n",
    "        for epoch in range(len(train_losses)):\n",
    "            row = [epoch+1, train_losses[epoch], val_losses[epoch], accuracies[epoch]]\n",
    "            row.extend(kwargs.values())\n",
    "            writer.writerow(row)"
   ]
  },
  {
   "cell_type": "code",
   "execution_count": 26,
   "id": "3a837c78",
   "metadata": {},
   "outputs": [],
   "source": [
    "import csv\n",
    "import matplotlib.pyplot as plt\n",
    "\n",
    "def plot_losses(row_number, file_name):\n",
    "    train_losses = []\n",
    "    val_losses = []\n",
    "    epochs = []\n",
    "    parameters = {}\n",
    "\n",
    "    with open(file_name, 'r') as file:\n",
    "        reader = csv.reader(file)\n",
    "        header = next(reader)  # Read header row\n",
    "        parameter_labels = header[3:]  # Get parameter labels from header\n",
    "        \n",
    "        for idx, row in enumerate(reader, start=1):\n",
    "            if idx == row_number:\n",
    "                epochs.append(int(row[0]))\n",
    "                train_losses.append(float(row[1]))\n",
    "                val_losses.append(float(row[2]))\n",
    "                parameters = {label: value for label, value in zip(parameter_labels, row[3:])}\n",
    "                break\n",
    "\n",
    "    if not epochs:\n",
    "        print(f\"No data found for row number {row_number}\")\n",
    "        return\n",
    "\n",
    "    plt.figure(figsize=(8, 6))\n",
    "    plt.plot(epochs, train_losses, label='Train Loss')\n",
    "    plt.plot(epochs, val_losses, label='Validation Loss')\n",
    "    plt.xlabel('Epoch')\n",
    "    plt.ylabel('Loss')\n",
    "    \n",
    "    title = f'Train and Validation Losses (Row {row_number})\\n'\n",
    "    for label, value in parameters.items():\n",
    "        title += f'{label}: {value}, '\n",
    "    title = title.rstrip(', ')\n",
    "    \n",
    "    plt.title(title)\n",
    "    plt.legend()\n",
    "    plt.grid(True)\n",
    "    plt.show()"
   ]
  },
  {
   "cell_type": "markdown",
   "id": "ddc55eea",
   "metadata": {},
   "source": [
    "#### Configure the model"
   ]
  },
  {
   "cell_type": "code",
   "execution_count": 27,
   "id": "75b8cd4f",
   "metadata": {},
   "outputs": [],
   "source": [
    "def mnist_loss(predicted_probabilities, targets):\n",
    "    # Define the loss function\n",
    "    loss_function = nn.CrossEntropyLoss()\n",
    "\n",
    "    # Squeeze the targets tensor to remove the extra dimension\n",
    "    targets = targets.squeeze(1)  # This changes shape from [100, 1] to [100]\n",
    "\n",
    "    # Calculate the loss\n",
    "    loss = loss_function(predicted_probabilities, targets)\n",
    "    return loss"
   ]
  },
  {
   "cell_type": "code",
   "execution_count": 28,
   "id": "acf8f5b6",
   "metadata": {},
   "outputs": [],
   "source": [
    "def batch_accuracy(xb, yb):\n",
    "    \n",
    "    right = 0\n",
    "    total = len(xb)\n",
    "    for i in range(total):\n",
    "        example_x = xb[i]\n",
    "        example_y = yb[i].item()\n",
    "\n",
    "        _, predicted_label = torch.max(example_x, 0)  # 0 is the dimension along which to find the max\n",
    "\n",
    "        if predicted_label == example_y:\n",
    "            right += 1\n",
    "    \n",
    "    return right / total"
   ]
  },
  {
   "cell_type": "code",
   "execution_count": 29,
   "id": "ffa2e340",
   "metadata": {},
   "outputs": [],
   "source": [
    "# Log the initial accuracy before training\n",
    "def log_initial_accuracy(learner):\n",
    "    learner.model.eval()  # Set the model to evaluation mode\n",
    "    val_loss, val_acc = learner.validate()\n",
    "    print(f\"Initial accuracy: {val_acc}\")"
   ]
  },
  {
   "cell_type": "code",
   "execution_count": 30,
   "id": "dd3d5543",
   "metadata": {},
   "outputs": [],
   "source": [
    "def create_learner(train_dataset, validate_dataset, batch_size, model, loss_func, optimization_function, metrics):\n",
    "    data_loader = DataLoader(train_dataset, batch_size=batch_size, shuffle=False)\n",
    "    validation_data_loader = DataLoader(validate_dataset, batch_size=batch_size, shuffle=False)\n",
    "    data_loaders = DataLoaders(data_loader, validation_data_loader)\n",
    "\n",
    "    learner = Learner(dls=data_loaders, model=model, loss_func=loss_func, opt_func=optimization_function, metrics=metrics)\n",
    "    return learner \n",
    "\n",
    "    # learner = Learner(\n",
    "    #     dls: DataLoaders, \n",
    "    #     model: Any, \n",
    "    #     loss_func: Any | None = None, \n",
    "    #     opt_func: Optimizer | OptimWrapper = Adam, \n",
    "    #     lr: float | slice = defaults.lr, \n",
    "    #     splitter: Any = trainable_params, \n",
    "    #     cbs: Callback | MutableSequence | None = None, \n",
    "    #     metrics: Any | MutableSequence | None = None, \n",
    "    #     path: str | Path | None = None, \n",
    "    #     model_dir: str | Path = 'models', \n",
    "    #     wd: float | int | None = None, \n",
    "    #     wd_bn_bias: bool = False, \n",
    "    #     train_bn: bool = True, \n",
    "    #     moms: tuple = (0.95, 0.85, 0.95), \n",
    "    #     default_cbs: bool = True\n",
    "    # )"
   ]
  },
  {
   "cell_type": "code",
   "execution_count": 31,
   "id": "4f29bd09",
   "metadata": {},
   "outputs": [],
   "source": [
    "def evaluate_model(train_dataset, validate_dataset, lr, batch_size, opt_func, n_epochs, losses_file_name=None, param_dict={}):\n",
    "    model = simple_net()\n",
    "    learner = create_learner(train_dataset, validate_dataset, batch_size, model, mnist_loss, opt_func, [batch_accuracy])\n",
    "    log_initial_accuracy(learner)\n",
    "    learner.fit(n_epochs, lr=lr)\n",
    "    train_losses, val_losses, accuracies = zip(*learner.recorder.values)\n",
    "    if losses_file_name:\n",
    "        write_losses_to(losses_file_name, train_losses, val_losses, accuracies, **param_dict)\n",
    "\n",
    "    return learner, learner.validate()[1]"
   ]
  },
  {
   "cell_type": "markdown",
   "id": "e2c8a4ad",
   "metadata": {},
   "source": [
    "#### Train the model"
   ]
  },
  {
   "cell_type": "markdown",
   "id": "dc3cc230",
   "metadata": {},
   "source": [
    "Now lets define some hyperparameters"
   ]
  },
  {
   "cell_type": "code",
   "execution_count": 32,
   "id": "823c407e",
   "metadata": {},
   "outputs": [],
   "source": [
    "learning_rate = 0.001\n",
    "batch_size = 32\n",
    "opt_func = SGD\n",
    "n_epochs = 1"
   ]
  },
  {
   "cell_type": "code",
   "execution_count": 33,
   "id": "975b3716",
   "metadata": {},
   "outputs": [
    {
     "data": {
      "text/html": [],
      "text/plain": [
       "<IPython.core.display.HTML object>"
      ]
     },
     "metadata": {},
     "output_type": "display_data"
    },
    {
     "name": "stdout",
     "output_type": "stream",
     "text": [
      "Initial accuracy: 0.0991\n"
     ]
    },
    {
     "data": {
      "text/html": [
       "<table border=\"1\" class=\"dataframe\">\n",
       "  <thead>\n",
       "    <tr style=\"text-align: left;\">\n",
       "      <th>epoch</th>\n",
       "      <th>train_loss</th>\n",
       "      <th>valid_loss</th>\n",
       "      <th>batch_accuracy</th>\n",
       "      <th>time</th>\n",
       "    </tr>\n",
       "  </thead>\n",
       "  <tbody>\n",
       "    <tr>\n",
       "      <td>0</td>\n",
       "      <td>2.288624</td>\n",
       "      <td>2.289046</td>\n",
       "      <td>0.265300</td>\n",
       "      <td>00:09</td>\n",
       "    </tr>\n",
       "  </tbody>\n",
       "</table>"
      ],
      "text/plain": [
       "<IPython.core.display.HTML object>"
      ]
     },
     "metadata": {},
     "output_type": "display_data"
    },
    {
     "data": {
      "text/html": [],
      "text/plain": [
       "<IPython.core.display.HTML object>"
      ]
     },
     "metadata": {},
     "output_type": "display_data"
    },
    {
     "name": "stdout",
     "output_type": "stream",
     "text": [
      "Accuracy: 0.2653\n"
     ]
    }
   ],
   "source": [
    "_, val_accuracy = evaluate_model(train_dataset, validate_dataset, learning_rate, batch_size, opt_func, n_epochs)\n",
    "print(f\"Accuracy: {val_accuracy}\")"
   ]
  },
  {
   "cell_type": "markdown",
   "id": "167b0ba8",
   "metadata": {},
   "source": [
    "### Grid search"
   ]
  },
  {
   "cell_type": "markdown",
   "id": "e47693a8",
   "metadata": {},
   "source": [
    "Now that we have a working model lets add a grid search to find the best hyperparameters to use."
   ]
  },
  {
   "cell_type": "markdown",
   "id": "1193d59f",
   "metadata": {},
   "source": [
    "#### Grid search tooling"
   ]
  },
  {
   "cell_type": "code",
   "execution_count": 34,
   "id": "c2c99915",
   "metadata": {},
   "outputs": [],
   "source": [
    "import csv\n",
    "\n",
    "def save_grid_search_result_to_csv(results_file_name, accuracy, **kwargs):\n",
    "    # Open the file in append mode\n",
    "    with open(results_file_name, 'a', newline='') as file:\n",
    "        # Create a CSV writer object\n",
    "        writer = csv.writer(file)\n",
    "        \n",
    "        # Write header if the file is empty\n",
    "        if file.tell() == 0:\n",
    "            header = list(kwargs.keys()) + ['accuracy']\n",
    "            writer.writerow(header)\n",
    "\n",
    "        parameters = [(value.__name__ if callable(value) else value) for value in kwargs.values()]\n",
    "        row = parameters + [accuracy]\n",
    "\n",
    "        writer.writerow(row)"
   ]
  },
  {
   "cell_type": "code",
   "execution_count": 73,
   "id": "5cff15ec",
   "metadata": {},
   "outputs": [],
   "source": [
    "import pandas as pd\n",
    "import seaborn as sns\n",
    "import matplotlib.pyplot as plt\n",
    "\n",
    "def plot_grid_search_results(file_name):\n",
    "    # Load the results from the CSV file\n",
    "    df = pd.read_csv(file_name)\n",
    "\n",
    "     # Create pivot table\n",
    "    pivot_table = df.pivot_table(index='lr', columns=['batch_size', 'opt_func'], values='accuracy', aggfunc='mean')\n",
    "    \n",
    "    # Create heatmap\n",
    "    plt.figure(figsize=(10, 8))\n",
    "    sns.heatmap(pivot_table, cmap='coolwarm', linewidths=0.5, cbar_kws={'label': 'Accuracy'})\n",
    "    plt.title('Grid Search Results')\n",
    "    plt.xlabel('Batch Size, Optimizer')\n",
    "    plt.ylabel('Learning Rate')\n",
    "    plt.show()\n",
    "\n",
    "    # plt.figure(figsize=(10, 8))\n",
    "    # sns.heatmap(df.pivot_table(index='lr', columns='batch_size', values='accuracy', aggfunc='mean'),\n",
    "    #             annot=True, cmap='coolwarm', linewidths=0.5, cbar_kws={'label': 'Accuracy'})\n",
    "    # plt.title('Grid Search Results')\n",
    "    # plt.xlabel('Batch Size')\n",
    "    # plt.ylabel('Learning Rate')\n",
    "    # plt.show()"
   ]
  },
  {
   "cell_type": "markdown",
   "id": "6058b88e",
   "metadata": {},
   "source": [
    "#### Grid search"
   ]
  },
  {
   "cell_type": "code",
   "execution_count": 36,
   "id": "6c5526b1",
   "metadata": {},
   "outputs": [],
   "source": [
    "import itertools\n",
    "def grid_search(param_grid, train_dataset, validate_dataset, results_file_name, losses_file_name, learner_file_name):\n",
    "    best_params = None\n",
    "    best_accuracy = 0.0\n",
    "\n",
    "    # Load the best accuracy from the grid_search_results.csv file\n",
    "    if os.path.exists(results_file_name):\n",
    "        with open(results_file_name, 'r') as file:\n",
    "            reader = csv.DictReader(file)\n",
    "            best_result = max(reader, key=lambda row: float(row['accuracy']))\n",
    "            best_accuracy = float(best_result['accuracy'])\n",
    "            print(f\"asdf: {best_accuracy}\")\n",
    "\n",
    "    # Generate all possible combinations of hyperparameters\n",
    "    param_combinations = itertools.product(*param_grid.values())\n",
    "\n",
    "    for params in param_combinations:\n",
    "        lr, batch_size, opt_func, n_epochs, run = params\n",
    "        print(f\"Evaluating: lr={lr}, batch_size={batch_size}, opt_func={opt_func.__name__}, n_epochs={n_epochs}, run={run}\")\n",
    "\n",
    "        param_dict = dict(zip(param_grid.keys(), params))\n",
    "        learner, val_accuracy = evaluate_model(train_dataset, validate_dataset, lr, batch_size, opt_func, n_epochs, losses_file_name, param_dict)\n",
    "        print(f\"Accuracy: {val_accuracy}\")\n",
    "\n",
    "        save_grid_search_result_to_csv(results_file_name, val_accuracy, **param_dict)\n",
    "\n",
    "        if val_accuracy > best_accuracy:\n",
    "            if learner_file_name and val_accuracy > best_accuracy:\n",
    "                torch.save(learner, learner_file_name)\n",
    "            \n",
    "            best_params = params\n",
    "            best_accuracy = val_accuracy\n",
    "\n",
    "    return best_params, best_accuracy"
   ]
  },
  {
   "cell_type": "code",
   "execution_count": 39,
   "id": "3cafed77",
   "metadata": {},
   "outputs": [],
   "source": [
    "param_grid = {\n",
    "    'lr': [0.00075, 0.0015, 0.0025],\n",
    "    'batch_size': [32, 64, 128],\n",
    "    'opt_func': [Adam, SGD],\n",
    "    'n_epochs': [5, 8, 11],\n",
    "    'runs': [1]#1, 2, 3, 4] # try 4 weight initalizations for each  \n",
    "}"
   ]
  },
  {
   "cell_type": "code",
   "execution_count": 40,
   "id": "cd505f69",
   "metadata": {},
   "outputs": [
    {
     "name": "stdout",
     "output_type": "stream",
     "text": [
      "asdf: 0.93\n",
      "Evaluating: lr=0.00075, batch_size=32, opt_func=Adam, n_epochs=5, run=1\n"
     ]
    },
    {
     "data": {
      "text/html": [],
      "text/plain": [
       "<IPython.core.display.HTML object>"
      ]
     },
     "metadata": {},
     "output_type": "display_data"
    },
    {
     "name": "stdout",
     "output_type": "stream",
     "text": [
      "Initial accuracy: 0.0824\n"
     ]
    },
    {
     "data": {
      "text/html": [
       "<table border=\"1\" class=\"dataframe\">\n",
       "  <thead>\n",
       "    <tr style=\"text-align: left;\">\n",
       "      <th>epoch</th>\n",
       "      <th>train_loss</th>\n",
       "      <th>valid_loss</th>\n",
       "      <th>batch_accuracy</th>\n",
       "      <th>time</th>\n",
       "    </tr>\n",
       "  </thead>\n",
       "  <tbody>\n",
       "    <tr>\n",
       "      <td>0</td>\n",
       "      <td>1.535614</td>\n",
       "      <td>1.539427</td>\n",
       "      <td>0.930000</td>\n",
       "      <td>00:10</td>\n",
       "    </tr>\n",
       "    <tr>\n",
       "      <td>1</td>\n",
       "      <td>1.519804</td>\n",
       "      <td>1.533627</td>\n",
       "      <td>0.932300</td>\n",
       "      <td>00:13</td>\n",
       "    </tr>\n",
       "    <tr>\n",
       "      <td>2</td>\n",
       "      <td>1.511335</td>\n",
       "      <td>1.529788</td>\n",
       "      <td>0.937400</td>\n",
       "      <td>00:12</td>\n",
       "    </tr>\n",
       "    <tr>\n",
       "      <td>3</td>\n",
       "      <td>1.505340</td>\n",
       "      <td>1.524768</td>\n",
       "      <td>0.942000</td>\n",
       "      <td>00:12</td>\n",
       "    </tr>\n",
       "    <tr>\n",
       "      <td>4</td>\n",
       "      <td>1.501983</td>\n",
       "      <td>1.519459</td>\n",
       "      <td>0.945800</td>\n",
       "      <td>00:12</td>\n",
       "    </tr>\n",
       "  </tbody>\n",
       "</table>"
      ],
      "text/plain": [
       "<IPython.core.display.HTML object>"
      ]
     },
     "metadata": {},
     "output_type": "display_data"
    },
    {
     "data": {
      "text/html": [],
      "text/plain": [
       "<IPython.core.display.HTML object>"
      ]
     },
     "metadata": {},
     "output_type": "display_data"
    },
    {
     "name": "stdout",
     "output_type": "stream",
     "text": [
      "Accuracy: 0.9458\n",
      "Evaluating: lr=0.00075, batch_size=32, opt_func=Adam, n_epochs=8, run=1\n"
     ]
    },
    {
     "data": {
      "text/html": [],
      "text/plain": [
       "<IPython.core.display.HTML object>"
      ]
     },
     "metadata": {},
     "output_type": "display_data"
    },
    {
     "name": "stdout",
     "output_type": "stream",
     "text": [
      "Initial accuracy: 0.0939\n"
     ]
    },
    {
     "data": {
      "text/html": [
       "<table border=\"1\" class=\"dataframe\">\n",
       "  <thead>\n",
       "    <tr style=\"text-align: left;\">\n",
       "      <th>epoch</th>\n",
       "      <th>train_loss</th>\n",
       "      <th>valid_loss</th>\n",
       "      <th>batch_accuracy</th>\n",
       "      <th>time</th>\n",
       "    </tr>\n",
       "  </thead>\n",
       "  <tbody>\n",
       "    <tr>\n",
       "      <td>0</td>\n",
       "      <td>1.617496</td>\n",
       "      <td>1.620428</td>\n",
       "      <td>0.846100</td>\n",
       "      <td>00:13</td>\n",
       "    </tr>\n",
       "    <tr>\n",
       "      <td>1</td>\n",
       "      <td>1.600259</td>\n",
       "      <td>1.610765</td>\n",
       "      <td>0.853700</td>\n",
       "      <td>00:13</td>\n",
       "    </tr>\n",
       "    <tr>\n",
       "      <td>2</td>\n",
       "      <td>1.511756</td>\n",
       "      <td>1.531845</td>\n",
       "      <td>0.936300</td>\n",
       "      <td>00:12</td>\n",
       "    </tr>\n",
       "    <tr>\n",
       "      <td>3</td>\n",
       "      <td>1.503204</td>\n",
       "      <td>1.521010</td>\n",
       "      <td>0.945600</td>\n",
       "      <td>00:13</td>\n",
       "    </tr>\n",
       "    <tr>\n",
       "      <td>4</td>\n",
       "      <td>1.498313</td>\n",
       "      <td>1.515221</td>\n",
       "      <td>0.949500</td>\n",
       "      <td>00:12</td>\n",
       "    </tr>\n",
       "    <tr>\n",
       "      <td>5</td>\n",
       "      <td>1.495732</td>\n",
       "      <td>1.513543</td>\n",
       "      <td>0.951600</td>\n",
       "      <td>00:13</td>\n",
       "    </tr>\n",
       "    <tr>\n",
       "      <td>6</td>\n",
       "      <td>1.493548</td>\n",
       "      <td>1.513476</td>\n",
       "      <td>0.952200</td>\n",
       "      <td>00:13</td>\n",
       "    </tr>\n",
       "    <tr>\n",
       "      <td>7</td>\n",
       "      <td>1.491832</td>\n",
       "      <td>1.513574</td>\n",
       "      <td>0.952000</td>\n",
       "      <td>00:13</td>\n",
       "    </tr>\n",
       "  </tbody>\n",
       "</table>"
      ],
      "text/plain": [
       "<IPython.core.display.HTML object>"
      ]
     },
     "metadata": {},
     "output_type": "display_data"
    },
    {
     "data": {
      "text/html": [],
      "text/plain": [
       "<IPython.core.display.HTML object>"
      ]
     },
     "metadata": {},
     "output_type": "display_data"
    },
    {
     "name": "stdout",
     "output_type": "stream",
     "text": [
      "Accuracy: 0.952\n",
      "Evaluating: lr=0.00075, batch_size=32, opt_func=Adam, n_epochs=11, run=1\n"
     ]
    },
    {
     "data": {
      "text/html": [],
      "text/plain": [
       "<IPython.core.display.HTML object>"
      ]
     },
     "metadata": {},
     "output_type": "display_data"
    },
    {
     "name": "stdout",
     "output_type": "stream",
     "text": [
      "Initial accuracy: 0.0848\n"
     ]
    },
    {
     "data": {
      "text/html": [
       "<table border=\"1\" class=\"dataframe\">\n",
       "  <thead>\n",
       "    <tr style=\"text-align: left;\">\n",
       "      <th>epoch</th>\n",
       "      <th>train_loss</th>\n",
       "      <th>valid_loss</th>\n",
       "      <th>batch_accuracy</th>\n",
       "      <th>time</th>\n",
       "    </tr>\n",
       "  </thead>\n",
       "  <tbody>\n",
       "    <tr>\n",
       "      <td>0</td>\n",
       "      <td>1.540628</td>\n",
       "      <td>1.543422</td>\n",
       "      <td>0.925600</td>\n",
       "      <td>00:11</td>\n",
       "    </tr>\n",
       "    <tr>\n",
       "      <td>1</td>\n",
       "      <td>1.522550</td>\n",
       "      <td>1.536585</td>\n",
       "      <td>0.930000</td>\n",
       "      <td>00:12</td>\n",
       "    </tr>\n",
       "    <tr>\n",
       "      <td>2</td>\n",
       "      <td>1.513116</td>\n",
       "      <td>1.533127</td>\n",
       "      <td>0.933400</td>\n",
       "      <td>00:12</td>\n",
       "    </tr>\n",
       "    <tr>\n",
       "      <td>3</td>\n",
       "      <td>1.506545</td>\n",
       "      <td>1.526120</td>\n",
       "      <td>0.939700</td>\n",
       "      <td>00:12</td>\n",
       "    </tr>\n",
       "    <tr>\n",
       "      <td>4</td>\n",
       "      <td>1.501491</td>\n",
       "      <td>1.521801</td>\n",
       "      <td>0.944100</td>\n",
       "      <td>00:13</td>\n",
       "    </tr>\n",
       "    <tr>\n",
       "      <td>5</td>\n",
       "      <td>1.498695</td>\n",
       "      <td>1.520218</td>\n",
       "      <td>0.945000</td>\n",
       "      <td>00:13</td>\n",
       "    </tr>\n",
       "    <tr>\n",
       "      <td>6</td>\n",
       "      <td>1.496657</td>\n",
       "      <td>1.519973</td>\n",
       "      <td>0.945600</td>\n",
       "      <td>00:12</td>\n",
       "    </tr>\n",
       "    <tr>\n",
       "      <td>7</td>\n",
       "      <td>1.495351</td>\n",
       "      <td>1.516461</td>\n",
       "      <td>0.947900</td>\n",
       "      <td>00:12</td>\n",
       "    </tr>\n",
       "    <tr>\n",
       "      <td>8</td>\n",
       "      <td>1.493790</td>\n",
       "      <td>1.514872</td>\n",
       "      <td>0.949800</td>\n",
       "      <td>00:12</td>\n",
       "    </tr>\n",
       "    <tr>\n",
       "      <td>9</td>\n",
       "      <td>1.492081</td>\n",
       "      <td>1.514913</td>\n",
       "      <td>0.949300</td>\n",
       "      <td>00:12</td>\n",
       "    </tr>\n",
       "    <tr>\n",
       "      <td>10</td>\n",
       "      <td>1.491194</td>\n",
       "      <td>1.512784</td>\n",
       "      <td>0.951500</td>\n",
       "      <td>00:12</td>\n",
       "    </tr>\n",
       "  </tbody>\n",
       "</table>"
      ],
      "text/plain": [
       "<IPython.core.display.HTML object>"
      ]
     },
     "metadata": {},
     "output_type": "display_data"
    },
    {
     "data": {
      "text/html": [],
      "text/plain": [
       "<IPython.core.display.HTML object>"
      ]
     },
     "metadata": {},
     "output_type": "display_data"
    },
    {
     "name": "stdout",
     "output_type": "stream",
     "text": [
      "Accuracy: 0.9515\n",
      "Evaluating: lr=0.00075, batch_size=32, opt_func=SGD, n_epochs=5, run=1\n"
     ]
    },
    {
     "data": {
      "text/html": [],
      "text/plain": [
       "<IPython.core.display.HTML object>"
      ]
     },
     "metadata": {},
     "output_type": "display_data"
    },
    {
     "name": "stdout",
     "output_type": "stream",
     "text": [
      "Initial accuracy: 0.0893\n"
     ]
    },
    {
     "data": {
      "text/html": [
       "<table border=\"1\" class=\"dataframe\">\n",
       "  <thead>\n",
       "    <tr style=\"text-align: left;\">\n",
       "      <th>epoch</th>\n",
       "      <th>train_loss</th>\n",
       "      <th>valid_loss</th>\n",
       "      <th>batch_accuracy</th>\n",
       "      <th>time</th>\n",
       "    </tr>\n",
       "  </thead>\n",
       "  <tbody>\n",
       "    <tr>\n",
       "      <td>0</td>\n",
       "      <td>2.295703</td>\n",
       "      <td>2.295473</td>\n",
       "      <td>0.210200</td>\n",
       "      <td>00:09</td>\n",
       "    </tr>\n",
       "    <tr>\n",
       "      <td>1</td>\n",
       "      <td>2.283332</td>\n",
       "      <td>2.283237</td>\n",
       "      <td>0.374300</td>\n",
       "      <td>00:11</td>\n",
       "    </tr>\n",
       "    <tr>\n",
       "      <td>2</td>\n",
       "      <td>2.256500</td>\n",
       "      <td>2.256393</td>\n",
       "      <td>0.390700</td>\n",
       "      <td>00:11</td>\n",
       "    </tr>\n",
       "    <tr>\n",
       "      <td>3</td>\n",
       "      <td>2.187222</td>\n",
       "      <td>2.186261</td>\n",
       "      <td>0.371200</td>\n",
       "      <td>00:11</td>\n",
       "    </tr>\n",
       "    <tr>\n",
       "      <td>4</td>\n",
       "      <td>2.107608</td>\n",
       "      <td>2.105795</td>\n",
       "      <td>0.437200</td>\n",
       "      <td>00:11</td>\n",
       "    </tr>\n",
       "  </tbody>\n",
       "</table>"
      ],
      "text/plain": [
       "<IPython.core.display.HTML object>"
      ]
     },
     "metadata": {},
     "output_type": "display_data"
    },
    {
     "data": {
      "text/html": [],
      "text/plain": [
       "<IPython.core.display.HTML object>"
      ]
     },
     "metadata": {},
     "output_type": "display_data"
    },
    {
     "name": "stdout",
     "output_type": "stream",
     "text": [
      "Accuracy: 0.4372\n",
      "Evaluating: lr=0.00075, batch_size=32, opt_func=SGD, n_epochs=8, run=1\n"
     ]
    },
    {
     "data": {
      "text/html": [],
      "text/plain": [
       "<IPython.core.display.HTML object>"
      ]
     },
     "metadata": {},
     "output_type": "display_data"
    },
    {
     "name": "stdout",
     "output_type": "stream",
     "text": [
      "Initial accuracy: 0.0872\n"
     ]
    },
    {
     "data": {
      "text/html": [
       "<table border=\"1\" class=\"dataframe\">\n",
       "  <thead>\n",
       "    <tr style=\"text-align: left;\">\n",
       "      <th>epoch</th>\n",
       "      <th>train_loss</th>\n",
       "      <th>valid_loss</th>\n",
       "      <th>batch_accuracy</th>\n",
       "      <th>time</th>\n",
       "    </tr>\n",
       "  </thead>\n",
       "  <tbody>\n",
       "    <tr>\n",
       "      <td>0</td>\n",
       "      <td>2.292449</td>\n",
       "      <td>2.292812</td>\n",
       "      <td>0.266700</td>\n",
       "      <td>00:11</td>\n",
       "    </tr>\n",
       "    <tr>\n",
       "      <td>1</td>\n",
       "      <td>2.274389</td>\n",
       "      <td>2.274615</td>\n",
       "      <td>0.326200</td>\n",
       "      <td>00:09</td>\n",
       "    </tr>\n",
       "    <tr>\n",
       "      <td>2</td>\n",
       "      <td>2.234092</td>\n",
       "      <td>2.233250</td>\n",
       "      <td>0.339300</td>\n",
       "      <td>00:09</td>\n",
       "    </tr>\n",
       "    <tr>\n",
       "      <td>3</td>\n",
       "      <td>2.181337</td>\n",
       "      <td>2.181445</td>\n",
       "      <td>0.450800</td>\n",
       "      <td>00:10</td>\n",
       "    </tr>\n",
       "    <tr>\n",
       "      <td>4</td>\n",
       "      <td>2.105122</td>\n",
       "      <td>2.107068</td>\n",
       "      <td>0.509400</td>\n",
       "      <td>00:10</td>\n",
       "    </tr>\n",
       "    <tr>\n",
       "      <td>5</td>\n",
       "      <td>2.016402</td>\n",
       "      <td>2.022366</td>\n",
       "      <td>0.545200</td>\n",
       "      <td>00:10</td>\n",
       "    </tr>\n",
       "    <tr>\n",
       "      <td>6</td>\n",
       "      <td>1.955531</td>\n",
       "      <td>1.961445</td>\n",
       "      <td>0.615000</td>\n",
       "      <td>00:09</td>\n",
       "    </tr>\n",
       "    <tr>\n",
       "      <td>7</td>\n",
       "      <td>1.894210</td>\n",
       "      <td>1.900136</td>\n",
       "      <td>0.654600</td>\n",
       "      <td>00:09</td>\n",
       "    </tr>\n",
       "  </tbody>\n",
       "</table>"
      ],
      "text/plain": [
       "<IPython.core.display.HTML object>"
      ]
     },
     "metadata": {},
     "output_type": "display_data"
    },
    {
     "data": {
      "text/html": [],
      "text/plain": [
       "<IPython.core.display.HTML object>"
      ]
     },
     "metadata": {},
     "output_type": "display_data"
    },
    {
     "name": "stdout",
     "output_type": "stream",
     "text": [
      "Accuracy: 0.6546\n",
      "Evaluating: lr=0.00075, batch_size=32, opt_func=SGD, n_epochs=11, run=1\n"
     ]
    },
    {
     "data": {
      "text/html": [],
      "text/plain": [
       "<IPython.core.display.HTML object>"
      ]
     },
     "metadata": {},
     "output_type": "display_data"
    },
    {
     "name": "stdout",
     "output_type": "stream",
     "text": [
      "Initial accuracy: 0.0932\n"
     ]
    },
    {
     "data": {
      "text/html": [
       "<table border=\"1\" class=\"dataframe\">\n",
       "  <thead>\n",
       "    <tr style=\"text-align: left;\">\n",
       "      <th>epoch</th>\n",
       "      <th>train_loss</th>\n",
       "      <th>valid_loss</th>\n",
       "      <th>batch_accuracy</th>\n",
       "      <th>time</th>\n",
       "    </tr>\n",
       "  </thead>\n",
       "  <tbody>\n",
       "    <tr>\n",
       "      <td>0</td>\n",
       "      <td>2.295434</td>\n",
       "      <td>2.295920</td>\n",
       "      <td>0.292800</td>\n",
       "      <td>00:09</td>\n",
       "    </tr>\n",
       "    <tr>\n",
       "      <td>1</td>\n",
       "      <td>2.282688</td>\n",
       "      <td>2.283321</td>\n",
       "      <td>0.366600</td>\n",
       "      <td>00:09</td>\n",
       "    </tr>\n",
       "    <tr>\n",
       "      <td>2</td>\n",
       "      <td>2.253072</td>\n",
       "      <td>2.253545</td>\n",
       "      <td>0.319300</td>\n",
       "      <td>00:09</td>\n",
       "    </tr>\n",
       "    <tr>\n",
       "      <td>3</td>\n",
       "      <td>2.194600</td>\n",
       "      <td>2.193788</td>\n",
       "      <td>0.347800</td>\n",
       "      <td>00:09</td>\n",
       "    </tr>\n",
       "    <tr>\n",
       "      <td>4</td>\n",
       "      <td>2.125431</td>\n",
       "      <td>2.124348</td>\n",
       "      <td>0.408600</td>\n",
       "      <td>00:09</td>\n",
       "    </tr>\n",
       "    <tr>\n",
       "      <td>5</td>\n",
       "      <td>2.055495</td>\n",
       "      <td>2.054794</td>\n",
       "      <td>0.464500</td>\n",
       "      <td>00:09</td>\n",
       "    </tr>\n",
       "    <tr>\n",
       "      <td>6</td>\n",
       "      <td>2.000619</td>\n",
       "      <td>1.998910</td>\n",
       "      <td>0.524900</td>\n",
       "      <td>00:09</td>\n",
       "    </tr>\n",
       "    <tr>\n",
       "      <td>7</td>\n",
       "      <td>1.942325</td>\n",
       "      <td>1.938738</td>\n",
       "      <td>0.613100</td>\n",
       "      <td>00:09</td>\n",
       "    </tr>\n",
       "    <tr>\n",
       "      <td>8</td>\n",
       "      <td>1.905895</td>\n",
       "      <td>1.899280</td>\n",
       "      <td>0.627900</td>\n",
       "      <td>00:09</td>\n",
       "    </tr>\n",
       "    <tr>\n",
       "      <td>9</td>\n",
       "      <td>1.883404</td>\n",
       "      <td>1.874516</td>\n",
       "      <td>0.636100</td>\n",
       "      <td>00:09</td>\n",
       "    </tr>\n",
       "    <tr>\n",
       "      <td>10</td>\n",
       "      <td>1.867351</td>\n",
       "      <td>1.856969</td>\n",
       "      <td>0.642300</td>\n",
       "      <td>00:09</td>\n",
       "    </tr>\n",
       "  </tbody>\n",
       "</table>"
      ],
      "text/plain": [
       "<IPython.core.display.HTML object>"
      ]
     },
     "metadata": {},
     "output_type": "display_data"
    },
    {
     "data": {
      "text/html": [],
      "text/plain": [
       "<IPython.core.display.HTML object>"
      ]
     },
     "metadata": {},
     "output_type": "display_data"
    },
    {
     "name": "stdout",
     "output_type": "stream",
     "text": [
      "Accuracy: 0.6423\n",
      "Evaluating: lr=0.00075, batch_size=64, opt_func=Adam, n_epochs=5, run=1\n"
     ]
    },
    {
     "data": {
      "text/html": [],
      "text/plain": [
       "<IPython.core.display.HTML object>"
      ]
     },
     "metadata": {},
     "output_type": "display_data"
    },
    {
     "name": "stdout",
     "output_type": "stream",
     "text": [
      "Initial accuracy: 0.1045\n"
     ]
    },
    {
     "data": {
      "text/html": [
       "<table border=\"1\" class=\"dataframe\">\n",
       "  <thead>\n",
       "    <tr style=\"text-align: left;\">\n",
       "      <th>epoch</th>\n",
       "      <th>train_loss</th>\n",
       "      <th>valid_loss</th>\n",
       "      <th>batch_accuracy</th>\n",
       "      <th>time</th>\n",
       "    </tr>\n",
       "  </thead>\n",
       "  <tbody>\n",
       "    <tr>\n",
       "      <td>0</td>\n",
       "      <td>1.544963</td>\n",
       "      <td>1.547199</td>\n",
       "      <td>0.923100</td>\n",
       "      <td>00:06</td>\n",
       "    </tr>\n",
       "    <tr>\n",
       "      <td>1</td>\n",
       "      <td>1.526981</td>\n",
       "      <td>1.537419</td>\n",
       "      <td>0.929900</td>\n",
       "      <td>00:06</td>\n",
       "    </tr>\n",
       "    <tr>\n",
       "      <td>2</td>\n",
       "      <td>1.516767</td>\n",
       "      <td>1.532968</td>\n",
       "      <td>0.932400</td>\n",
       "      <td>00:06</td>\n",
       "    </tr>\n",
       "    <tr>\n",
       "      <td>3</td>\n",
       "      <td>1.510657</td>\n",
       "      <td>1.527153</td>\n",
       "      <td>0.938700</td>\n",
       "      <td>00:06</td>\n",
       "    </tr>\n",
       "    <tr>\n",
       "      <td>4</td>\n",
       "      <td>1.506317</td>\n",
       "      <td>1.523752</td>\n",
       "      <td>0.941900</td>\n",
       "      <td>00:06</td>\n",
       "    </tr>\n",
       "  </tbody>\n",
       "</table>"
      ],
      "text/plain": [
       "<IPython.core.display.HTML object>"
      ]
     },
     "metadata": {},
     "output_type": "display_data"
    },
    {
     "data": {
      "text/html": [],
      "text/plain": [
       "<IPython.core.display.HTML object>"
      ]
     },
     "metadata": {},
     "output_type": "display_data"
    },
    {
     "name": "stdout",
     "output_type": "stream",
     "text": [
      "Accuracy: 0.9419\n",
      "Evaluating: lr=0.00075, batch_size=64, opt_func=Adam, n_epochs=8, run=1\n"
     ]
    },
    {
     "data": {
      "text/html": [],
      "text/plain": [
       "<IPython.core.display.HTML object>"
      ]
     },
     "metadata": {},
     "output_type": "display_data"
    },
    {
     "name": "stdout",
     "output_type": "stream",
     "text": [
      "Initial accuracy: 0.107\n"
     ]
    },
    {
     "data": {
      "text/html": [
       "<table border=\"1\" class=\"dataframe\">\n",
       "  <thead>\n",
       "    <tr style=\"text-align: left;\">\n",
       "      <th>epoch</th>\n",
       "      <th>train_loss</th>\n",
       "      <th>valid_loss</th>\n",
       "      <th>batch_accuracy</th>\n",
       "      <th>time</th>\n",
       "    </tr>\n",
       "  </thead>\n",
       "  <tbody>\n",
       "    <tr>\n",
       "      <td>0</td>\n",
       "      <td>1.544109</td>\n",
       "      <td>1.545300</td>\n",
       "      <td>0.926800</td>\n",
       "      <td>00:06</td>\n",
       "    </tr>\n",
       "    <tr>\n",
       "      <td>1</td>\n",
       "      <td>1.528115</td>\n",
       "      <td>1.536265</td>\n",
       "      <td>0.931000</td>\n",
       "      <td>00:06</td>\n",
       "    </tr>\n",
       "    <tr>\n",
       "      <td>2</td>\n",
       "      <td>1.519369</td>\n",
       "      <td>1.533468</td>\n",
       "      <td>0.933200</td>\n",
       "      <td>00:06</td>\n",
       "    </tr>\n",
       "    <tr>\n",
       "      <td>3</td>\n",
       "      <td>1.513024</td>\n",
       "      <td>1.530110</td>\n",
       "      <td>0.935500</td>\n",
       "      <td>00:06</td>\n",
       "    </tr>\n",
       "    <tr>\n",
       "      <td>4</td>\n",
       "      <td>1.509207</td>\n",
       "      <td>1.527729</td>\n",
       "      <td>0.937200</td>\n",
       "      <td>00:06</td>\n",
       "    </tr>\n",
       "    <tr>\n",
       "      <td>5</td>\n",
       "      <td>1.505481</td>\n",
       "      <td>1.522134</td>\n",
       "      <td>0.943800</td>\n",
       "      <td>00:06</td>\n",
       "    </tr>\n",
       "    <tr>\n",
       "      <td>6</td>\n",
       "      <td>1.502344</td>\n",
       "      <td>1.518291</td>\n",
       "      <td>0.946400</td>\n",
       "      <td>00:06</td>\n",
       "    </tr>\n",
       "    <tr>\n",
       "      <td>7</td>\n",
       "      <td>1.499589</td>\n",
       "      <td>1.516505</td>\n",
       "      <td>0.948400</td>\n",
       "      <td>00:06</td>\n",
       "    </tr>\n",
       "  </tbody>\n",
       "</table>"
      ],
      "text/plain": [
       "<IPython.core.display.HTML object>"
      ]
     },
     "metadata": {},
     "output_type": "display_data"
    },
    {
     "data": {
      "text/html": [],
      "text/plain": [
       "<IPython.core.display.HTML object>"
      ]
     },
     "metadata": {},
     "output_type": "display_data"
    },
    {
     "name": "stdout",
     "output_type": "stream",
     "text": [
      "Accuracy: 0.9484\n",
      "Evaluating: lr=0.00075, batch_size=64, opt_func=Adam, n_epochs=11, run=1\n"
     ]
    },
    {
     "data": {
      "text/html": [],
      "text/plain": [
       "<IPython.core.display.HTML object>"
      ]
     },
     "metadata": {},
     "output_type": "display_data"
    },
    {
     "name": "stdout",
     "output_type": "stream",
     "text": [
      "Initial accuracy: 0.0793\n"
     ]
    },
    {
     "data": {
      "text/html": [
       "<table border=\"1\" class=\"dataframe\">\n",
       "  <thead>\n",
       "    <tr style=\"text-align: left;\">\n",
       "      <th>epoch</th>\n",
       "      <th>train_loss</th>\n",
       "      <th>valid_loss</th>\n",
       "      <th>batch_accuracy</th>\n",
       "      <th>time</th>\n",
       "    </tr>\n",
       "  </thead>\n",
       "  <tbody>\n",
       "    <tr>\n",
       "      <td>0</td>\n",
       "      <td>1.546465</td>\n",
       "      <td>1.551004</td>\n",
       "      <td>0.919300</td>\n",
       "      <td>00:06</td>\n",
       "    </tr>\n",
       "    <tr>\n",
       "      <td>1</td>\n",
       "      <td>1.528641</td>\n",
       "      <td>1.536310</td>\n",
       "      <td>0.931200</td>\n",
       "      <td>00:06</td>\n",
       "    </tr>\n",
       "    <tr>\n",
       "      <td>2</td>\n",
       "      <td>1.518989</td>\n",
       "      <td>1.529846</td>\n",
       "      <td>0.937500</td>\n",
       "      <td>00:06</td>\n",
       "    </tr>\n",
       "    <tr>\n",
       "      <td>3</td>\n",
       "      <td>1.512324</td>\n",
       "      <td>1.525514</td>\n",
       "      <td>0.942100</td>\n",
       "      <td>00:06</td>\n",
       "    </tr>\n",
       "    <tr>\n",
       "      <td>4</td>\n",
       "      <td>1.507719</td>\n",
       "      <td>1.520101</td>\n",
       "      <td>0.946200</td>\n",
       "      <td>00:06</td>\n",
       "    </tr>\n",
       "    <tr>\n",
       "      <td>5</td>\n",
       "      <td>1.504193</td>\n",
       "      <td>1.516165</td>\n",
       "      <td>0.950100</td>\n",
       "      <td>00:06</td>\n",
       "    </tr>\n",
       "    <tr>\n",
       "      <td>6</td>\n",
       "      <td>1.501672</td>\n",
       "      <td>1.513893</td>\n",
       "      <td>0.951400</td>\n",
       "      <td>00:06</td>\n",
       "    </tr>\n",
       "    <tr>\n",
       "      <td>7</td>\n",
       "      <td>1.498608</td>\n",
       "      <td>1.511398</td>\n",
       "      <td>0.954700</td>\n",
       "      <td>00:06</td>\n",
       "    </tr>\n",
       "    <tr>\n",
       "      <td>8</td>\n",
       "      <td>1.496116</td>\n",
       "      <td>1.511012</td>\n",
       "      <td>0.954000</td>\n",
       "      <td>00:06</td>\n",
       "    </tr>\n",
       "    <tr>\n",
       "      <td>9</td>\n",
       "      <td>1.493827</td>\n",
       "      <td>1.509524</td>\n",
       "      <td>0.955800</td>\n",
       "      <td>00:07</td>\n",
       "    </tr>\n",
       "    <tr>\n",
       "      <td>10</td>\n",
       "      <td>1.491913</td>\n",
       "      <td>1.507309</td>\n",
       "      <td>0.957800</td>\n",
       "      <td>00:06</td>\n",
       "    </tr>\n",
       "  </tbody>\n",
       "</table>"
      ],
      "text/plain": [
       "<IPython.core.display.HTML object>"
      ]
     },
     "metadata": {},
     "output_type": "display_data"
    },
    {
     "data": {
      "text/html": [],
      "text/plain": [
       "<IPython.core.display.HTML object>"
      ]
     },
     "metadata": {},
     "output_type": "display_data"
    },
    {
     "name": "stdout",
     "output_type": "stream",
     "text": [
      "Accuracy: 0.9578\n",
      "Evaluating: lr=0.00075, batch_size=64, opt_func=SGD, n_epochs=5, run=1\n"
     ]
    },
    {
     "data": {
      "text/html": [],
      "text/plain": [
       "<IPython.core.display.HTML object>"
      ]
     },
     "metadata": {},
     "output_type": "display_data"
    },
    {
     "name": "stdout",
     "output_type": "stream",
     "text": [
      "Initial accuracy: 0.1008\n"
     ]
    },
    {
     "data": {
      "text/html": [
       "<table border=\"1\" class=\"dataframe\">\n",
       "  <thead>\n",
       "    <tr style=\"text-align: left;\">\n",
       "      <th>epoch</th>\n",
       "      <th>train_loss</th>\n",
       "      <th>valid_loss</th>\n",
       "      <th>batch_accuracy</th>\n",
       "      <th>time</th>\n",
       "    </tr>\n",
       "  </thead>\n",
       "  <tbody>\n",
       "    <tr>\n",
       "      <td>0</td>\n",
       "      <td>2.297466</td>\n",
       "      <td>2.297819</td>\n",
       "      <td>0.101300</td>\n",
       "      <td>00:04</td>\n",
       "    </tr>\n",
       "    <tr>\n",
       "      <td>1</td>\n",
       "      <td>2.292346</td>\n",
       "      <td>2.292846</td>\n",
       "      <td>0.148600</td>\n",
       "      <td>00:04</td>\n",
       "    </tr>\n",
       "    <tr>\n",
       "      <td>2</td>\n",
       "      <td>2.285582</td>\n",
       "      <td>2.286260</td>\n",
       "      <td>0.338100</td>\n",
       "      <td>00:05</td>\n",
       "    </tr>\n",
       "    <tr>\n",
       "      <td>3</td>\n",
       "      <td>2.276310</td>\n",
       "      <td>2.277245</td>\n",
       "      <td>0.442200</td>\n",
       "      <td>00:05</td>\n",
       "    </tr>\n",
       "    <tr>\n",
       "      <td>4</td>\n",
       "      <td>2.262004</td>\n",
       "      <td>2.263268</td>\n",
       "      <td>0.465800</td>\n",
       "      <td>00:05</td>\n",
       "    </tr>\n",
       "  </tbody>\n",
       "</table>"
      ],
      "text/plain": [
       "<IPython.core.display.HTML object>"
      ]
     },
     "metadata": {},
     "output_type": "display_data"
    },
    {
     "data": {
      "text/html": [],
      "text/plain": [
       "<IPython.core.display.HTML object>"
      ]
     },
     "metadata": {},
     "output_type": "display_data"
    },
    {
     "name": "stdout",
     "output_type": "stream",
     "text": [
      "Accuracy: 0.4658\n",
      "Evaluating: lr=0.00075, batch_size=64, opt_func=SGD, n_epochs=8, run=1\n"
     ]
    },
    {
     "data": {
      "text/html": [],
      "text/plain": [
       "<IPython.core.display.HTML object>"
      ]
     },
     "metadata": {},
     "output_type": "display_data"
    },
    {
     "name": "stdout",
     "output_type": "stream",
     "text": [
      "Initial accuracy: 0.0775\n"
     ]
    },
    {
     "data": {
      "text/html": [
       "<table border=\"1\" class=\"dataframe\">\n",
       "  <thead>\n",
       "    <tr style=\"text-align: left;\">\n",
       "      <th>epoch</th>\n",
       "      <th>train_loss</th>\n",
       "      <th>valid_loss</th>\n",
       "      <th>batch_accuracy</th>\n",
       "      <th>time</th>\n",
       "    </tr>\n",
       "  </thead>\n",
       "  <tbody>\n",
       "    <tr>\n",
       "      <td>0</td>\n",
       "      <td>2.299404</td>\n",
       "      <td>2.299497</td>\n",
       "      <td>0.167600</td>\n",
       "      <td>00:05</td>\n",
       "    </tr>\n",
       "    <tr>\n",
       "      <td>1</td>\n",
       "      <td>2.295480</td>\n",
       "      <td>2.295546</td>\n",
       "      <td>0.282900</td>\n",
       "      <td>00:05</td>\n",
       "    </tr>\n",
       "    <tr>\n",
       "      <td>2</td>\n",
       "      <td>2.290393</td>\n",
       "      <td>2.290443</td>\n",
       "      <td>0.346100</td>\n",
       "      <td>00:05</td>\n",
       "    </tr>\n",
       "    <tr>\n",
       "      <td>3</td>\n",
       "      <td>2.283743</td>\n",
       "      <td>2.283788</td>\n",
       "      <td>0.371500</td>\n",
       "      <td>00:06</td>\n",
       "    </tr>\n",
       "    <tr>\n",
       "      <td>4</td>\n",
       "      <td>2.274482</td>\n",
       "      <td>2.274511</td>\n",
       "      <td>0.385400</td>\n",
       "      <td>00:06</td>\n",
       "    </tr>\n",
       "    <tr>\n",
       "      <td>5</td>\n",
       "      <td>2.259947</td>\n",
       "      <td>2.259918</td>\n",
       "      <td>0.386300</td>\n",
       "      <td>00:06</td>\n",
       "    </tr>\n",
       "    <tr>\n",
       "      <td>6</td>\n",
       "      <td>2.236176</td>\n",
       "      <td>2.235852</td>\n",
       "      <td>0.381600</td>\n",
       "      <td>00:05</td>\n",
       "    </tr>\n",
       "    <tr>\n",
       "      <td>7</td>\n",
       "      <td>2.204767</td>\n",
       "      <td>2.204611</td>\n",
       "      <td>0.401500</td>\n",
       "      <td>00:05</td>\n",
       "    </tr>\n",
       "  </tbody>\n",
       "</table>"
      ],
      "text/plain": [
       "<IPython.core.display.HTML object>"
      ]
     },
     "metadata": {},
     "output_type": "display_data"
    },
    {
     "data": {
      "text/html": [],
      "text/plain": [
       "<IPython.core.display.HTML object>"
      ]
     },
     "metadata": {},
     "output_type": "display_data"
    },
    {
     "name": "stdout",
     "output_type": "stream",
     "text": [
      "Accuracy: 0.4015\n",
      "Evaluating: lr=0.00075, batch_size=64, opt_func=SGD, n_epochs=11, run=1\n"
     ]
    },
    {
     "data": {
      "text/html": [],
      "text/plain": [
       "<IPython.core.display.HTML object>"
      ]
     },
     "metadata": {},
     "output_type": "display_data"
    },
    {
     "name": "stdout",
     "output_type": "stream",
     "text": [
      "Initial accuracy: 0.0628\n"
     ]
    },
    {
     "data": {
      "text/html": [
       "<table border=\"1\" class=\"dataframe\">\n",
       "  <thead>\n",
       "    <tr style=\"text-align: left;\">\n",
       "      <th>epoch</th>\n",
       "      <th>train_loss</th>\n",
       "      <th>valid_loss</th>\n",
       "      <th>batch_accuracy</th>\n",
       "      <th>time</th>\n",
       "    </tr>\n",
       "  </thead>\n",
       "  <tbody>\n",
       "    <tr>\n",
       "      <td>0</td>\n",
       "      <td>2.299382</td>\n",
       "      <td>2.299414</td>\n",
       "      <td>0.149200</td>\n",
       "      <td>00:05</td>\n",
       "    </tr>\n",
       "    <tr>\n",
       "      <td>1</td>\n",
       "      <td>2.293843</td>\n",
       "      <td>2.294123</td>\n",
       "      <td>0.224400</td>\n",
       "      <td>00:05</td>\n",
       "    </tr>\n",
       "    <tr>\n",
       "      <td>2</td>\n",
       "      <td>2.285680</td>\n",
       "      <td>2.286015</td>\n",
       "      <td>0.261500</td>\n",
       "      <td>00:05</td>\n",
       "    </tr>\n",
       "    <tr>\n",
       "      <td>3</td>\n",
       "      <td>2.272491</td>\n",
       "      <td>2.272595</td>\n",
       "      <td>0.271500</td>\n",
       "      <td>00:05</td>\n",
       "    </tr>\n",
       "    <tr>\n",
       "      <td>4</td>\n",
       "      <td>2.252041</td>\n",
       "      <td>2.251549</td>\n",
       "      <td>0.273300</td>\n",
       "      <td>00:05</td>\n",
       "    </tr>\n",
       "    <tr>\n",
       "      <td>5</td>\n",
       "      <td>2.230345</td>\n",
       "      <td>2.229907</td>\n",
       "      <td>0.267900</td>\n",
       "      <td>00:05</td>\n",
       "    </tr>\n",
       "    <tr>\n",
       "      <td>6</td>\n",
       "      <td>2.208653</td>\n",
       "      <td>2.209422</td>\n",
       "      <td>0.259600</td>\n",
       "      <td>00:05</td>\n",
       "    </tr>\n",
       "    <tr>\n",
       "      <td>7</td>\n",
       "      <td>2.188254</td>\n",
       "      <td>2.190163</td>\n",
       "      <td>0.291100</td>\n",
       "      <td>00:05</td>\n",
       "    </tr>\n",
       "    <tr>\n",
       "      <td>8</td>\n",
       "      <td>2.167048</td>\n",
       "      <td>2.169756</td>\n",
       "      <td>0.351300</td>\n",
       "      <td>00:05</td>\n",
       "    </tr>\n",
       "    <tr>\n",
       "      <td>9</td>\n",
       "      <td>2.139349</td>\n",
       "      <td>2.142834</td>\n",
       "      <td>0.388700</td>\n",
       "      <td>00:04</td>\n",
       "    </tr>\n",
       "    <tr>\n",
       "      <td>10</td>\n",
       "      <td>2.104964</td>\n",
       "      <td>2.108891</td>\n",
       "      <td>0.395900</td>\n",
       "      <td>00:05</td>\n",
       "    </tr>\n",
       "  </tbody>\n",
       "</table>"
      ],
      "text/plain": [
       "<IPython.core.display.HTML object>"
      ]
     },
     "metadata": {},
     "output_type": "display_data"
    },
    {
     "data": {
      "text/html": [],
      "text/plain": [
       "<IPython.core.display.HTML object>"
      ]
     },
     "metadata": {},
     "output_type": "display_data"
    },
    {
     "name": "stdout",
     "output_type": "stream",
     "text": [
      "Accuracy: 0.3959\n",
      "Evaluating: lr=0.00075, batch_size=128, opt_func=Adam, n_epochs=5, run=1\n"
     ]
    },
    {
     "data": {
      "text/html": [],
      "text/plain": [
       "<IPython.core.display.HTML object>"
      ]
     },
     "metadata": {},
     "output_type": "display_data"
    },
    {
     "name": "stdout",
     "output_type": "stream",
     "text": [
      "Initial accuracy: 0.0854\n"
     ]
    },
    {
     "data": {
      "text/html": [
       "<table border=\"1\" class=\"dataframe\">\n",
       "  <thead>\n",
       "    <tr style=\"text-align: left;\">\n",
       "      <th>epoch</th>\n",
       "      <th>train_loss</th>\n",
       "      <th>valid_loss</th>\n",
       "      <th>batch_accuracy</th>\n",
       "      <th>time</th>\n",
       "    </tr>\n",
       "  </thead>\n",
       "  <tbody>\n",
       "    <tr>\n",
       "      <td>0</td>\n",
       "      <td>1.554136</td>\n",
       "      <td>1.557516</td>\n",
       "      <td>0.914100</td>\n",
       "      <td>00:03</td>\n",
       "    </tr>\n",
       "    <tr>\n",
       "      <td>1</td>\n",
       "      <td>1.535932</td>\n",
       "      <td>1.542907</td>\n",
       "      <td>0.925300</td>\n",
       "      <td>00:03</td>\n",
       "    </tr>\n",
       "    <tr>\n",
       "      <td>2</td>\n",
       "      <td>1.526518</td>\n",
       "      <td>1.539171</td>\n",
       "      <td>0.928500</td>\n",
       "      <td>00:03</td>\n",
       "    </tr>\n",
       "    <tr>\n",
       "      <td>3</td>\n",
       "      <td>1.520392</td>\n",
       "      <td>1.535042</td>\n",
       "      <td>0.931200</td>\n",
       "      <td>00:03</td>\n",
       "    </tr>\n",
       "    <tr>\n",
       "      <td>4</td>\n",
       "      <td>1.515306</td>\n",
       "      <td>1.530740</td>\n",
       "      <td>0.935700</td>\n",
       "      <td>00:03</td>\n",
       "    </tr>\n",
       "  </tbody>\n",
       "</table>"
      ],
      "text/plain": [
       "<IPython.core.display.HTML object>"
      ]
     },
     "metadata": {},
     "output_type": "display_data"
    },
    {
     "data": {
      "text/html": [],
      "text/plain": [
       "<IPython.core.display.HTML object>"
      ]
     },
     "metadata": {},
     "output_type": "display_data"
    },
    {
     "name": "stdout",
     "output_type": "stream",
     "text": [
      "Accuracy: 0.9357\n",
      "Evaluating: lr=0.00075, batch_size=128, opt_func=Adam, n_epochs=8, run=1\n"
     ]
    },
    {
     "data": {
      "text/html": [],
      "text/plain": [
       "<IPython.core.display.HTML object>"
      ]
     },
     "metadata": {},
     "output_type": "display_data"
    },
    {
     "name": "stdout",
     "output_type": "stream",
     "text": [
      "Initial accuracy: 0.1539\n"
     ]
    },
    {
     "data": {
      "text/html": [
       "<table border=\"1\" class=\"dataframe\">\n",
       "  <thead>\n",
       "    <tr style=\"text-align: left;\">\n",
       "      <th>epoch</th>\n",
       "      <th>train_loss</th>\n",
       "      <th>valid_loss</th>\n",
       "      <th>batch_accuracy</th>\n",
       "      <th>time</th>\n",
       "    </tr>\n",
       "  </thead>\n",
       "  <tbody>\n",
       "    <tr>\n",
       "      <td>0</td>\n",
       "      <td>1.556561</td>\n",
       "      <td>1.560171</td>\n",
       "      <td>0.912900</td>\n",
       "      <td>00:03</td>\n",
       "    </tr>\n",
       "    <tr>\n",
       "      <td>1</td>\n",
       "      <td>1.540650</td>\n",
       "      <td>1.547032</td>\n",
       "      <td>0.921500</td>\n",
       "      <td>00:03</td>\n",
       "    </tr>\n",
       "    <tr>\n",
       "      <td>2</td>\n",
       "      <td>1.531084</td>\n",
       "      <td>1.541278</td>\n",
       "      <td>0.927000</td>\n",
       "      <td>00:03</td>\n",
       "    </tr>\n",
       "    <tr>\n",
       "      <td>3</td>\n",
       "      <td>1.523786</td>\n",
       "      <td>1.537815</td>\n",
       "      <td>0.928400</td>\n",
       "      <td>00:03</td>\n",
       "    </tr>\n",
       "    <tr>\n",
       "      <td>4</td>\n",
       "      <td>1.517962</td>\n",
       "      <td>1.533576</td>\n",
       "      <td>0.930900</td>\n",
       "      <td>00:03</td>\n",
       "    </tr>\n",
       "    <tr>\n",
       "      <td>5</td>\n",
       "      <td>1.513321</td>\n",
       "      <td>1.528324</td>\n",
       "      <td>0.936600</td>\n",
       "      <td>00:03</td>\n",
       "    </tr>\n",
       "    <tr>\n",
       "      <td>6</td>\n",
       "      <td>1.509716</td>\n",
       "      <td>1.525021</td>\n",
       "      <td>0.939800</td>\n",
       "      <td>00:03</td>\n",
       "    </tr>\n",
       "    <tr>\n",
       "      <td>7</td>\n",
       "      <td>1.506636</td>\n",
       "      <td>1.522370</td>\n",
       "      <td>0.943200</td>\n",
       "      <td>00:03</td>\n",
       "    </tr>\n",
       "  </tbody>\n",
       "</table>"
      ],
      "text/plain": [
       "<IPython.core.display.HTML object>"
      ]
     },
     "metadata": {},
     "output_type": "display_data"
    },
    {
     "data": {
      "text/html": [],
      "text/plain": [
       "<IPython.core.display.HTML object>"
      ]
     },
     "metadata": {},
     "output_type": "display_data"
    },
    {
     "name": "stdout",
     "output_type": "stream",
     "text": [
      "Accuracy: 0.9432\n",
      "Evaluating: lr=0.00075, batch_size=128, opt_func=Adam, n_epochs=11, run=1\n"
     ]
    },
    {
     "data": {
      "text/html": [],
      "text/plain": [
       "<IPython.core.display.HTML object>"
      ]
     },
     "metadata": {},
     "output_type": "display_data"
    },
    {
     "name": "stdout",
     "output_type": "stream",
     "text": [
      "Initial accuracy: 0.1073\n"
     ]
    },
    {
     "data": {
      "text/html": [
       "<table border=\"1\" class=\"dataframe\">\n",
       "  <thead>\n",
       "    <tr style=\"text-align: left;\">\n",
       "      <th>epoch</th>\n",
       "      <th>train_loss</th>\n",
       "      <th>valid_loss</th>\n",
       "      <th>batch_accuracy</th>\n",
       "      <th>time</th>\n",
       "    </tr>\n",
       "  </thead>\n",
       "  <tbody>\n",
       "    <tr>\n",
       "      <td>0</td>\n",
       "      <td>1.554976</td>\n",
       "      <td>1.557840</td>\n",
       "      <td>0.913800</td>\n",
       "      <td>00:03</td>\n",
       "    </tr>\n",
       "    <tr>\n",
       "      <td>1</td>\n",
       "      <td>1.538059</td>\n",
       "      <td>1.544496</td>\n",
       "      <td>0.924900</td>\n",
       "      <td>00:03</td>\n",
       "    </tr>\n",
       "    <tr>\n",
       "      <td>2</td>\n",
       "      <td>1.527522</td>\n",
       "      <td>1.540360</td>\n",
       "      <td>0.928100</td>\n",
       "      <td>00:03</td>\n",
       "    </tr>\n",
       "    <tr>\n",
       "      <td>3</td>\n",
       "      <td>1.519434</td>\n",
       "      <td>1.535572</td>\n",
       "      <td>0.931300</td>\n",
       "      <td>00:03</td>\n",
       "    </tr>\n",
       "    <tr>\n",
       "      <td>4</td>\n",
       "      <td>1.513496</td>\n",
       "      <td>1.532189</td>\n",
       "      <td>0.934200</td>\n",
       "      <td>00:03</td>\n",
       "    </tr>\n",
       "    <tr>\n",
       "      <td>5</td>\n",
       "      <td>1.508943</td>\n",
       "      <td>1.527319</td>\n",
       "      <td>0.938600</td>\n",
       "      <td>00:03</td>\n",
       "    </tr>\n",
       "    <tr>\n",
       "      <td>6</td>\n",
       "      <td>1.505814</td>\n",
       "      <td>1.523372</td>\n",
       "      <td>0.942200</td>\n",
       "      <td>00:03</td>\n",
       "    </tr>\n",
       "    <tr>\n",
       "      <td>7</td>\n",
       "      <td>1.503367</td>\n",
       "      <td>1.522039</td>\n",
       "      <td>0.943800</td>\n",
       "      <td>00:03</td>\n",
       "    </tr>\n",
       "    <tr>\n",
       "      <td>8</td>\n",
       "      <td>1.501350</td>\n",
       "      <td>1.521570</td>\n",
       "      <td>0.943300</td>\n",
       "      <td>00:03</td>\n",
       "    </tr>\n",
       "    <tr>\n",
       "      <td>9</td>\n",
       "      <td>1.499648</td>\n",
       "      <td>1.520080</td>\n",
       "      <td>0.943700</td>\n",
       "      <td>00:03</td>\n",
       "    </tr>\n",
       "    <tr>\n",
       "      <td>10</td>\n",
       "      <td>1.498045</td>\n",
       "      <td>1.517237</td>\n",
       "      <td>0.947100</td>\n",
       "      <td>00:03</td>\n",
       "    </tr>\n",
       "  </tbody>\n",
       "</table>"
      ],
      "text/plain": [
       "<IPython.core.display.HTML object>"
      ]
     },
     "metadata": {},
     "output_type": "display_data"
    },
    {
     "data": {
      "text/html": [],
      "text/plain": [
       "<IPython.core.display.HTML object>"
      ]
     },
     "metadata": {},
     "output_type": "display_data"
    },
    {
     "name": "stdout",
     "output_type": "stream",
     "text": [
      "Accuracy: 0.9471\n",
      "Evaluating: lr=0.00075, batch_size=128, opt_func=SGD, n_epochs=5, run=1\n"
     ]
    },
    {
     "data": {
      "text/html": [],
      "text/plain": [
       "<IPython.core.display.HTML object>"
      ]
     },
     "metadata": {},
     "output_type": "display_data"
    },
    {
     "name": "stdout",
     "output_type": "stream",
     "text": [
      "Initial accuracy: 0.1236\n"
     ]
    },
    {
     "data": {
      "text/html": [
       "<table border=\"1\" class=\"dataframe\">\n",
       "  <thead>\n",
       "    <tr style=\"text-align: left;\">\n",
       "      <th>epoch</th>\n",
       "      <th>train_loss</th>\n",
       "      <th>valid_loss</th>\n",
       "      <th>batch_accuracy</th>\n",
       "      <th>time</th>\n",
       "    </tr>\n",
       "  </thead>\n",
       "  <tbody>\n",
       "    <tr>\n",
       "      <td>0</td>\n",
       "      <td>2.301168</td>\n",
       "      <td>2.301487</td>\n",
       "      <td>0.177500</td>\n",
       "      <td>00:03</td>\n",
       "    </tr>\n",
       "    <tr>\n",
       "      <td>1</td>\n",
       "      <td>2.299440</td>\n",
       "      <td>2.299820</td>\n",
       "      <td>0.241000</td>\n",
       "      <td>00:03</td>\n",
       "    </tr>\n",
       "    <tr>\n",
       "      <td>2</td>\n",
       "      <td>2.297459</td>\n",
       "      <td>2.297922</td>\n",
       "      <td>0.281500</td>\n",
       "      <td>00:03</td>\n",
       "    </tr>\n",
       "    <tr>\n",
       "      <td>3</td>\n",
       "      <td>2.295162</td>\n",
       "      <td>2.295722</td>\n",
       "      <td>0.309000</td>\n",
       "      <td>00:03</td>\n",
       "    </tr>\n",
       "    <tr>\n",
       "      <td>4</td>\n",
       "      <td>2.292528</td>\n",
       "      <td>2.293193</td>\n",
       "      <td>0.321400</td>\n",
       "      <td>00:03</td>\n",
       "    </tr>\n",
       "  </tbody>\n",
       "</table>"
      ],
      "text/plain": [
       "<IPython.core.display.HTML object>"
      ]
     },
     "metadata": {},
     "output_type": "display_data"
    },
    {
     "data": {
      "text/html": [],
      "text/plain": [
       "<IPython.core.display.HTML object>"
      ]
     },
     "metadata": {},
     "output_type": "display_data"
    },
    {
     "name": "stdout",
     "output_type": "stream",
     "text": [
      "Accuracy: 0.3214\n",
      "Evaluating: lr=0.00075, batch_size=128, opt_func=SGD, n_epochs=8, run=1\n"
     ]
    },
    {
     "data": {
      "text/html": [],
      "text/plain": [
       "<IPython.core.display.HTML object>"
      ]
     },
     "metadata": {},
     "output_type": "display_data"
    },
    {
     "name": "stdout",
     "output_type": "stream",
     "text": [
      "Initial accuracy: 0.1429\n"
     ]
    },
    {
     "data": {
      "text/html": [
       "<table border=\"1\" class=\"dataframe\">\n",
       "  <thead>\n",
       "    <tr style=\"text-align: left;\">\n",
       "      <th>epoch</th>\n",
       "      <th>train_loss</th>\n",
       "      <th>valid_loss</th>\n",
       "      <th>batch_accuracy</th>\n",
       "      <th>time</th>\n",
       "    </tr>\n",
       "  </thead>\n",
       "  <tbody>\n",
       "    <tr>\n",
       "      <td>0</td>\n",
       "      <td>2.300676</td>\n",
       "      <td>2.300437</td>\n",
       "      <td>0.194100</td>\n",
       "      <td>00:02</td>\n",
       "    </tr>\n",
       "    <tr>\n",
       "      <td>1</td>\n",
       "      <td>2.298394</td>\n",
       "      <td>2.298066</td>\n",
       "      <td>0.256200</td>\n",
       "      <td>00:02</td>\n",
       "    </tr>\n",
       "    <tr>\n",
       "      <td>2</td>\n",
       "      <td>2.295785</td>\n",
       "      <td>2.295377</td>\n",
       "      <td>0.309300</td>\n",
       "      <td>00:02</td>\n",
       "    </tr>\n",
       "    <tr>\n",
       "      <td>3</td>\n",
       "      <td>2.292802</td>\n",
       "      <td>2.292356</td>\n",
       "      <td>0.348700</td>\n",
       "      <td>00:02</td>\n",
       "    </tr>\n",
       "    <tr>\n",
       "      <td>4</td>\n",
       "      <td>2.289429</td>\n",
       "      <td>2.288985</td>\n",
       "      <td>0.391800</td>\n",
       "      <td>00:02</td>\n",
       "    </tr>\n",
       "    <tr>\n",
       "      <td>5</td>\n",
       "      <td>2.285629</td>\n",
       "      <td>2.285187</td>\n",
       "      <td>0.432000</td>\n",
       "      <td>00:03</td>\n",
       "    </tr>\n",
       "    <tr>\n",
       "      <td>6</td>\n",
       "      <td>2.281200</td>\n",
       "      <td>2.280751</td>\n",
       "      <td>0.469200</td>\n",
       "      <td>00:03</td>\n",
       "    </tr>\n",
       "    <tr>\n",
       "      <td>7</td>\n",
       "      <td>2.275806</td>\n",
       "      <td>2.275369</td>\n",
       "      <td>0.502500</td>\n",
       "      <td>00:03</td>\n",
       "    </tr>\n",
       "  </tbody>\n",
       "</table>"
      ],
      "text/plain": [
       "<IPython.core.display.HTML object>"
      ]
     },
     "metadata": {},
     "output_type": "display_data"
    },
    {
     "data": {
      "text/html": [],
      "text/plain": [
       "<IPython.core.display.HTML object>"
      ]
     },
     "metadata": {},
     "output_type": "display_data"
    },
    {
     "name": "stdout",
     "output_type": "stream",
     "text": [
      "Accuracy: 0.5025\n",
      "Evaluating: lr=0.00075, batch_size=128, opt_func=SGD, n_epochs=11, run=1\n"
     ]
    },
    {
     "data": {
      "text/html": [],
      "text/plain": [
       "<IPython.core.display.HTML object>"
      ]
     },
     "metadata": {},
     "output_type": "display_data"
    },
    {
     "name": "stdout",
     "output_type": "stream",
     "text": [
      "Initial accuracy: 0.113\n"
     ]
    },
    {
     "data": {
      "text/html": [
       "<table border=\"1\" class=\"dataframe\">\n",
       "  <thead>\n",
       "    <tr style=\"text-align: left;\">\n",
       "      <th>epoch</th>\n",
       "      <th>train_loss</th>\n",
       "      <th>valid_loss</th>\n",
       "      <th>batch_accuracy</th>\n",
       "      <th>time</th>\n",
       "    </tr>\n",
       "  </thead>\n",
       "  <tbody>\n",
       "    <tr>\n",
       "      <td>0</td>\n",
       "      <td>2.301538</td>\n",
       "      <td>2.301476</td>\n",
       "      <td>0.123500</td>\n",
       "      <td>00:03</td>\n",
       "    </tr>\n",
       "    <tr>\n",
       "      <td>1</td>\n",
       "      <td>2.300074</td>\n",
       "      <td>2.300012</td>\n",
       "      <td>0.136600</td>\n",
       "      <td>00:03</td>\n",
       "    </tr>\n",
       "    <tr>\n",
       "      <td>2</td>\n",
       "      <td>2.298312</td>\n",
       "      <td>2.298246</td>\n",
       "      <td>0.155000</td>\n",
       "      <td>00:03</td>\n",
       "    </tr>\n",
       "    <tr>\n",
       "      <td>3</td>\n",
       "      <td>2.296233</td>\n",
       "      <td>2.296160</td>\n",
       "      <td>0.182700</td>\n",
       "      <td>00:03</td>\n",
       "    </tr>\n",
       "    <tr>\n",
       "      <td>4</td>\n",
       "      <td>2.293841</td>\n",
       "      <td>2.293784</td>\n",
       "      <td>0.218500</td>\n",
       "      <td>00:03</td>\n",
       "    </tr>\n",
       "    <tr>\n",
       "      <td>5</td>\n",
       "      <td>2.291101</td>\n",
       "      <td>2.291090</td>\n",
       "      <td>0.259600</td>\n",
       "      <td>00:03</td>\n",
       "    </tr>\n",
       "    <tr>\n",
       "      <td>6</td>\n",
       "      <td>2.287985</td>\n",
       "      <td>2.288033</td>\n",
       "      <td>0.304300</td>\n",
       "      <td>00:03</td>\n",
       "    </tr>\n",
       "    <tr>\n",
       "      <td>7</td>\n",
       "      <td>2.284436</td>\n",
       "      <td>2.284552</td>\n",
       "      <td>0.352500</td>\n",
       "      <td>00:03</td>\n",
       "    </tr>\n",
       "    <tr>\n",
       "      <td>8</td>\n",
       "      <td>2.280335</td>\n",
       "      <td>2.280535</td>\n",
       "      <td>0.378300</td>\n",
       "      <td>00:03</td>\n",
       "    </tr>\n",
       "    <tr>\n",
       "      <td>9</td>\n",
       "      <td>2.275490</td>\n",
       "      <td>2.275792</td>\n",
       "      <td>0.391700</td>\n",
       "      <td>00:03</td>\n",
       "    </tr>\n",
       "    <tr>\n",
       "      <td>10</td>\n",
       "      <td>2.269581</td>\n",
       "      <td>2.270019</td>\n",
       "      <td>0.392700</td>\n",
       "      <td>00:03</td>\n",
       "    </tr>\n",
       "  </tbody>\n",
       "</table>"
      ],
      "text/plain": [
       "<IPython.core.display.HTML object>"
      ]
     },
     "metadata": {},
     "output_type": "display_data"
    },
    {
     "data": {
      "text/html": [],
      "text/plain": [
       "<IPython.core.display.HTML object>"
      ]
     },
     "metadata": {},
     "output_type": "display_data"
    },
    {
     "name": "stdout",
     "output_type": "stream",
     "text": [
      "Accuracy: 0.3927\n",
      "Evaluating: lr=0.0015, batch_size=32, opt_func=Adam, n_epochs=5, run=1\n"
     ]
    },
    {
     "data": {
      "text/html": [],
      "text/plain": [
       "<IPython.core.display.HTML object>"
      ]
     },
     "metadata": {},
     "output_type": "display_data"
    },
    {
     "name": "stdout",
     "output_type": "stream",
     "text": [
      "Initial accuracy: 0.1486\n"
     ]
    },
    {
     "data": {
      "text/html": [
       "<table border=\"1\" class=\"dataframe\">\n",
       "  <thead>\n",
       "    <tr style=\"text-align: left;\">\n",
       "      <th>epoch</th>\n",
       "      <th>train_loss</th>\n",
       "      <th>valid_loss</th>\n",
       "      <th>batch_accuracy</th>\n",
       "      <th>time</th>\n",
       "    </tr>\n",
       "  </thead>\n",
       "  <tbody>\n",
       "    <tr>\n",
       "      <td>0</td>\n",
       "      <td>1.528917</td>\n",
       "      <td>1.530985</td>\n",
       "      <td>0.933600</td>\n",
       "      <td>00:12</td>\n",
       "    </tr>\n",
       "    <tr>\n",
       "      <td>1</td>\n",
       "      <td>1.515211</td>\n",
       "      <td>1.524961</td>\n",
       "      <td>0.940100</td>\n",
       "      <td>00:13</td>\n",
       "    </tr>\n",
       "    <tr>\n",
       "      <td>2</td>\n",
       "      <td>1.506418</td>\n",
       "      <td>1.516881</td>\n",
       "      <td>0.947500</td>\n",
       "      <td>00:13</td>\n",
       "    </tr>\n",
       "    <tr>\n",
       "      <td>3</td>\n",
       "      <td>1.499256</td>\n",
       "      <td>1.515200</td>\n",
       "      <td>0.947600</td>\n",
       "      <td>00:13</td>\n",
       "    </tr>\n",
       "    <tr>\n",
       "      <td>4</td>\n",
       "      <td>1.497121</td>\n",
       "      <td>1.511340</td>\n",
       "      <td>0.952200</td>\n",
       "      <td>00:12</td>\n",
       "    </tr>\n",
       "  </tbody>\n",
       "</table>"
      ],
      "text/plain": [
       "<IPython.core.display.HTML object>"
      ]
     },
     "metadata": {},
     "output_type": "display_data"
    },
    {
     "data": {
      "text/html": [],
      "text/plain": [
       "<IPython.core.display.HTML object>"
      ]
     },
     "metadata": {},
     "output_type": "display_data"
    },
    {
     "name": "stdout",
     "output_type": "stream",
     "text": [
      "Accuracy: 0.9522\n",
      "Evaluating: lr=0.0015, batch_size=32, opt_func=Adam, n_epochs=8, run=1\n"
     ]
    },
    {
     "data": {
      "text/html": [],
      "text/plain": [
       "<IPython.core.display.HTML object>"
      ]
     },
     "metadata": {},
     "output_type": "display_data"
    },
    {
     "name": "stdout",
     "output_type": "stream",
     "text": [
      "Initial accuracy: 0.1196\n"
     ]
    },
    {
     "data": {
      "text/html": [
       "<table border=\"1\" class=\"dataframe\">\n",
       "  <thead>\n",
       "    <tr style=\"text-align: left;\">\n",
       "      <th>epoch</th>\n",
       "      <th>train_loss</th>\n",
       "      <th>valid_loss</th>\n",
       "      <th>batch_accuracy</th>\n",
       "      <th>time</th>\n",
       "    </tr>\n",
       "  </thead>\n",
       "  <tbody>\n",
       "    <tr>\n",
       "      <td>0</td>\n",
       "      <td>1.525102</td>\n",
       "      <td>1.532908</td>\n",
       "      <td>0.932600</td>\n",
       "      <td>00:12</td>\n",
       "    </tr>\n",
       "    <tr>\n",
       "      <td>1</td>\n",
       "      <td>1.507913</td>\n",
       "      <td>1.523703</td>\n",
       "      <td>0.940400</td>\n",
       "      <td>00:13</td>\n",
       "    </tr>\n",
       "    <tr>\n",
       "      <td>2</td>\n",
       "      <td>1.500650</td>\n",
       "      <td>1.513091</td>\n",
       "      <td>0.950700</td>\n",
       "      <td>00:12</td>\n",
       "    </tr>\n",
       "    <tr>\n",
       "      <td>3</td>\n",
       "      <td>1.496638</td>\n",
       "      <td>1.512457</td>\n",
       "      <td>0.951000</td>\n",
       "      <td>00:12</td>\n",
       "    </tr>\n",
       "    <tr>\n",
       "      <td>4</td>\n",
       "      <td>1.494290</td>\n",
       "      <td>1.508448</td>\n",
       "      <td>0.955000</td>\n",
       "      <td>00:12</td>\n",
       "    </tr>\n",
       "    <tr>\n",
       "      <td>5</td>\n",
       "      <td>1.491472</td>\n",
       "      <td>1.512426</td>\n",
       "      <td>0.951600</td>\n",
       "      <td>00:12</td>\n",
       "    </tr>\n",
       "    <tr>\n",
       "      <td>6</td>\n",
       "      <td>1.489658</td>\n",
       "      <td>1.507814</td>\n",
       "      <td>0.956100</td>\n",
       "      <td>00:13</td>\n",
       "    </tr>\n",
       "    <tr>\n",
       "      <td>7</td>\n",
       "      <td>1.486883</td>\n",
       "      <td>1.507823</td>\n",
       "      <td>0.956000</td>\n",
       "      <td>00:13</td>\n",
       "    </tr>\n",
       "  </tbody>\n",
       "</table>"
      ],
      "text/plain": [
       "<IPython.core.display.HTML object>"
      ]
     },
     "metadata": {},
     "output_type": "display_data"
    },
    {
     "data": {
      "text/html": [],
      "text/plain": [
       "<IPython.core.display.HTML object>"
      ]
     },
     "metadata": {},
     "output_type": "display_data"
    },
    {
     "name": "stdout",
     "output_type": "stream",
     "text": [
      "Accuracy: 0.956\n",
      "Evaluating: lr=0.0015, batch_size=32, opt_func=Adam, n_epochs=11, run=1\n"
     ]
    },
    {
     "data": {
      "text/html": [],
      "text/plain": [
       "<IPython.core.display.HTML object>"
      ]
     },
     "metadata": {},
     "output_type": "display_data"
    },
    {
     "name": "stdout",
     "output_type": "stream",
     "text": [
      "Initial accuracy: 0.0614\n"
     ]
    },
    {
     "data": {
      "text/html": [
       "<table border=\"1\" class=\"dataframe\">\n",
       "  <thead>\n",
       "    <tr style=\"text-align: left;\">\n",
       "      <th>epoch</th>\n",
       "      <th>train_loss</th>\n",
       "      <th>valid_loss</th>\n",
       "      <th>batch_accuracy</th>\n",
       "      <th>time</th>\n",
       "    </tr>\n",
       "  </thead>\n",
       "  <tbody>\n",
       "    <tr>\n",
       "      <td>0</td>\n",
       "      <td>1.531332</td>\n",
       "      <td>1.534760</td>\n",
       "      <td>0.931600</td>\n",
       "      <td>00:12</td>\n",
       "    </tr>\n",
       "    <tr>\n",
       "      <td>1</td>\n",
       "      <td>1.513628</td>\n",
       "      <td>1.525729</td>\n",
       "      <td>0.939300</td>\n",
       "      <td>00:12</td>\n",
       "    </tr>\n",
       "    <tr>\n",
       "      <td>2</td>\n",
       "      <td>1.506034</td>\n",
       "      <td>1.519089</td>\n",
       "      <td>0.943600</td>\n",
       "      <td>00:13</td>\n",
       "    </tr>\n",
       "    <tr>\n",
       "      <td>3</td>\n",
       "      <td>1.501544</td>\n",
       "      <td>1.516986</td>\n",
       "      <td>0.946300</td>\n",
       "      <td>00:12</td>\n",
       "    </tr>\n",
       "    <tr>\n",
       "      <td>4</td>\n",
       "      <td>1.498495</td>\n",
       "      <td>1.509960</td>\n",
       "      <td>0.954000</td>\n",
       "      <td>00:13</td>\n",
       "    </tr>\n",
       "    <tr>\n",
       "      <td>5</td>\n",
       "      <td>1.495093</td>\n",
       "      <td>1.506823</td>\n",
       "      <td>0.956500</td>\n",
       "      <td>00:13</td>\n",
       "    </tr>\n",
       "    <tr>\n",
       "      <td>6</td>\n",
       "      <td>1.492538</td>\n",
       "      <td>1.510516</td>\n",
       "      <td>0.952600</td>\n",
       "      <td>00:14</td>\n",
       "    </tr>\n",
       "    <tr>\n",
       "      <td>7</td>\n",
       "      <td>1.490742</td>\n",
       "      <td>1.508632</td>\n",
       "      <td>0.955300</td>\n",
       "      <td>00:12</td>\n",
       "    </tr>\n",
       "    <tr>\n",
       "      <td>8</td>\n",
       "      <td>1.489784</td>\n",
       "      <td>1.514737</td>\n",
       "      <td>0.948100</td>\n",
       "      <td>00:11</td>\n",
       "    </tr>\n",
       "    <tr>\n",
       "      <td>9</td>\n",
       "      <td>1.489417</td>\n",
       "      <td>1.508535</td>\n",
       "      <td>0.954700</td>\n",
       "      <td>00:11</td>\n",
       "    </tr>\n",
       "    <tr>\n",
       "      <td>10</td>\n",
       "      <td>1.488784</td>\n",
       "      <td>1.507397</td>\n",
       "      <td>0.955700</td>\n",
       "      <td>00:11</td>\n",
       "    </tr>\n",
       "  </tbody>\n",
       "</table>"
      ],
      "text/plain": [
       "<IPython.core.display.HTML object>"
      ]
     },
     "metadata": {},
     "output_type": "display_data"
    },
    {
     "data": {
      "text/html": [],
      "text/plain": [
       "<IPython.core.display.HTML object>"
      ]
     },
     "metadata": {},
     "output_type": "display_data"
    },
    {
     "name": "stdout",
     "output_type": "stream",
     "text": [
      "Accuracy: 0.9557\n",
      "Evaluating: lr=0.0015, batch_size=32, opt_func=SGD, n_epochs=5, run=1\n"
     ]
    },
    {
     "data": {
      "text/html": [],
      "text/plain": [
       "<IPython.core.display.HTML object>"
      ]
     },
     "metadata": {},
     "output_type": "display_data"
    },
    {
     "name": "stdout",
     "output_type": "stream",
     "text": [
      "Initial accuracy: 0.0838\n"
     ]
    },
    {
     "data": {
      "text/html": [
       "<table border=\"1\" class=\"dataframe\">\n",
       "  <thead>\n",
       "    <tr style=\"text-align: left;\">\n",
       "      <th>epoch</th>\n",
       "      <th>train_loss</th>\n",
       "      <th>valid_loss</th>\n",
       "      <th>batch_accuracy</th>\n",
       "      <th>time</th>\n",
       "    </tr>\n",
       "  </thead>\n",
       "  <tbody>\n",
       "    <tr>\n",
       "      <td>0</td>\n",
       "      <td>2.284568</td>\n",
       "      <td>2.285408</td>\n",
       "      <td>0.450700</td>\n",
       "      <td>00:09</td>\n",
       "    </tr>\n",
       "    <tr>\n",
       "      <td>1</td>\n",
       "      <td>2.219122</td>\n",
       "      <td>2.219387</td>\n",
       "      <td>0.451000</td>\n",
       "      <td>00:09</td>\n",
       "    </tr>\n",
       "    <tr>\n",
       "      <td>2</td>\n",
       "      <td>2.049851</td>\n",
       "      <td>2.054899</td>\n",
       "      <td>0.524000</td>\n",
       "      <td>00:08</td>\n",
       "    </tr>\n",
       "    <tr>\n",
       "      <td>3</td>\n",
       "      <td>1.887643</td>\n",
       "      <td>1.891204</td>\n",
       "      <td>0.693700</td>\n",
       "      <td>00:09</td>\n",
       "    </tr>\n",
       "    <tr>\n",
       "      <td>4</td>\n",
       "      <td>1.815983</td>\n",
       "      <td>1.816011</td>\n",
       "      <td>0.720400</td>\n",
       "      <td>00:08</td>\n",
       "    </tr>\n",
       "  </tbody>\n",
       "</table>"
      ],
      "text/plain": [
       "<IPython.core.display.HTML object>"
      ]
     },
     "metadata": {},
     "output_type": "display_data"
    },
    {
     "data": {
      "text/html": [],
      "text/plain": [
       "<IPython.core.display.HTML object>"
      ]
     },
     "metadata": {},
     "output_type": "display_data"
    },
    {
     "name": "stdout",
     "output_type": "stream",
     "text": [
      "Accuracy: 0.7204\n",
      "Evaluating: lr=0.0015, batch_size=32, opt_func=SGD, n_epochs=8, run=1\n"
     ]
    },
    {
     "data": {
      "text/html": [],
      "text/plain": [
       "<IPython.core.display.HTML object>"
      ]
     },
     "metadata": {},
     "output_type": "display_data"
    },
    {
     "name": "stdout",
     "output_type": "stream",
     "text": [
      "Initial accuracy: 0.1032\n"
     ]
    },
    {
     "data": {
      "text/html": [
       "<table border=\"1\" class=\"dataframe\">\n",
       "  <thead>\n",
       "    <tr style=\"text-align: left;\">\n",
       "      <th>epoch</th>\n",
       "      <th>train_loss</th>\n",
       "      <th>valid_loss</th>\n",
       "      <th>batch_accuracy</th>\n",
       "      <th>time</th>\n",
       "    </tr>\n",
       "  </thead>\n",
       "  <tbody>\n",
       "    <tr>\n",
       "      <td>0</td>\n",
       "      <td>2.285526</td>\n",
       "      <td>2.285166</td>\n",
       "      <td>0.232300</td>\n",
       "      <td>00:08</td>\n",
       "    </tr>\n",
       "    <tr>\n",
       "      <td>1</td>\n",
       "      <td>2.211772</td>\n",
       "      <td>2.209576</td>\n",
       "      <td>0.348900</td>\n",
       "      <td>00:08</td>\n",
       "    </tr>\n",
       "    <tr>\n",
       "      <td>2</td>\n",
       "      <td>2.075521</td>\n",
       "      <td>2.078154</td>\n",
       "      <td>0.472700</td>\n",
       "      <td>00:08</td>\n",
       "    </tr>\n",
       "    <tr>\n",
       "      <td>3</td>\n",
       "      <td>1.981915</td>\n",
       "      <td>1.984501</td>\n",
       "      <td>0.522100</td>\n",
       "      <td>00:08</td>\n",
       "    </tr>\n",
       "    <tr>\n",
       "      <td>4</td>\n",
       "      <td>1.896469</td>\n",
       "      <td>1.897287</td>\n",
       "      <td>0.641000</td>\n",
       "      <td>00:08</td>\n",
       "    </tr>\n",
       "    <tr>\n",
       "      <td>5</td>\n",
       "      <td>1.812340</td>\n",
       "      <td>1.813002</td>\n",
       "      <td>0.724200</td>\n",
       "      <td>00:08</td>\n",
       "    </tr>\n",
       "    <tr>\n",
       "      <td>6</td>\n",
       "      <td>1.776751</td>\n",
       "      <td>1.775305</td>\n",
       "      <td>0.734100</td>\n",
       "      <td>00:08</td>\n",
       "    </tr>\n",
       "    <tr>\n",
       "      <td>7</td>\n",
       "      <td>1.759836</td>\n",
       "      <td>1.756771</td>\n",
       "      <td>0.739100</td>\n",
       "      <td>00:08</td>\n",
       "    </tr>\n",
       "  </tbody>\n",
       "</table>"
      ],
      "text/plain": [
       "<IPython.core.display.HTML object>"
      ]
     },
     "metadata": {},
     "output_type": "display_data"
    },
    {
     "data": {
      "text/html": [],
      "text/plain": [
       "<IPython.core.display.HTML object>"
      ]
     },
     "metadata": {},
     "output_type": "display_data"
    },
    {
     "name": "stdout",
     "output_type": "stream",
     "text": [
      "Accuracy: 0.7391\n",
      "Evaluating: lr=0.0015, batch_size=32, opt_func=SGD, n_epochs=11, run=1\n"
     ]
    },
    {
     "data": {
      "text/html": [],
      "text/plain": [
       "<IPython.core.display.HTML object>"
      ]
     },
     "metadata": {},
     "output_type": "display_data"
    },
    {
     "name": "stdout",
     "output_type": "stream",
     "text": [
      "Initial accuracy: 0.0949\n"
     ]
    },
    {
     "data": {
      "text/html": [
       "<table border=\"1\" class=\"dataframe\">\n",
       "  <thead>\n",
       "    <tr style=\"text-align: left;\">\n",
       "      <th>epoch</th>\n",
       "      <th>train_loss</th>\n",
       "      <th>valid_loss</th>\n",
       "      <th>batch_accuracy</th>\n",
       "      <th>time</th>\n",
       "    </tr>\n",
       "  </thead>\n",
       "  <tbody>\n",
       "    <tr>\n",
       "      <td>0</td>\n",
       "      <td>2.280557</td>\n",
       "      <td>2.280520</td>\n",
       "      <td>0.237700</td>\n",
       "      <td>00:08</td>\n",
       "    </tr>\n",
       "    <tr>\n",
       "      <td>1</td>\n",
       "      <td>2.212204</td>\n",
       "      <td>2.212312</td>\n",
       "      <td>0.428900</td>\n",
       "      <td>00:08</td>\n",
       "    </tr>\n",
       "    <tr>\n",
       "      <td>2</td>\n",
       "      <td>2.032641</td>\n",
       "      <td>2.035114</td>\n",
       "      <td>0.560100</td>\n",
       "      <td>00:08</td>\n",
       "    </tr>\n",
       "    <tr>\n",
       "      <td>3</td>\n",
       "      <td>1.884817</td>\n",
       "      <td>1.884076</td>\n",
       "      <td>0.700600</td>\n",
       "      <td>00:08</td>\n",
       "    </tr>\n",
       "    <tr>\n",
       "      <td>4</td>\n",
       "      <td>1.815139</td>\n",
       "      <td>1.809305</td>\n",
       "      <td>0.720600</td>\n",
       "      <td>00:08</td>\n",
       "    </tr>\n",
       "    <tr>\n",
       "      <td>5</td>\n",
       "      <td>1.787687</td>\n",
       "      <td>1.779221</td>\n",
       "      <td>0.730200</td>\n",
       "      <td>00:08</td>\n",
       "    </tr>\n",
       "    <tr>\n",
       "      <td>6</td>\n",
       "      <td>1.772383</td>\n",
       "      <td>1.762387</td>\n",
       "      <td>0.734800</td>\n",
       "      <td>00:08</td>\n",
       "    </tr>\n",
       "    <tr>\n",
       "      <td>7</td>\n",
       "      <td>1.762348</td>\n",
       "      <td>1.751416</td>\n",
       "      <td>0.739000</td>\n",
       "      <td>00:08</td>\n",
       "    </tr>\n",
       "    <tr>\n",
       "      <td>8</td>\n",
       "      <td>1.755148</td>\n",
       "      <td>1.743620</td>\n",
       "      <td>0.742100</td>\n",
       "      <td>00:08</td>\n",
       "    </tr>\n",
       "    <tr>\n",
       "      <td>9</td>\n",
       "      <td>1.749619</td>\n",
       "      <td>1.737716</td>\n",
       "      <td>0.743600</td>\n",
       "      <td>00:08</td>\n",
       "    </tr>\n",
       "    <tr>\n",
       "      <td>10</td>\n",
       "      <td>1.745038</td>\n",
       "      <td>1.732898</td>\n",
       "      <td>0.745300</td>\n",
       "      <td>00:08</td>\n",
       "    </tr>\n",
       "  </tbody>\n",
       "</table>"
      ],
      "text/plain": [
       "<IPython.core.display.HTML object>"
      ]
     },
     "metadata": {},
     "output_type": "display_data"
    },
    {
     "data": {
      "text/html": [],
      "text/plain": [
       "<IPython.core.display.HTML object>"
      ]
     },
     "metadata": {},
     "output_type": "display_data"
    },
    {
     "name": "stdout",
     "output_type": "stream",
     "text": [
      "Accuracy: 0.7453\n",
      "Evaluating: lr=0.0015, batch_size=64, opt_func=Adam, n_epochs=5, run=1\n"
     ]
    },
    {
     "data": {
      "text/html": [],
      "text/plain": [
       "<IPython.core.display.HTML object>"
      ]
     },
     "metadata": {},
     "output_type": "display_data"
    },
    {
     "name": "stdout",
     "output_type": "stream",
     "text": [
      "Initial accuracy: 0.0762\n"
     ]
    },
    {
     "data": {
      "text/html": [
       "<table border=\"1\" class=\"dataframe\">\n",
       "  <thead>\n",
       "    <tr style=\"text-align: left;\">\n",
       "      <th>epoch</th>\n",
       "      <th>train_loss</th>\n",
       "      <th>valid_loss</th>\n",
       "      <th>batch_accuracy</th>\n",
       "      <th>time</th>\n",
       "    </tr>\n",
       "  </thead>\n",
       "  <tbody>\n",
       "    <tr>\n",
       "      <td>0</td>\n",
       "      <td>1.533491</td>\n",
       "      <td>1.535078</td>\n",
       "      <td>0.932200</td>\n",
       "      <td>00:05</td>\n",
       "    </tr>\n",
       "    <tr>\n",
       "      <td>1</td>\n",
       "      <td>1.517030</td>\n",
       "      <td>1.524378</td>\n",
       "      <td>0.941700</td>\n",
       "      <td>00:05</td>\n",
       "    </tr>\n",
       "    <tr>\n",
       "      <td>2</td>\n",
       "      <td>1.510477</td>\n",
       "      <td>1.519689</td>\n",
       "      <td>0.944100</td>\n",
       "      <td>00:05</td>\n",
       "    </tr>\n",
       "    <tr>\n",
       "      <td>3</td>\n",
       "      <td>1.505683</td>\n",
       "      <td>1.516957</td>\n",
       "      <td>0.946200</td>\n",
       "      <td>00:05</td>\n",
       "    </tr>\n",
       "    <tr>\n",
       "      <td>4</td>\n",
       "      <td>1.501639</td>\n",
       "      <td>1.513958</td>\n",
       "      <td>0.949700</td>\n",
       "      <td>00:05</td>\n",
       "    </tr>\n",
       "  </tbody>\n",
       "</table>"
      ],
      "text/plain": [
       "<IPython.core.display.HTML object>"
      ]
     },
     "metadata": {},
     "output_type": "display_data"
    },
    {
     "data": {
      "text/html": [],
      "text/plain": [
       "<IPython.core.display.HTML object>"
      ]
     },
     "metadata": {},
     "output_type": "display_data"
    },
    {
     "name": "stdout",
     "output_type": "stream",
     "text": [
      "Accuracy: 0.9497\n",
      "Evaluating: lr=0.0015, batch_size=64, opt_func=Adam, n_epochs=8, run=1\n"
     ]
    },
    {
     "data": {
      "text/html": [],
      "text/plain": [
       "<IPython.core.display.HTML object>"
      ]
     },
     "metadata": {},
     "output_type": "display_data"
    },
    {
     "name": "stdout",
     "output_type": "stream",
     "text": [
      "Initial accuracy: 0.109\n"
     ]
    },
    {
     "data": {
      "text/html": [
       "<table border=\"1\" class=\"dataframe\">\n",
       "  <thead>\n",
       "    <tr style=\"text-align: left;\">\n",
       "      <th>epoch</th>\n",
       "      <th>train_loss</th>\n",
       "      <th>valid_loss</th>\n",
       "      <th>batch_accuracy</th>\n",
       "      <th>time</th>\n",
       "    </tr>\n",
       "  </thead>\n",
       "  <tbody>\n",
       "    <tr>\n",
       "      <td>0</td>\n",
       "      <td>1.530133</td>\n",
       "      <td>1.535522</td>\n",
       "      <td>0.931200</td>\n",
       "      <td>00:05</td>\n",
       "    </tr>\n",
       "    <tr>\n",
       "      <td>1</td>\n",
       "      <td>1.514943</td>\n",
       "      <td>1.526779</td>\n",
       "      <td>0.937700</td>\n",
       "      <td>00:05</td>\n",
       "    </tr>\n",
       "    <tr>\n",
       "      <td>2</td>\n",
       "      <td>1.505184</td>\n",
       "      <td>1.520271</td>\n",
       "      <td>0.945300</td>\n",
       "      <td>00:06</td>\n",
       "    </tr>\n",
       "    <tr>\n",
       "      <td>3</td>\n",
       "      <td>1.498695</td>\n",
       "      <td>1.513057</td>\n",
       "      <td>0.951900</td>\n",
       "      <td>00:06</td>\n",
       "    </tr>\n",
       "    <tr>\n",
       "      <td>4</td>\n",
       "      <td>1.495526</td>\n",
       "      <td>1.509806</td>\n",
       "      <td>0.953300</td>\n",
       "      <td>00:06</td>\n",
       "    </tr>\n",
       "    <tr>\n",
       "      <td>5</td>\n",
       "      <td>1.492434</td>\n",
       "      <td>1.507242</td>\n",
       "      <td>0.956900</td>\n",
       "      <td>00:06</td>\n",
       "    </tr>\n",
       "    <tr>\n",
       "      <td>6</td>\n",
       "      <td>1.489979</td>\n",
       "      <td>1.506132</td>\n",
       "      <td>0.956900</td>\n",
       "      <td>00:05</td>\n",
       "    </tr>\n",
       "    <tr>\n",
       "      <td>7</td>\n",
       "      <td>1.488789</td>\n",
       "      <td>1.504817</td>\n",
       "      <td>0.958600</td>\n",
       "      <td>00:06</td>\n",
       "    </tr>\n",
       "  </tbody>\n",
       "</table>"
      ],
      "text/plain": [
       "<IPython.core.display.HTML object>"
      ]
     },
     "metadata": {},
     "output_type": "display_data"
    },
    {
     "data": {
      "text/html": [],
      "text/plain": [
       "<IPython.core.display.HTML object>"
      ]
     },
     "metadata": {},
     "output_type": "display_data"
    },
    {
     "name": "stdout",
     "output_type": "stream",
     "text": [
      "Accuracy: 0.9586\n",
      "Evaluating: lr=0.0015, batch_size=64, opt_func=Adam, n_epochs=11, run=1\n"
     ]
    },
    {
     "data": {
      "text/html": [],
      "text/plain": [
       "<IPython.core.display.HTML object>"
      ]
     },
     "metadata": {},
     "output_type": "display_data"
    },
    {
     "name": "stdout",
     "output_type": "stream",
     "text": [
      "Initial accuracy: 0.0701\n"
     ]
    },
    {
     "data": {
      "text/html": [
       "<table border=\"1\" class=\"dataframe\">\n",
       "  <thead>\n",
       "    <tr style=\"text-align: left;\">\n",
       "      <th>epoch</th>\n",
       "      <th>train_loss</th>\n",
       "      <th>valid_loss</th>\n",
       "      <th>batch_accuracy</th>\n",
       "      <th>time</th>\n",
       "    </tr>\n",
       "  </thead>\n",
       "  <tbody>\n",
       "    <tr>\n",
       "      <td>0</td>\n",
       "      <td>1.534389</td>\n",
       "      <td>1.542077</td>\n",
       "      <td>0.924600</td>\n",
       "      <td>00:05</td>\n",
       "    </tr>\n",
       "    <tr>\n",
       "      <td>1</td>\n",
       "      <td>1.516184</td>\n",
       "      <td>1.530004</td>\n",
       "      <td>0.935500</td>\n",
       "      <td>00:05</td>\n",
       "    </tr>\n",
       "    <tr>\n",
       "      <td>2</td>\n",
       "      <td>1.508221</td>\n",
       "      <td>1.519112</td>\n",
       "      <td>0.945700</td>\n",
       "      <td>00:06</td>\n",
       "    </tr>\n",
       "    <tr>\n",
       "      <td>3</td>\n",
       "      <td>1.503157</td>\n",
       "      <td>1.514948</td>\n",
       "      <td>0.949000</td>\n",
       "      <td>00:06</td>\n",
       "    </tr>\n",
       "    <tr>\n",
       "      <td>4</td>\n",
       "      <td>1.499168</td>\n",
       "      <td>1.516394</td>\n",
       "      <td>0.947400</td>\n",
       "      <td>00:06</td>\n",
       "    </tr>\n",
       "    <tr>\n",
       "      <td>5</td>\n",
       "      <td>1.495791</td>\n",
       "      <td>1.512844</td>\n",
       "      <td>0.951000</td>\n",
       "      <td>00:06</td>\n",
       "    </tr>\n",
       "    <tr>\n",
       "      <td>6</td>\n",
       "      <td>1.494229</td>\n",
       "      <td>1.512711</td>\n",
       "      <td>0.950800</td>\n",
       "      <td>00:06</td>\n",
       "    </tr>\n",
       "    <tr>\n",
       "      <td>7</td>\n",
       "      <td>1.492589</td>\n",
       "      <td>1.512802</td>\n",
       "      <td>0.949200</td>\n",
       "      <td>00:05</td>\n",
       "    </tr>\n",
       "    <tr>\n",
       "      <td>8</td>\n",
       "      <td>1.491100</td>\n",
       "      <td>1.512484</td>\n",
       "      <td>0.949900</td>\n",
       "      <td>00:05</td>\n",
       "    </tr>\n",
       "    <tr>\n",
       "      <td>9</td>\n",
       "      <td>1.490030</td>\n",
       "      <td>1.512478</td>\n",
       "      <td>0.949300</td>\n",
       "      <td>00:06</td>\n",
       "    </tr>\n",
       "    <tr>\n",
       "      <td>10</td>\n",
       "      <td>1.489414</td>\n",
       "      <td>1.513272</td>\n",
       "      <td>0.949500</td>\n",
       "      <td>00:06</td>\n",
       "    </tr>\n",
       "  </tbody>\n",
       "</table>"
      ],
      "text/plain": [
       "<IPython.core.display.HTML object>"
      ]
     },
     "metadata": {},
     "output_type": "display_data"
    },
    {
     "data": {
      "text/html": [],
      "text/plain": [
       "<IPython.core.display.HTML object>"
      ]
     },
     "metadata": {},
     "output_type": "display_data"
    },
    {
     "name": "stdout",
     "output_type": "stream",
     "text": [
      "Accuracy: 0.9495\n",
      "Evaluating: lr=0.0015, batch_size=64, opt_func=SGD, n_epochs=5, run=1\n"
     ]
    },
    {
     "data": {
      "text/html": [],
      "text/plain": [
       "<IPython.core.display.HTML object>"
      ]
     },
     "metadata": {},
     "output_type": "display_data"
    },
    {
     "name": "stdout",
     "output_type": "stream",
     "text": [
      "Initial accuracy: 0.0724\n"
     ]
    },
    {
     "data": {
      "text/html": [
       "<table border=\"1\" class=\"dataframe\">\n",
       "  <thead>\n",
       "    <tr style=\"text-align: left;\">\n",
       "      <th>epoch</th>\n",
       "      <th>train_loss</th>\n",
       "      <th>valid_loss</th>\n",
       "      <th>batch_accuracy</th>\n",
       "      <th>time</th>\n",
       "    </tr>\n",
       "  </thead>\n",
       "  <tbody>\n",
       "    <tr>\n",
       "      <td>0</td>\n",
       "      <td>2.296756</td>\n",
       "      <td>2.296967</td>\n",
       "      <td>0.267400</td>\n",
       "      <td>00:04</td>\n",
       "    </tr>\n",
       "    <tr>\n",
       "      <td>1</td>\n",
       "      <td>2.286174</td>\n",
       "      <td>2.286749</td>\n",
       "      <td>0.422300</td>\n",
       "      <td>00:04</td>\n",
       "    </tr>\n",
       "    <tr>\n",
       "      <td>2</td>\n",
       "      <td>2.267599</td>\n",
       "      <td>2.268590</td>\n",
       "      <td>0.501900</td>\n",
       "      <td>00:04</td>\n",
       "    </tr>\n",
       "    <tr>\n",
       "      <td>3</td>\n",
       "      <td>2.225978</td>\n",
       "      <td>2.227810</td>\n",
       "      <td>0.545500</td>\n",
       "      <td>00:05</td>\n",
       "    </tr>\n",
       "    <tr>\n",
       "      <td>4</td>\n",
       "      <td>2.132961</td>\n",
       "      <td>2.134681</td>\n",
       "      <td>0.547500</td>\n",
       "      <td>00:05</td>\n",
       "    </tr>\n",
       "  </tbody>\n",
       "</table>"
      ],
      "text/plain": [
       "<IPython.core.display.HTML object>"
      ]
     },
     "metadata": {},
     "output_type": "display_data"
    },
    {
     "data": {
      "text/html": [],
      "text/plain": [
       "<IPython.core.display.HTML object>"
      ]
     },
     "metadata": {},
     "output_type": "display_data"
    },
    {
     "name": "stdout",
     "output_type": "stream",
     "text": [
      "Accuracy: 0.5475\n",
      "Evaluating: lr=0.0015, batch_size=64, opt_func=SGD, n_epochs=8, run=1\n"
     ]
    },
    {
     "data": {
      "text/html": [],
      "text/plain": [
       "<IPython.core.display.HTML object>"
      ]
     },
     "metadata": {},
     "output_type": "display_data"
    },
    {
     "name": "stdout",
     "output_type": "stream",
     "text": [
      "Initial accuracy: 0.1156\n"
     ]
    },
    {
     "data": {
      "text/html": [
       "<table border=\"1\" class=\"dataframe\">\n",
       "  <thead>\n",
       "    <tr style=\"text-align: left;\">\n",
       "      <th>epoch</th>\n",
       "      <th>train_loss</th>\n",
       "      <th>valid_loss</th>\n",
       "      <th>batch_accuracy</th>\n",
       "      <th>time</th>\n",
       "    </tr>\n",
       "  </thead>\n",
       "  <tbody>\n",
       "    <tr>\n",
       "      <td>0</td>\n",
       "      <td>2.295154</td>\n",
       "      <td>2.295193</td>\n",
       "      <td>0.269900</td>\n",
       "      <td>00:05</td>\n",
       "    </tr>\n",
       "    <tr>\n",
       "      <td>1</td>\n",
       "      <td>2.280828</td>\n",
       "      <td>2.281090</td>\n",
       "      <td>0.381800</td>\n",
       "      <td>00:05</td>\n",
       "    </tr>\n",
       "    <tr>\n",
       "      <td>2</td>\n",
       "      <td>2.252909</td>\n",
       "      <td>2.253927</td>\n",
       "      <td>0.451500</td>\n",
       "      <td>00:04</td>\n",
       "    </tr>\n",
       "    <tr>\n",
       "      <td>3</td>\n",
       "      <td>2.183313</td>\n",
       "      <td>2.186024</td>\n",
       "      <td>0.502700</td>\n",
       "      <td>00:04</td>\n",
       "    </tr>\n",
       "    <tr>\n",
       "      <td>4</td>\n",
       "      <td>2.069410</td>\n",
       "      <td>2.076208</td>\n",
       "      <td>0.532500</td>\n",
       "      <td>00:04</td>\n",
       "    </tr>\n",
       "    <tr>\n",
       "      <td>5</td>\n",
       "      <td>1.979523</td>\n",
       "      <td>1.988514</td>\n",
       "      <td>0.560600</td>\n",
       "      <td>00:04</td>\n",
       "    </tr>\n",
       "    <tr>\n",
       "      <td>6</td>\n",
       "      <td>1.937252</td>\n",
       "      <td>1.944863</td>\n",
       "      <td>0.568100</td>\n",
       "      <td>00:04</td>\n",
       "    </tr>\n",
       "    <tr>\n",
       "      <td>7</td>\n",
       "      <td>1.916723</td>\n",
       "      <td>1.922895</td>\n",
       "      <td>0.572200</td>\n",
       "      <td>00:04</td>\n",
       "    </tr>\n",
       "  </tbody>\n",
       "</table>"
      ],
      "text/plain": [
       "<IPython.core.display.HTML object>"
      ]
     },
     "metadata": {},
     "output_type": "display_data"
    },
    {
     "data": {
      "text/html": [],
      "text/plain": [
       "<IPython.core.display.HTML object>"
      ]
     },
     "metadata": {},
     "output_type": "display_data"
    },
    {
     "name": "stdout",
     "output_type": "stream",
     "text": [
      "Accuracy: 0.5722\n",
      "Evaluating: lr=0.0015, batch_size=64, opt_func=SGD, n_epochs=11, run=1\n"
     ]
    },
    {
     "data": {
      "text/html": [],
      "text/plain": [
       "<IPython.core.display.HTML object>"
      ]
     },
     "metadata": {},
     "output_type": "display_data"
    },
    {
     "name": "stdout",
     "output_type": "stream",
     "text": [
      "Initial accuracy: 0.1156\n"
     ]
    },
    {
     "data": {
      "text/html": [
       "<table border=\"1\" class=\"dataframe\">\n",
       "  <thead>\n",
       "    <tr style=\"text-align: left;\">\n",
       "      <th>epoch</th>\n",
       "      <th>train_loss</th>\n",
       "      <th>valid_loss</th>\n",
       "      <th>batch_accuracy</th>\n",
       "      <th>time</th>\n",
       "    </tr>\n",
       "  </thead>\n",
       "  <tbody>\n",
       "    <tr>\n",
       "      <td>0</td>\n",
       "      <td>2.296495</td>\n",
       "      <td>2.297040</td>\n",
       "      <td>0.264800</td>\n",
       "      <td>00:05</td>\n",
       "    </tr>\n",
       "    <tr>\n",
       "      <td>1</td>\n",
       "      <td>2.286643</td>\n",
       "      <td>2.287510</td>\n",
       "      <td>0.331200</td>\n",
       "      <td>00:04</td>\n",
       "    </tr>\n",
       "    <tr>\n",
       "      <td>2</td>\n",
       "      <td>2.270346</td>\n",
       "      <td>2.271506</td>\n",
       "      <td>0.397300</td>\n",
       "      <td>00:04</td>\n",
       "    </tr>\n",
       "    <tr>\n",
       "      <td>3</td>\n",
       "      <td>2.229330</td>\n",
       "      <td>2.230705</td>\n",
       "      <td>0.374600</td>\n",
       "      <td>00:05</td>\n",
       "    </tr>\n",
       "    <tr>\n",
       "      <td>4</td>\n",
       "      <td>2.172356</td>\n",
       "      <td>2.175989</td>\n",
       "      <td>0.399400</td>\n",
       "      <td>00:05</td>\n",
       "    </tr>\n",
       "    <tr>\n",
       "      <td>5</td>\n",
       "      <td>2.106284</td>\n",
       "      <td>2.112968</td>\n",
       "      <td>0.452200</td>\n",
       "      <td>00:04</td>\n",
       "    </tr>\n",
       "    <tr>\n",
       "      <td>6</td>\n",
       "      <td>2.031924</td>\n",
       "      <td>2.039881</td>\n",
       "      <td>0.480700</td>\n",
       "      <td>00:04</td>\n",
       "    </tr>\n",
       "    <tr>\n",
       "      <td>7</td>\n",
       "      <td>1.990275</td>\n",
       "      <td>1.997368</td>\n",
       "      <td>0.489900</td>\n",
       "      <td>00:04</td>\n",
       "    </tr>\n",
       "    <tr>\n",
       "      <td>8</td>\n",
       "      <td>1.957857</td>\n",
       "      <td>1.963449</td>\n",
       "      <td>0.543500</td>\n",
       "      <td>00:04</td>\n",
       "    </tr>\n",
       "    <tr>\n",
       "      <td>9</td>\n",
       "      <td>1.921221</td>\n",
       "      <td>1.925138</td>\n",
       "      <td>0.626500</td>\n",
       "      <td>00:04</td>\n",
       "    </tr>\n",
       "    <tr>\n",
       "      <td>10</td>\n",
       "      <td>1.873101</td>\n",
       "      <td>1.876356</td>\n",
       "      <td>0.683500</td>\n",
       "      <td>00:04</td>\n",
       "    </tr>\n",
       "  </tbody>\n",
       "</table>"
      ],
      "text/plain": [
       "<IPython.core.display.HTML object>"
      ]
     },
     "metadata": {},
     "output_type": "display_data"
    },
    {
     "data": {
      "text/html": [],
      "text/plain": [
       "<IPython.core.display.HTML object>"
      ]
     },
     "metadata": {},
     "output_type": "display_data"
    },
    {
     "name": "stdout",
     "output_type": "stream",
     "text": [
      "Accuracy: 0.6835\n",
      "Evaluating: lr=0.0015, batch_size=128, opt_func=Adam, n_epochs=5, run=1\n"
     ]
    },
    {
     "data": {
      "text/html": [],
      "text/plain": [
       "<IPython.core.display.HTML object>"
      ]
     },
     "metadata": {},
     "output_type": "display_data"
    },
    {
     "name": "stdout",
     "output_type": "stream",
     "text": [
      "Initial accuracy: 0.1032\n"
     ]
    },
    {
     "data": {
      "text/html": [
       "<table border=\"1\" class=\"dataframe\">\n",
       "  <thead>\n",
       "    <tr style=\"text-align: left;\">\n",
       "      <th>epoch</th>\n",
       "      <th>train_loss</th>\n",
       "      <th>valid_loss</th>\n",
       "      <th>batch_accuracy</th>\n",
       "      <th>time</th>\n",
       "    </tr>\n",
       "  </thead>\n",
       "  <tbody>\n",
       "    <tr>\n",
       "      <td>0</td>\n",
       "      <td>1.543590</td>\n",
       "      <td>1.547242</td>\n",
       "      <td>0.922300</td>\n",
       "      <td>00:03</td>\n",
       "    </tr>\n",
       "    <tr>\n",
       "      <td>1</td>\n",
       "      <td>1.525954</td>\n",
       "      <td>1.536432</td>\n",
       "      <td>0.929600</td>\n",
       "      <td>00:03</td>\n",
       "    </tr>\n",
       "    <tr>\n",
       "      <td>2</td>\n",
       "      <td>1.516011</td>\n",
       "      <td>1.530395</td>\n",
       "      <td>0.934300</td>\n",
       "      <td>00:03</td>\n",
       "    </tr>\n",
       "    <tr>\n",
       "      <td>3</td>\n",
       "      <td>1.508587</td>\n",
       "      <td>1.521837</td>\n",
       "      <td>0.943900</td>\n",
       "      <td>00:03</td>\n",
       "    </tr>\n",
       "    <tr>\n",
       "      <td>4</td>\n",
       "      <td>1.504133</td>\n",
       "      <td>1.519314</td>\n",
       "      <td>0.945100</td>\n",
       "      <td>00:03</td>\n",
       "    </tr>\n",
       "  </tbody>\n",
       "</table>"
      ],
      "text/plain": [
       "<IPython.core.display.HTML object>"
      ]
     },
     "metadata": {},
     "output_type": "display_data"
    },
    {
     "data": {
      "text/html": [],
      "text/plain": [
       "<IPython.core.display.HTML object>"
      ]
     },
     "metadata": {},
     "output_type": "display_data"
    },
    {
     "name": "stdout",
     "output_type": "stream",
     "text": [
      "Accuracy: 0.9451\n",
      "Evaluating: lr=0.0015, batch_size=128, opt_func=Adam, n_epochs=8, run=1\n"
     ]
    },
    {
     "data": {
      "text/html": [],
      "text/plain": [
       "<IPython.core.display.HTML object>"
      ]
     },
     "metadata": {},
     "output_type": "display_data"
    },
    {
     "name": "stdout",
     "output_type": "stream",
     "text": [
      "Initial accuracy: 0.1457\n"
     ]
    },
    {
     "data": {
      "text/html": [
       "<table border=\"1\" class=\"dataframe\">\n",
       "  <thead>\n",
       "    <tr style=\"text-align: left;\">\n",
       "      <th>epoch</th>\n",
       "      <th>train_loss</th>\n",
       "      <th>valid_loss</th>\n",
       "      <th>batch_accuracy</th>\n",
       "      <th>time</th>\n",
       "    </tr>\n",
       "  </thead>\n",
       "  <tbody>\n",
       "    <tr>\n",
       "      <td>0</td>\n",
       "      <td>1.537458</td>\n",
       "      <td>1.540391</td>\n",
       "      <td>0.929700</td>\n",
       "      <td>00:03</td>\n",
       "    </tr>\n",
       "    <tr>\n",
       "      <td>1</td>\n",
       "      <td>1.520465</td>\n",
       "      <td>1.534030</td>\n",
       "      <td>0.931800</td>\n",
       "      <td>00:03</td>\n",
       "    </tr>\n",
       "    <tr>\n",
       "      <td>2</td>\n",
       "      <td>1.512314</td>\n",
       "      <td>1.529846</td>\n",
       "      <td>0.935400</td>\n",
       "      <td>00:03</td>\n",
       "    </tr>\n",
       "    <tr>\n",
       "      <td>3</td>\n",
       "      <td>1.507306</td>\n",
       "      <td>1.525118</td>\n",
       "      <td>0.939100</td>\n",
       "      <td>00:03</td>\n",
       "    </tr>\n",
       "    <tr>\n",
       "      <td>4</td>\n",
       "      <td>1.503619</td>\n",
       "      <td>1.521828</td>\n",
       "      <td>0.942700</td>\n",
       "      <td>00:03</td>\n",
       "    </tr>\n",
       "    <tr>\n",
       "      <td>5</td>\n",
       "      <td>1.500328</td>\n",
       "      <td>1.521552</td>\n",
       "      <td>0.943300</td>\n",
       "      <td>00:03</td>\n",
       "    </tr>\n",
       "    <tr>\n",
       "      <td>6</td>\n",
       "      <td>1.497977</td>\n",
       "      <td>1.519656</td>\n",
       "      <td>0.945200</td>\n",
       "      <td>00:03</td>\n",
       "    </tr>\n",
       "    <tr>\n",
       "      <td>7</td>\n",
       "      <td>1.495972</td>\n",
       "      <td>1.515796</td>\n",
       "      <td>0.949000</td>\n",
       "      <td>00:03</td>\n",
       "    </tr>\n",
       "  </tbody>\n",
       "</table>"
      ],
      "text/plain": [
       "<IPython.core.display.HTML object>"
      ]
     },
     "metadata": {},
     "output_type": "display_data"
    },
    {
     "data": {
      "text/html": [],
      "text/plain": [
       "<IPython.core.display.HTML object>"
      ]
     },
     "metadata": {},
     "output_type": "display_data"
    },
    {
     "name": "stdout",
     "output_type": "stream",
     "text": [
      "Accuracy: 0.949\n",
      "Evaluating: lr=0.0015, batch_size=128, opt_func=Adam, n_epochs=11, run=1\n"
     ]
    },
    {
     "data": {
      "text/html": [],
      "text/plain": [
       "<IPython.core.display.HTML object>"
      ]
     },
     "metadata": {},
     "output_type": "display_data"
    },
    {
     "name": "stdout",
     "output_type": "stream",
     "text": [
      "Initial accuracy: 0.0938\n"
     ]
    },
    {
     "data": {
      "text/html": [
       "<table border=\"1\" class=\"dataframe\">\n",
       "  <thead>\n",
       "    <tr style=\"text-align: left;\">\n",
       "      <th>epoch</th>\n",
       "      <th>train_loss</th>\n",
       "      <th>valid_loss</th>\n",
       "      <th>batch_accuracy</th>\n",
       "      <th>time</th>\n",
       "    </tr>\n",
       "  </thead>\n",
       "  <tbody>\n",
       "    <tr>\n",
       "      <td>0</td>\n",
       "      <td>1.538022</td>\n",
       "      <td>1.539268</td>\n",
       "      <td>0.931000</td>\n",
       "      <td>00:03</td>\n",
       "    </tr>\n",
       "    <tr>\n",
       "      <td>1</td>\n",
       "      <td>1.518616</td>\n",
       "      <td>1.531500</td>\n",
       "      <td>0.934800</td>\n",
       "      <td>00:03</td>\n",
       "    </tr>\n",
       "    <tr>\n",
       "      <td>2</td>\n",
       "      <td>1.509515</td>\n",
       "      <td>1.521343</td>\n",
       "      <td>0.942800</td>\n",
       "      <td>00:03</td>\n",
       "    </tr>\n",
       "    <tr>\n",
       "      <td>3</td>\n",
       "      <td>1.502995</td>\n",
       "      <td>1.517486</td>\n",
       "      <td>0.947400</td>\n",
       "      <td>00:03</td>\n",
       "    </tr>\n",
       "    <tr>\n",
       "      <td>4</td>\n",
       "      <td>1.498963</td>\n",
       "      <td>1.514493</td>\n",
       "      <td>0.951300</td>\n",
       "      <td>00:03</td>\n",
       "    </tr>\n",
       "    <tr>\n",
       "      <td>5</td>\n",
       "      <td>1.495441</td>\n",
       "      <td>1.509797</td>\n",
       "      <td>0.955300</td>\n",
       "      <td>00:03</td>\n",
       "    </tr>\n",
       "    <tr>\n",
       "      <td>6</td>\n",
       "      <td>1.493418</td>\n",
       "      <td>1.508255</td>\n",
       "      <td>0.955900</td>\n",
       "      <td>00:03</td>\n",
       "    </tr>\n",
       "    <tr>\n",
       "      <td>7</td>\n",
       "      <td>1.491490</td>\n",
       "      <td>1.507328</td>\n",
       "      <td>0.956800</td>\n",
       "      <td>00:03</td>\n",
       "    </tr>\n",
       "    <tr>\n",
       "      <td>8</td>\n",
       "      <td>1.488903</td>\n",
       "      <td>1.506516</td>\n",
       "      <td>0.956800</td>\n",
       "      <td>00:03</td>\n",
       "    </tr>\n",
       "    <tr>\n",
       "      <td>9</td>\n",
       "      <td>1.487190</td>\n",
       "      <td>1.506301</td>\n",
       "      <td>0.956500</td>\n",
       "      <td>00:03</td>\n",
       "    </tr>\n",
       "    <tr>\n",
       "      <td>10</td>\n",
       "      <td>1.485541</td>\n",
       "      <td>1.504431</td>\n",
       "      <td>0.958600</td>\n",
       "      <td>00:03</td>\n",
       "    </tr>\n",
       "  </tbody>\n",
       "</table>"
      ],
      "text/plain": [
       "<IPython.core.display.HTML object>"
      ]
     },
     "metadata": {},
     "output_type": "display_data"
    },
    {
     "data": {
      "text/html": [],
      "text/plain": [
       "<IPython.core.display.HTML object>"
      ]
     },
     "metadata": {},
     "output_type": "display_data"
    },
    {
     "name": "stdout",
     "output_type": "stream",
     "text": [
      "Accuracy: 0.9586\n",
      "Evaluating: lr=0.0015, batch_size=128, opt_func=SGD, n_epochs=5, run=1\n"
     ]
    },
    {
     "data": {
      "text/html": [],
      "text/plain": [
       "<IPython.core.display.HTML object>"
      ]
     },
     "metadata": {},
     "output_type": "display_data"
    },
    {
     "name": "stdout",
     "output_type": "stream",
     "text": [
      "Initial accuracy: 0.078\n"
     ]
    },
    {
     "data": {
      "text/html": [
       "<table border=\"1\" class=\"dataframe\">\n",
       "  <thead>\n",
       "    <tr style=\"text-align: left;\">\n",
       "      <th>epoch</th>\n",
       "      <th>train_loss</th>\n",
       "      <th>valid_loss</th>\n",
       "      <th>batch_accuracy</th>\n",
       "      <th>time</th>\n",
       "    </tr>\n",
       "  </thead>\n",
       "  <tbody>\n",
       "    <tr>\n",
       "      <td>0</td>\n",
       "      <td>2.298719</td>\n",
       "      <td>2.299015</td>\n",
       "      <td>0.110100</td>\n",
       "      <td>00:02</td>\n",
       "    </tr>\n",
       "    <tr>\n",
       "      <td>1</td>\n",
       "      <td>2.294433</td>\n",
       "      <td>2.294848</td>\n",
       "      <td>0.186300</td>\n",
       "      <td>00:02</td>\n",
       "    </tr>\n",
       "    <tr>\n",
       "      <td>2</td>\n",
       "      <td>2.288785</td>\n",
       "      <td>2.289324</td>\n",
       "      <td>0.263200</td>\n",
       "      <td>00:02</td>\n",
       "    </tr>\n",
       "    <tr>\n",
       "      <td>3</td>\n",
       "      <td>2.281181</td>\n",
       "      <td>2.281790</td>\n",
       "      <td>0.316100</td>\n",
       "      <td>00:02</td>\n",
       "    </tr>\n",
       "    <tr>\n",
       "      <td>4</td>\n",
       "      <td>2.269932</td>\n",
       "      <td>2.270678</td>\n",
       "      <td>0.334900</td>\n",
       "      <td>00:02</td>\n",
       "    </tr>\n",
       "  </tbody>\n",
       "</table>"
      ],
      "text/plain": [
       "<IPython.core.display.HTML object>"
      ]
     },
     "metadata": {},
     "output_type": "display_data"
    },
    {
     "data": {
      "text/html": [],
      "text/plain": [
       "<IPython.core.display.HTML object>"
      ]
     },
     "metadata": {},
     "output_type": "display_data"
    },
    {
     "name": "stdout",
     "output_type": "stream",
     "text": [
      "Accuracy: 0.3349\n",
      "Evaluating: lr=0.0015, batch_size=128, opt_func=SGD, n_epochs=8, run=1\n"
     ]
    },
    {
     "data": {
      "text/html": [],
      "text/plain": [
       "<IPython.core.display.HTML object>"
      ]
     },
     "metadata": {},
     "output_type": "display_data"
    },
    {
     "name": "stdout",
     "output_type": "stream",
     "text": [
      "Initial accuracy: 0.0881\n"
     ]
    },
    {
     "data": {
      "text/html": [
       "<table border=\"1\" class=\"dataframe\">\n",
       "  <thead>\n",
       "    <tr style=\"text-align: left;\">\n",
       "      <th>epoch</th>\n",
       "      <th>train_loss</th>\n",
       "      <th>valid_loss</th>\n",
       "      <th>batch_accuracy</th>\n",
       "      <th>time</th>\n",
       "    </tr>\n",
       "  </thead>\n",
       "  <tbody>\n",
       "    <tr>\n",
       "      <td>0</td>\n",
       "      <td>2.298658</td>\n",
       "      <td>2.298591</td>\n",
       "      <td>0.122500</td>\n",
       "      <td>00:02</td>\n",
       "    </tr>\n",
       "    <tr>\n",
       "      <td>1</td>\n",
       "      <td>2.293918</td>\n",
       "      <td>2.293945</td>\n",
       "      <td>0.166100</td>\n",
       "      <td>00:02</td>\n",
       "    </tr>\n",
       "    <tr>\n",
       "      <td>2</td>\n",
       "      <td>2.287695</td>\n",
       "      <td>2.287809</td>\n",
       "      <td>0.301600</td>\n",
       "      <td>00:02</td>\n",
       "    </tr>\n",
       "    <tr>\n",
       "      <td>3</td>\n",
       "      <td>2.279091</td>\n",
       "      <td>2.279210</td>\n",
       "      <td>0.429900</td>\n",
       "      <td>00:02</td>\n",
       "    </tr>\n",
       "    <tr>\n",
       "      <td>4</td>\n",
       "      <td>2.266520</td>\n",
       "      <td>2.266539</td>\n",
       "      <td>0.498800</td>\n",
       "      <td>00:03</td>\n",
       "    </tr>\n",
       "    <tr>\n",
       "      <td>5</td>\n",
       "      <td>2.246045</td>\n",
       "      <td>2.245771</td>\n",
       "      <td>0.455400</td>\n",
       "      <td>00:03</td>\n",
       "    </tr>\n",
       "    <tr>\n",
       "      <td>6</td>\n",
       "      <td>2.219859</td>\n",
       "      <td>2.219412</td>\n",
       "      <td>0.465900</td>\n",
       "      <td>00:03</td>\n",
       "    </tr>\n",
       "    <tr>\n",
       "      <td>7</td>\n",
       "      <td>2.189277</td>\n",
       "      <td>2.189511</td>\n",
       "      <td>0.508500</td>\n",
       "      <td>00:02</td>\n",
       "    </tr>\n",
       "  </tbody>\n",
       "</table>"
      ],
      "text/plain": [
       "<IPython.core.display.HTML object>"
      ]
     },
     "metadata": {},
     "output_type": "display_data"
    },
    {
     "data": {
      "text/html": [],
      "text/plain": [
       "<IPython.core.display.HTML object>"
      ]
     },
     "metadata": {},
     "output_type": "display_data"
    },
    {
     "name": "stdout",
     "output_type": "stream",
     "text": [
      "Accuracy: 0.5085\n",
      "Evaluating: lr=0.0015, batch_size=128, opt_func=SGD, n_epochs=11, run=1\n"
     ]
    },
    {
     "data": {
      "text/html": [],
      "text/plain": [
       "<IPython.core.display.HTML object>"
      ]
     },
     "metadata": {},
     "output_type": "display_data"
    },
    {
     "name": "stdout",
     "output_type": "stream",
     "text": [
      "Initial accuracy: 0.0928\n"
     ]
    },
    {
     "data": {
      "text/html": [
       "<table border=\"1\" class=\"dataframe\">\n",
       "  <thead>\n",
       "    <tr style=\"text-align: left;\">\n",
       "      <th>epoch</th>\n",
       "      <th>train_loss</th>\n",
       "      <th>valid_loss</th>\n",
       "      <th>batch_accuracy</th>\n",
       "      <th>time</th>\n",
       "    </tr>\n",
       "  </thead>\n",
       "  <tbody>\n",
       "    <tr>\n",
       "      <td>0</td>\n",
       "      <td>2.298208</td>\n",
       "      <td>2.298414</td>\n",
       "      <td>0.204000</td>\n",
       "      <td>00:03</td>\n",
       "    </tr>\n",
       "    <tr>\n",
       "      <td>1</td>\n",
       "      <td>2.292909</td>\n",
       "      <td>2.293314</td>\n",
       "      <td>0.281200</td>\n",
       "      <td>00:03</td>\n",
       "    </tr>\n",
       "    <tr>\n",
       "      <td>2</td>\n",
       "      <td>2.286301</td>\n",
       "      <td>2.286943</td>\n",
       "      <td>0.341400</td>\n",
       "      <td>00:03</td>\n",
       "    </tr>\n",
       "    <tr>\n",
       "      <td>3</td>\n",
       "      <td>2.277275</td>\n",
       "      <td>2.278198</td>\n",
       "      <td>0.336500</td>\n",
       "      <td>00:03</td>\n",
       "    </tr>\n",
       "    <tr>\n",
       "      <td>4</td>\n",
       "      <td>2.262414</td>\n",
       "      <td>2.263717</td>\n",
       "      <td>0.301900</td>\n",
       "      <td>00:02</td>\n",
       "    </tr>\n",
       "    <tr>\n",
       "      <td>5</td>\n",
       "      <td>2.237627</td>\n",
       "      <td>2.239274</td>\n",
       "      <td>0.284200</td>\n",
       "      <td>00:02</td>\n",
       "    </tr>\n",
       "    <tr>\n",
       "      <td>6</td>\n",
       "      <td>2.208700</td>\n",
       "      <td>2.210730</td>\n",
       "      <td>0.303000</td>\n",
       "      <td>00:02</td>\n",
       "    </tr>\n",
       "    <tr>\n",
       "      <td>7</td>\n",
       "      <td>2.180941</td>\n",
       "      <td>2.183816</td>\n",
       "      <td>0.327700</td>\n",
       "      <td>00:02</td>\n",
       "    </tr>\n",
       "    <tr>\n",
       "      <td>8</td>\n",
       "      <td>2.153516</td>\n",
       "      <td>2.157766</td>\n",
       "      <td>0.356000</td>\n",
       "      <td>00:02</td>\n",
       "    </tr>\n",
       "    <tr>\n",
       "      <td>9</td>\n",
       "      <td>2.123523</td>\n",
       "      <td>2.129563</td>\n",
       "      <td>0.417300</td>\n",
       "      <td>00:02</td>\n",
       "    </tr>\n",
       "    <tr>\n",
       "      <td>10</td>\n",
       "      <td>2.088331</td>\n",
       "      <td>2.096453</td>\n",
       "      <td>0.503000</td>\n",
       "      <td>00:02</td>\n",
       "    </tr>\n",
       "  </tbody>\n",
       "</table>"
      ],
      "text/plain": [
       "<IPython.core.display.HTML object>"
      ]
     },
     "metadata": {},
     "output_type": "display_data"
    },
    {
     "data": {
      "text/html": [],
      "text/plain": [
       "<IPython.core.display.HTML object>"
      ]
     },
     "metadata": {},
     "output_type": "display_data"
    },
    {
     "name": "stdout",
     "output_type": "stream",
     "text": [
      "Accuracy: 0.503\n",
      "Evaluating: lr=0.0025, batch_size=32, opt_func=Adam, n_epochs=5, run=1\n"
     ]
    },
    {
     "data": {
      "text/html": [],
      "text/plain": [
       "<IPython.core.display.HTML object>"
      ]
     },
     "metadata": {},
     "output_type": "display_data"
    },
    {
     "name": "stdout",
     "output_type": "stream",
     "text": [
      "Initial accuracy: 0.0824\n"
     ]
    },
    {
     "data": {
      "text/html": [
       "<table border=\"1\" class=\"dataframe\">\n",
       "  <thead>\n",
       "    <tr style=\"text-align: left;\">\n",
       "      <th>epoch</th>\n",
       "      <th>train_loss</th>\n",
       "      <th>valid_loss</th>\n",
       "      <th>batch_accuracy</th>\n",
       "      <th>time</th>\n",
       "    </tr>\n",
       "  </thead>\n",
       "  <tbody>\n",
       "    <tr>\n",
       "      <td>0</td>\n",
       "      <td>1.518512</td>\n",
       "      <td>1.530199</td>\n",
       "      <td>0.933000</td>\n",
       "      <td>00:10</td>\n",
       "    </tr>\n",
       "    <tr>\n",
       "      <td>1</td>\n",
       "      <td>1.507489</td>\n",
       "      <td>1.519858</td>\n",
       "      <td>0.944200</td>\n",
       "      <td>00:11</td>\n",
       "    </tr>\n",
       "    <tr>\n",
       "      <td>2</td>\n",
       "      <td>1.502239</td>\n",
       "      <td>1.513053</td>\n",
       "      <td>0.949100</td>\n",
       "      <td>00:10</td>\n",
       "    </tr>\n",
       "    <tr>\n",
       "      <td>3</td>\n",
       "      <td>1.499108</td>\n",
       "      <td>1.514803</td>\n",
       "      <td>0.947900</td>\n",
       "      <td>00:10</td>\n",
       "    </tr>\n",
       "    <tr>\n",
       "      <td>4</td>\n",
       "      <td>1.497014</td>\n",
       "      <td>1.508316</td>\n",
       "      <td>0.955000</td>\n",
       "      <td>00:11</td>\n",
       "    </tr>\n",
       "  </tbody>\n",
       "</table>"
      ],
      "text/plain": [
       "<IPython.core.display.HTML object>"
      ]
     },
     "metadata": {},
     "output_type": "display_data"
    },
    {
     "data": {
      "text/html": [],
      "text/plain": [
       "<IPython.core.display.HTML object>"
      ]
     },
     "metadata": {},
     "output_type": "display_data"
    },
    {
     "name": "stdout",
     "output_type": "stream",
     "text": [
      "Accuracy: 0.955\n",
      "Evaluating: lr=0.0025, batch_size=32, opt_func=Adam, n_epochs=8, run=1\n"
     ]
    },
    {
     "data": {
      "text/html": [],
      "text/plain": [
       "<IPython.core.display.HTML object>"
      ]
     },
     "metadata": {},
     "output_type": "display_data"
    },
    {
     "name": "stdout",
     "output_type": "stream",
     "text": [
      "Initial accuracy: 0.0788\n"
     ]
    },
    {
     "data": {
      "text/html": [
       "<table border=\"1\" class=\"dataframe\">\n",
       "  <thead>\n",
       "    <tr style=\"text-align: left;\">\n",
       "      <th>epoch</th>\n",
       "      <th>train_loss</th>\n",
       "      <th>valid_loss</th>\n",
       "      <th>batch_accuracy</th>\n",
       "      <th>time</th>\n",
       "    </tr>\n",
       "  </thead>\n",
       "  <tbody>\n",
       "    <tr>\n",
       "      <td>0</td>\n",
       "      <td>1.527802</td>\n",
       "      <td>1.536518</td>\n",
       "      <td>0.929700</td>\n",
       "      <td>00:10</td>\n",
       "    </tr>\n",
       "    <tr>\n",
       "      <td>1</td>\n",
       "      <td>1.514655</td>\n",
       "      <td>1.527012</td>\n",
       "      <td>0.938600</td>\n",
       "      <td>00:11</td>\n",
       "    </tr>\n",
       "    <tr>\n",
       "      <td>2</td>\n",
       "      <td>1.509543</td>\n",
       "      <td>1.526011</td>\n",
       "      <td>0.937500</td>\n",
       "      <td>00:11</td>\n",
       "    </tr>\n",
       "    <tr>\n",
       "      <td>3</td>\n",
       "      <td>1.503868</td>\n",
       "      <td>1.518906</td>\n",
       "      <td>0.944000</td>\n",
       "      <td>00:11</td>\n",
       "    </tr>\n",
       "    <tr>\n",
       "      <td>4</td>\n",
       "      <td>1.502820</td>\n",
       "      <td>1.518732</td>\n",
       "      <td>0.944000</td>\n",
       "      <td>00:11</td>\n",
       "    </tr>\n",
       "    <tr>\n",
       "      <td>5</td>\n",
       "      <td>1.500659</td>\n",
       "      <td>1.517380</td>\n",
       "      <td>0.945400</td>\n",
       "      <td>00:11</td>\n",
       "    </tr>\n",
       "    <tr>\n",
       "      <td>6</td>\n",
       "      <td>1.503338</td>\n",
       "      <td>1.516333</td>\n",
       "      <td>0.946400</td>\n",
       "      <td>00:11</td>\n",
       "    </tr>\n",
       "    <tr>\n",
       "      <td>7</td>\n",
       "      <td>1.500020</td>\n",
       "      <td>1.513128</td>\n",
       "      <td>0.949600</td>\n",
       "      <td>00:11</td>\n",
       "    </tr>\n",
       "  </tbody>\n",
       "</table>"
      ],
      "text/plain": [
       "<IPython.core.display.HTML object>"
      ]
     },
     "metadata": {},
     "output_type": "display_data"
    },
    {
     "data": {
      "text/html": [],
      "text/plain": [
       "<IPython.core.display.HTML object>"
      ]
     },
     "metadata": {},
     "output_type": "display_data"
    },
    {
     "name": "stdout",
     "output_type": "stream",
     "text": [
      "Accuracy: 0.9496\n",
      "Evaluating: lr=0.0025, batch_size=32, opt_func=Adam, n_epochs=11, run=1\n"
     ]
    },
    {
     "data": {
      "text/html": [],
      "text/plain": [
       "<IPython.core.display.HTML object>"
      ]
     },
     "metadata": {},
     "output_type": "display_data"
    },
    {
     "name": "stdout",
     "output_type": "stream",
     "text": [
      "Initial accuracy: 0.0978\n"
     ]
    },
    {
     "data": {
      "text/html": [
       "<table border=\"1\" class=\"dataframe\">\n",
       "  <thead>\n",
       "    <tr style=\"text-align: left;\">\n",
       "      <th>epoch</th>\n",
       "      <th>train_loss</th>\n",
       "      <th>valid_loss</th>\n",
       "      <th>batch_accuracy</th>\n",
       "      <th>time</th>\n",
       "    </tr>\n",
       "  </thead>\n",
       "  <tbody>\n",
       "    <tr>\n",
       "      <td>0</td>\n",
       "      <td>1.513359</td>\n",
       "      <td>1.528561</td>\n",
       "      <td>0.935000</td>\n",
       "      <td>00:10</td>\n",
       "    </tr>\n",
       "    <tr>\n",
       "      <td>1</td>\n",
       "      <td>1.502757</td>\n",
       "      <td>1.517170</td>\n",
       "      <td>0.946100</td>\n",
       "      <td>00:11</td>\n",
       "    </tr>\n",
       "    <tr>\n",
       "      <td>2</td>\n",
       "      <td>1.500111</td>\n",
       "      <td>1.517746</td>\n",
       "      <td>0.944100</td>\n",
       "      <td>00:10</td>\n",
       "    </tr>\n",
       "    <tr>\n",
       "      <td>3</td>\n",
       "      <td>1.495227</td>\n",
       "      <td>1.512844</td>\n",
       "      <td>0.948900</td>\n",
       "      <td>00:10</td>\n",
       "    </tr>\n",
       "    <tr>\n",
       "      <td>4</td>\n",
       "      <td>1.493054</td>\n",
       "      <td>1.511221</td>\n",
       "      <td>0.951700</td>\n",
       "      <td>00:11</td>\n",
       "    </tr>\n",
       "    <tr>\n",
       "      <td>5</td>\n",
       "      <td>1.491961</td>\n",
       "      <td>1.500761</td>\n",
       "      <td>0.960500</td>\n",
       "      <td>00:10</td>\n",
       "    </tr>\n",
       "    <tr>\n",
       "      <td>6</td>\n",
       "      <td>1.491091</td>\n",
       "      <td>1.511196</td>\n",
       "      <td>0.950400</td>\n",
       "      <td>00:11</td>\n",
       "    </tr>\n",
       "    <tr>\n",
       "      <td>7</td>\n",
       "      <td>1.490892</td>\n",
       "      <td>1.499806</td>\n",
       "      <td>0.963200</td>\n",
       "      <td>00:11</td>\n",
       "    </tr>\n",
       "    <tr>\n",
       "      <td>8</td>\n",
       "      <td>1.488586</td>\n",
       "      <td>1.504475</td>\n",
       "      <td>0.958500</td>\n",
       "      <td>00:11</td>\n",
       "    </tr>\n",
       "    <tr>\n",
       "      <td>9</td>\n",
       "      <td>1.489802</td>\n",
       "      <td>1.504033</td>\n",
       "      <td>0.958600</td>\n",
       "      <td>00:11</td>\n",
       "    </tr>\n",
       "    <tr>\n",
       "      <td>10</td>\n",
       "      <td>1.489529</td>\n",
       "      <td>1.500198</td>\n",
       "      <td>0.962200</td>\n",
       "      <td>00:11</td>\n",
       "    </tr>\n",
       "  </tbody>\n",
       "</table>"
      ],
      "text/plain": [
       "<IPython.core.display.HTML object>"
      ]
     },
     "metadata": {},
     "output_type": "display_data"
    },
    {
     "data": {
      "text/html": [],
      "text/plain": [
       "<IPython.core.display.HTML object>"
      ]
     },
     "metadata": {},
     "output_type": "display_data"
    },
    {
     "name": "stdout",
     "output_type": "stream",
     "text": [
      "Accuracy: 0.9622\n",
      "Evaluating: lr=0.0025, batch_size=32, opt_func=SGD, n_epochs=5, run=1\n"
     ]
    },
    {
     "data": {
      "text/html": [],
      "text/plain": [
       "<IPython.core.display.HTML object>"
      ]
     },
     "metadata": {},
     "output_type": "display_data"
    },
    {
     "name": "stdout",
     "output_type": "stream",
     "text": [
      "Initial accuracy: 0.1307\n"
     ]
    },
    {
     "data": {
      "text/html": [
       "<table border=\"1\" class=\"dataframe\">\n",
       "  <thead>\n",
       "    <tr style=\"text-align: left;\">\n",
       "      <th>epoch</th>\n",
       "      <th>train_loss</th>\n",
       "      <th>valid_loss</th>\n",
       "      <th>batch_accuracy</th>\n",
       "      <th>time</th>\n",
       "    </tr>\n",
       "  </thead>\n",
       "  <tbody>\n",
       "    <tr>\n",
       "      <td>0</td>\n",
       "      <td>2.269940</td>\n",
       "      <td>2.269271</td>\n",
       "      <td>0.327300</td>\n",
       "      <td>00:08</td>\n",
       "    </tr>\n",
       "    <tr>\n",
       "      <td>1</td>\n",
       "      <td>2.083063</td>\n",
       "      <td>2.082503</td>\n",
       "      <td>0.587200</td>\n",
       "      <td>00:08</td>\n",
       "    </tr>\n",
       "    <tr>\n",
       "      <td>2</td>\n",
       "      <td>1.838904</td>\n",
       "      <td>1.833327</td>\n",
       "      <td>0.714300</td>\n",
       "      <td>00:09</td>\n",
       "    </tr>\n",
       "    <tr>\n",
       "      <td>3</td>\n",
       "      <td>1.751916</td>\n",
       "      <td>1.746745</td>\n",
       "      <td>0.786000</td>\n",
       "      <td>00:09</td>\n",
       "    </tr>\n",
       "    <tr>\n",
       "      <td>4</td>\n",
       "      <td>1.706209</td>\n",
       "      <td>1.699322</td>\n",
       "      <td>0.815700</td>\n",
       "      <td>00:08</td>\n",
       "    </tr>\n",
       "  </tbody>\n",
       "</table>"
      ],
      "text/plain": [
       "<IPython.core.display.HTML object>"
      ]
     },
     "metadata": {},
     "output_type": "display_data"
    },
    {
     "data": {
      "text/html": [],
      "text/plain": [
       "<IPython.core.display.HTML object>"
      ]
     },
     "metadata": {},
     "output_type": "display_data"
    },
    {
     "name": "stdout",
     "output_type": "stream",
     "text": [
      "Accuracy: 0.8157\n",
      "Evaluating: lr=0.0025, batch_size=32, opt_func=SGD, n_epochs=8, run=1\n"
     ]
    },
    {
     "data": {
      "text/html": [],
      "text/plain": [
       "<IPython.core.display.HTML object>"
      ]
     },
     "metadata": {},
     "output_type": "display_data"
    },
    {
     "name": "stdout",
     "output_type": "stream",
     "text": [
      "Initial accuracy: 0.0945\n"
     ]
    },
    {
     "data": {
      "text/html": [
       "<table border=\"1\" class=\"dataframe\">\n",
       "  <thead>\n",
       "    <tr style=\"text-align: left;\">\n",
       "      <th>epoch</th>\n",
       "      <th>train_loss</th>\n",
       "      <th>valid_loss</th>\n",
       "      <th>batch_accuracy</th>\n",
       "      <th>time</th>\n",
       "    </tr>\n",
       "  </thead>\n",
       "  <tbody>\n",
       "    <tr>\n",
       "      <td>0</td>\n",
       "      <td>2.223017</td>\n",
       "      <td>2.221166</td>\n",
       "      <td>0.360800</td>\n",
       "      <td>00:09</td>\n",
       "    </tr>\n",
       "    <tr>\n",
       "      <td>1</td>\n",
       "      <td>2.005208</td>\n",
       "      <td>2.008497</td>\n",
       "      <td>0.477400</td>\n",
       "      <td>00:09</td>\n",
       "    </tr>\n",
       "    <tr>\n",
       "      <td>2</td>\n",
       "      <td>1.831409</td>\n",
       "      <td>1.831105</td>\n",
       "      <td>0.746100</td>\n",
       "      <td>00:09</td>\n",
       "    </tr>\n",
       "    <tr>\n",
       "      <td>3</td>\n",
       "      <td>1.740865</td>\n",
       "      <td>1.737883</td>\n",
       "      <td>0.795800</td>\n",
       "      <td>00:09</td>\n",
       "    </tr>\n",
       "    <tr>\n",
       "      <td>4</td>\n",
       "      <td>1.703418</td>\n",
       "      <td>1.697425</td>\n",
       "      <td>0.815100</td>\n",
       "      <td>00:09</td>\n",
       "    </tr>\n",
       "    <tr>\n",
       "      <td>5</td>\n",
       "      <td>1.683259</td>\n",
       "      <td>1.676018</td>\n",
       "      <td>0.823600</td>\n",
       "      <td>00:09</td>\n",
       "    </tr>\n",
       "    <tr>\n",
       "      <td>6</td>\n",
       "      <td>1.670992</td>\n",
       "      <td>1.663404</td>\n",
       "      <td>0.829200</td>\n",
       "      <td>00:09</td>\n",
       "    </tr>\n",
       "    <tr>\n",
       "      <td>7</td>\n",
       "      <td>1.662750</td>\n",
       "      <td>1.655115</td>\n",
       "      <td>0.831700</td>\n",
       "      <td>00:09</td>\n",
       "    </tr>\n",
       "  </tbody>\n",
       "</table>"
      ],
      "text/plain": [
       "<IPython.core.display.HTML object>"
      ]
     },
     "metadata": {},
     "output_type": "display_data"
    },
    {
     "data": {
      "text/html": [],
      "text/plain": [
       "<IPython.core.display.HTML object>"
      ]
     },
     "metadata": {},
     "output_type": "display_data"
    },
    {
     "name": "stdout",
     "output_type": "stream",
     "text": [
      "Accuracy: 0.8317\n",
      "Evaluating: lr=0.0025, batch_size=32, opt_func=SGD, n_epochs=11, run=1\n"
     ]
    },
    {
     "data": {
      "text/html": [],
      "text/plain": [
       "<IPython.core.display.HTML object>"
      ]
     },
     "metadata": {},
     "output_type": "display_data"
    },
    {
     "name": "stdout",
     "output_type": "stream",
     "text": [
      "Initial accuracy: 0.0953\n"
     ]
    },
    {
     "data": {
      "text/html": [
       "<table border=\"1\" class=\"dataframe\">\n",
       "  <thead>\n",
       "    <tr style=\"text-align: left;\">\n",
       "      <th>epoch</th>\n",
       "      <th>train_loss</th>\n",
       "      <th>valid_loss</th>\n",
       "      <th>batch_accuracy</th>\n",
       "      <th>time</th>\n",
       "    </tr>\n",
       "  </thead>\n",
       "  <tbody>\n",
       "    <tr>\n",
       "      <td>0</td>\n",
       "      <td>2.219952</td>\n",
       "      <td>2.219194</td>\n",
       "      <td>0.416900</td>\n",
       "      <td>00:09</td>\n",
       "    </tr>\n",
       "    <tr>\n",
       "      <td>1</td>\n",
       "      <td>1.994578</td>\n",
       "      <td>2.001963</td>\n",
       "      <td>0.488500</td>\n",
       "      <td>00:09</td>\n",
       "    </tr>\n",
       "    <tr>\n",
       "      <td>2</td>\n",
       "      <td>1.865102</td>\n",
       "      <td>1.868782</td>\n",
       "      <td>0.662400</td>\n",
       "      <td>00:09</td>\n",
       "    </tr>\n",
       "    <tr>\n",
       "      <td>3</td>\n",
       "      <td>1.774142</td>\n",
       "      <td>1.773580</td>\n",
       "      <td>0.734000</td>\n",
       "      <td>00:09</td>\n",
       "    </tr>\n",
       "    <tr>\n",
       "      <td>4</td>\n",
       "      <td>1.750048</td>\n",
       "      <td>1.746869</td>\n",
       "      <td>0.744200</td>\n",
       "      <td>00:09</td>\n",
       "    </tr>\n",
       "    <tr>\n",
       "      <td>5</td>\n",
       "      <td>1.738195</td>\n",
       "      <td>1.734078</td>\n",
       "      <td>0.748800</td>\n",
       "      <td>00:09</td>\n",
       "    </tr>\n",
       "    <tr>\n",
       "      <td>6</td>\n",
       "      <td>1.730102</td>\n",
       "      <td>1.725706</td>\n",
       "      <td>0.751000</td>\n",
       "      <td>00:09</td>\n",
       "    </tr>\n",
       "    <tr>\n",
       "      <td>7</td>\n",
       "      <td>1.701638</td>\n",
       "      <td>1.696951</td>\n",
       "      <td>0.801600</td>\n",
       "      <td>00:08</td>\n",
       "    </tr>\n",
       "    <tr>\n",
       "      <td>8</td>\n",
       "      <td>1.683847</td>\n",
       "      <td>1.679183</td>\n",
       "      <td>0.811300</td>\n",
       "      <td>00:08</td>\n",
       "    </tr>\n",
       "    <tr>\n",
       "      <td>9</td>\n",
       "      <td>1.674066</td>\n",
       "      <td>1.669363</td>\n",
       "      <td>0.814900</td>\n",
       "      <td>00:08</td>\n",
       "    </tr>\n",
       "    <tr>\n",
       "      <td>10</td>\n",
       "      <td>1.667597</td>\n",
       "      <td>1.662909</td>\n",
       "      <td>0.816500</td>\n",
       "      <td>00:08</td>\n",
       "    </tr>\n",
       "  </tbody>\n",
       "</table>"
      ],
      "text/plain": [
       "<IPython.core.display.HTML object>"
      ]
     },
     "metadata": {},
     "output_type": "display_data"
    },
    {
     "data": {
      "text/html": [],
      "text/plain": [
       "<IPython.core.display.HTML object>"
      ]
     },
     "metadata": {},
     "output_type": "display_data"
    },
    {
     "name": "stdout",
     "output_type": "stream",
     "text": [
      "Accuracy: 0.8165\n",
      "Evaluating: lr=0.0025, batch_size=64, opt_func=Adam, n_epochs=5, run=1\n"
     ]
    },
    {
     "data": {
      "text/html": [],
      "text/plain": [
       "<IPython.core.display.HTML object>"
      ]
     },
     "metadata": {},
     "output_type": "display_data"
    },
    {
     "name": "stdout",
     "output_type": "stream",
     "text": [
      "Initial accuracy: 0.0969\n"
     ]
    },
    {
     "data": {
      "text/html": [
       "<table border=\"1\" class=\"dataframe\">\n",
       "  <thead>\n",
       "    <tr style=\"text-align: left;\">\n",
       "      <th>epoch</th>\n",
       "      <th>train_loss</th>\n",
       "      <th>valid_loss</th>\n",
       "      <th>batch_accuracy</th>\n",
       "      <th>time</th>\n",
       "    </tr>\n",
       "  </thead>\n",
       "  <tbody>\n",
       "    <tr>\n",
       "      <td>0</td>\n",
       "      <td>1.525151</td>\n",
       "      <td>1.535614</td>\n",
       "      <td>0.929500</td>\n",
       "      <td>00:05</td>\n",
       "    </tr>\n",
       "    <tr>\n",
       "      <td>1</td>\n",
       "      <td>1.509820</td>\n",
       "      <td>1.522976</td>\n",
       "      <td>0.940700</td>\n",
       "      <td>00:05</td>\n",
       "    </tr>\n",
       "    <tr>\n",
       "      <td>2</td>\n",
       "      <td>1.504701</td>\n",
       "      <td>1.520596</td>\n",
       "      <td>0.943500</td>\n",
       "      <td>00:06</td>\n",
       "    </tr>\n",
       "    <tr>\n",
       "      <td>3</td>\n",
       "      <td>1.502357</td>\n",
       "      <td>1.518927</td>\n",
       "      <td>0.944300</td>\n",
       "      <td>00:06</td>\n",
       "    </tr>\n",
       "    <tr>\n",
       "      <td>4</td>\n",
       "      <td>1.498897</td>\n",
       "      <td>1.515500</td>\n",
       "      <td>0.947500</td>\n",
       "      <td>00:06</td>\n",
       "    </tr>\n",
       "  </tbody>\n",
       "</table>"
      ],
      "text/plain": [
       "<IPython.core.display.HTML object>"
      ]
     },
     "metadata": {},
     "output_type": "display_data"
    },
    {
     "data": {
      "text/html": [],
      "text/plain": [
       "<IPython.core.display.HTML object>"
      ]
     },
     "metadata": {},
     "output_type": "display_data"
    },
    {
     "name": "stdout",
     "output_type": "stream",
     "text": [
      "Accuracy: 0.9475\n",
      "Evaluating: lr=0.0025, batch_size=64, opt_func=Adam, n_epochs=8, run=1\n"
     ]
    },
    {
     "data": {
      "text/html": [],
      "text/plain": [
       "<IPython.core.display.HTML object>"
      ]
     },
     "metadata": {},
     "output_type": "display_data"
    },
    {
     "name": "stdout",
     "output_type": "stream",
     "text": [
      "Initial accuracy: 0.0918\n"
     ]
    },
    {
     "data": {
      "text/html": [
       "<table border=\"1\" class=\"dataframe\">\n",
       "  <thead>\n",
       "    <tr style=\"text-align: left;\">\n",
       "      <th>epoch</th>\n",
       "      <th>train_loss</th>\n",
       "      <th>valid_loss</th>\n",
       "      <th>batch_accuracy</th>\n",
       "      <th>time</th>\n",
       "    </tr>\n",
       "  </thead>\n",
       "  <tbody>\n",
       "    <tr>\n",
       "      <td>0</td>\n",
       "      <td>1.526790</td>\n",
       "      <td>1.537825</td>\n",
       "      <td>0.928100</td>\n",
       "      <td>00:06</td>\n",
       "    </tr>\n",
       "    <tr>\n",
       "      <td>1</td>\n",
       "      <td>1.511639</td>\n",
       "      <td>1.522545</td>\n",
       "      <td>0.941300</td>\n",
       "      <td>00:06</td>\n",
       "    </tr>\n",
       "    <tr>\n",
       "      <td>2</td>\n",
       "      <td>1.504084</td>\n",
       "      <td>1.515889</td>\n",
       "      <td>0.947900</td>\n",
       "      <td>00:06</td>\n",
       "    </tr>\n",
       "    <tr>\n",
       "      <td>3</td>\n",
       "      <td>1.500105</td>\n",
       "      <td>1.503380</td>\n",
       "      <td>0.959900</td>\n",
       "      <td>00:06</td>\n",
       "    </tr>\n",
       "    <tr>\n",
       "      <td>4</td>\n",
       "      <td>1.494004</td>\n",
       "      <td>1.506811</td>\n",
       "      <td>0.956200</td>\n",
       "      <td>00:06</td>\n",
       "    </tr>\n",
       "    <tr>\n",
       "      <td>5</td>\n",
       "      <td>1.493386</td>\n",
       "      <td>1.502962</td>\n",
       "      <td>0.959600</td>\n",
       "      <td>00:06</td>\n",
       "    </tr>\n",
       "    <tr>\n",
       "      <td>6</td>\n",
       "      <td>1.492753</td>\n",
       "      <td>1.502583</td>\n",
       "      <td>0.959900</td>\n",
       "      <td>00:06</td>\n",
       "    </tr>\n",
       "    <tr>\n",
       "      <td>7</td>\n",
       "      <td>1.489394</td>\n",
       "      <td>1.503735</td>\n",
       "      <td>0.959900</td>\n",
       "      <td>00:05</td>\n",
       "    </tr>\n",
       "  </tbody>\n",
       "</table>"
      ],
      "text/plain": [
       "<IPython.core.display.HTML object>"
      ]
     },
     "metadata": {},
     "output_type": "display_data"
    },
    {
     "data": {
      "text/html": [],
      "text/plain": [
       "<IPython.core.display.HTML object>"
      ]
     },
     "metadata": {},
     "output_type": "display_data"
    },
    {
     "name": "stdout",
     "output_type": "stream",
     "text": [
      "Accuracy: 0.9599\n",
      "Evaluating: lr=0.0025, batch_size=64, opt_func=Adam, n_epochs=11, run=1\n"
     ]
    },
    {
     "data": {
      "text/html": [],
      "text/plain": [
       "<IPython.core.display.HTML object>"
      ]
     },
     "metadata": {},
     "output_type": "display_data"
    },
    {
     "name": "stdout",
     "output_type": "stream",
     "text": [
      "Initial accuracy: 0.1248\n"
     ]
    },
    {
     "data": {
      "text/html": [
       "<table border=\"1\" class=\"dataframe\">\n",
       "  <thead>\n",
       "    <tr style=\"text-align: left;\">\n",
       "      <th>epoch</th>\n",
       "      <th>train_loss</th>\n",
       "      <th>valid_loss</th>\n",
       "      <th>batch_accuracy</th>\n",
       "      <th>time</th>\n",
       "    </tr>\n",
       "  </thead>\n",
       "  <tbody>\n",
       "    <tr>\n",
       "      <td>0</td>\n",
       "      <td>1.526209</td>\n",
       "      <td>1.535418</td>\n",
       "      <td>0.929700</td>\n",
       "      <td>00:05</td>\n",
       "    </tr>\n",
       "    <tr>\n",
       "      <td>1</td>\n",
       "      <td>1.509688</td>\n",
       "      <td>1.520929</td>\n",
       "      <td>0.942800</td>\n",
       "      <td>00:06</td>\n",
       "    </tr>\n",
       "    <tr>\n",
       "      <td>2</td>\n",
       "      <td>1.504107</td>\n",
       "      <td>1.518267</td>\n",
       "      <td>0.945200</td>\n",
       "      <td>00:06</td>\n",
       "    </tr>\n",
       "    <tr>\n",
       "      <td>3</td>\n",
       "      <td>1.496884</td>\n",
       "      <td>1.516521</td>\n",
       "      <td>0.946200</td>\n",
       "      <td>00:06</td>\n",
       "    </tr>\n",
       "    <tr>\n",
       "      <td>4</td>\n",
       "      <td>1.494651</td>\n",
       "      <td>1.510758</td>\n",
       "      <td>0.951700</td>\n",
       "      <td>00:05</td>\n",
       "    </tr>\n",
       "    <tr>\n",
       "      <td>5</td>\n",
       "      <td>1.491889</td>\n",
       "      <td>1.506397</td>\n",
       "      <td>0.956800</td>\n",
       "      <td>00:05</td>\n",
       "    </tr>\n",
       "    <tr>\n",
       "      <td>6</td>\n",
       "      <td>1.490785</td>\n",
       "      <td>1.500513</td>\n",
       "      <td>0.962700</td>\n",
       "      <td>00:05</td>\n",
       "    </tr>\n",
       "    <tr>\n",
       "      <td>7</td>\n",
       "      <td>1.491176</td>\n",
       "      <td>1.503113</td>\n",
       "      <td>0.959300</td>\n",
       "      <td>00:05</td>\n",
       "    </tr>\n",
       "    <tr>\n",
       "      <td>8</td>\n",
       "      <td>1.488460</td>\n",
       "      <td>1.502993</td>\n",
       "      <td>0.959900</td>\n",
       "      <td>00:05</td>\n",
       "    </tr>\n",
       "    <tr>\n",
       "      <td>9</td>\n",
       "      <td>1.486988</td>\n",
       "      <td>1.498736</td>\n",
       "      <td>0.963200</td>\n",
       "      <td>00:05</td>\n",
       "    </tr>\n",
       "    <tr>\n",
       "      <td>10</td>\n",
       "      <td>1.487404</td>\n",
       "      <td>1.501794</td>\n",
       "      <td>0.960600</td>\n",
       "      <td>00:05</td>\n",
       "    </tr>\n",
       "  </tbody>\n",
       "</table>"
      ],
      "text/plain": [
       "<IPython.core.display.HTML object>"
      ]
     },
     "metadata": {},
     "output_type": "display_data"
    },
    {
     "data": {
      "text/html": [],
      "text/plain": [
       "<IPython.core.display.HTML object>"
      ]
     },
     "metadata": {},
     "output_type": "display_data"
    },
    {
     "name": "stdout",
     "output_type": "stream",
     "text": [
      "Accuracy: 0.9606\n",
      "Evaluating: lr=0.0025, batch_size=64, opt_func=SGD, n_epochs=5, run=1\n"
     ]
    },
    {
     "data": {
      "text/html": [],
      "text/plain": [
       "<IPython.core.display.HTML object>"
      ]
     },
     "metadata": {},
     "output_type": "display_data"
    },
    {
     "name": "stdout",
     "output_type": "stream",
     "text": [
      "Initial accuracy: 0.0993\n"
     ]
    },
    {
     "data": {
      "text/html": [
       "<table border=\"1\" class=\"dataframe\">\n",
       "  <thead>\n",
       "    <tr style=\"text-align: left;\">\n",
       "      <th>epoch</th>\n",
       "      <th>train_loss</th>\n",
       "      <th>valid_loss</th>\n",
       "      <th>batch_accuracy</th>\n",
       "      <th>time</th>\n",
       "    </tr>\n",
       "  </thead>\n",
       "  <tbody>\n",
       "    <tr>\n",
       "      <td>0</td>\n",
       "      <td>2.281565</td>\n",
       "      <td>2.281095</td>\n",
       "      <td>0.384500</td>\n",
       "      <td>00:04</td>\n",
       "    </tr>\n",
       "    <tr>\n",
       "      <td>1</td>\n",
       "      <td>2.214897</td>\n",
       "      <td>2.212942</td>\n",
       "      <td>0.500800</td>\n",
       "      <td>00:04</td>\n",
       "    </tr>\n",
       "    <tr>\n",
       "      <td>2</td>\n",
       "      <td>2.075268</td>\n",
       "      <td>2.075614</td>\n",
       "      <td>0.562000</td>\n",
       "      <td>00:04</td>\n",
       "    </tr>\n",
       "    <tr>\n",
       "      <td>3</td>\n",
       "      <td>1.910402</td>\n",
       "      <td>1.911341</td>\n",
       "      <td>0.655700</td>\n",
       "      <td>00:04</td>\n",
       "    </tr>\n",
       "    <tr>\n",
       "      <td>4</td>\n",
       "      <td>1.835954</td>\n",
       "      <td>1.834557</td>\n",
       "      <td>0.717900</td>\n",
       "      <td>00:05</td>\n",
       "    </tr>\n",
       "  </tbody>\n",
       "</table>"
      ],
      "text/plain": [
       "<IPython.core.display.HTML object>"
      ]
     },
     "metadata": {},
     "output_type": "display_data"
    },
    {
     "data": {
      "text/html": [],
      "text/plain": [
       "<IPython.core.display.HTML object>"
      ]
     },
     "metadata": {},
     "output_type": "display_data"
    },
    {
     "name": "stdout",
     "output_type": "stream",
     "text": [
      "Accuracy: 0.7179\n",
      "Evaluating: lr=0.0025, batch_size=64, opt_func=SGD, n_epochs=8, run=1\n"
     ]
    },
    {
     "data": {
      "text/html": [],
      "text/plain": [
       "<IPython.core.display.HTML object>"
      ]
     },
     "metadata": {},
     "output_type": "display_data"
    },
    {
     "name": "stdout",
     "output_type": "stream",
     "text": [
      "Initial accuracy: 0.145\n"
     ]
    },
    {
     "data": {
      "text/html": [
       "<table border=\"1\" class=\"dataframe\">\n",
       "  <thead>\n",
       "    <tr style=\"text-align: left;\">\n",
       "      <th>epoch</th>\n",
       "      <th>train_loss</th>\n",
       "      <th>valid_loss</th>\n",
       "      <th>batch_accuracy</th>\n",
       "      <th>time</th>\n",
       "    </tr>\n",
       "  </thead>\n",
       "  <tbody>\n",
       "    <tr>\n",
       "      <td>0</td>\n",
       "      <td>2.289437</td>\n",
       "      <td>2.288844</td>\n",
       "      <td>0.381200</td>\n",
       "      <td>00:04</td>\n",
       "    </tr>\n",
       "    <tr>\n",
       "      <td>1</td>\n",
       "      <td>2.256900</td>\n",
       "      <td>2.255573</td>\n",
       "      <td>0.351400</td>\n",
       "      <td>00:04</td>\n",
       "    </tr>\n",
       "    <tr>\n",
       "      <td>2</td>\n",
       "      <td>2.158828</td>\n",
       "      <td>2.156086</td>\n",
       "      <td>0.434900</td>\n",
       "      <td>00:04</td>\n",
       "    </tr>\n",
       "    <tr>\n",
       "      <td>3</td>\n",
       "      <td>2.011124</td>\n",
       "      <td>2.005278</td>\n",
       "      <td>0.593600</td>\n",
       "      <td>00:04</td>\n",
       "    </tr>\n",
       "    <tr>\n",
       "      <td>4</td>\n",
       "      <td>1.890243</td>\n",
       "      <td>1.889240</td>\n",
       "      <td>0.650600</td>\n",
       "      <td>00:04</td>\n",
       "    </tr>\n",
       "    <tr>\n",
       "      <td>5</td>\n",
       "      <td>1.817166</td>\n",
       "      <td>1.815967</td>\n",
       "      <td>0.720600</td>\n",
       "      <td>00:04</td>\n",
       "    </tr>\n",
       "    <tr>\n",
       "      <td>6</td>\n",
       "      <td>1.782697</td>\n",
       "      <td>1.780255</td>\n",
       "      <td>0.732100</td>\n",
       "      <td>00:04</td>\n",
       "    </tr>\n",
       "    <tr>\n",
       "      <td>7</td>\n",
       "      <td>1.747156</td>\n",
       "      <td>1.742704</td>\n",
       "      <td>0.796500</td>\n",
       "      <td>00:04</td>\n",
       "    </tr>\n",
       "  </tbody>\n",
       "</table>"
      ],
      "text/plain": [
       "<IPython.core.display.HTML object>"
      ]
     },
     "metadata": {},
     "output_type": "display_data"
    },
    {
     "data": {
      "text/html": [],
      "text/plain": [
       "<IPython.core.display.HTML object>"
      ]
     },
     "metadata": {},
     "output_type": "display_data"
    },
    {
     "name": "stdout",
     "output_type": "stream",
     "text": [
      "Accuracy: 0.7965\n",
      "Evaluating: lr=0.0025, batch_size=64, opt_func=SGD, n_epochs=11, run=1\n"
     ]
    },
    {
     "data": {
      "text/html": [],
      "text/plain": [
       "<IPython.core.display.HTML object>"
      ]
     },
     "metadata": {},
     "output_type": "display_data"
    },
    {
     "name": "stdout",
     "output_type": "stream",
     "text": [
      "Initial accuracy: 0.1008\n"
     ]
    },
    {
     "data": {
      "text/html": [
       "<table border=\"1\" class=\"dataframe\">\n",
       "  <thead>\n",
       "    <tr style=\"text-align: left;\">\n",
       "      <th>epoch</th>\n",
       "      <th>train_loss</th>\n",
       "      <th>valid_loss</th>\n",
       "      <th>batch_accuracy</th>\n",
       "      <th>time</th>\n",
       "    </tr>\n",
       "  </thead>\n",
       "  <tbody>\n",
       "    <tr>\n",
       "      <td>0</td>\n",
       "      <td>2.280679</td>\n",
       "      <td>2.279692</td>\n",
       "      <td>0.208600</td>\n",
       "      <td>00:04</td>\n",
       "    </tr>\n",
       "    <tr>\n",
       "      <td>1</td>\n",
       "      <td>2.218418</td>\n",
       "      <td>2.216982</td>\n",
       "      <td>0.300300</td>\n",
       "      <td>00:04</td>\n",
       "    </tr>\n",
       "    <tr>\n",
       "      <td>2</td>\n",
       "      <td>2.137413</td>\n",
       "      <td>2.137917</td>\n",
       "      <td>0.391000</td>\n",
       "      <td>00:04</td>\n",
       "    </tr>\n",
       "    <tr>\n",
       "      <td>3</td>\n",
       "      <td>2.039092</td>\n",
       "      <td>2.038567</td>\n",
       "      <td>0.538600</td>\n",
       "      <td>00:04</td>\n",
       "    </tr>\n",
       "    <tr>\n",
       "      <td>4</td>\n",
       "      <td>1.932431</td>\n",
       "      <td>1.930617</td>\n",
       "      <td>0.625500</td>\n",
       "      <td>00:04</td>\n",
       "    </tr>\n",
       "    <tr>\n",
       "      <td>5</td>\n",
       "      <td>1.870877</td>\n",
       "      <td>1.867020</td>\n",
       "      <td>0.643800</td>\n",
       "      <td>00:04</td>\n",
       "    </tr>\n",
       "    <tr>\n",
       "      <td>6</td>\n",
       "      <td>1.816972</td>\n",
       "      <td>1.813506</td>\n",
       "      <td>0.722500</td>\n",
       "      <td>00:04</td>\n",
       "    </tr>\n",
       "    <tr>\n",
       "      <td>7</td>\n",
       "      <td>1.762128</td>\n",
       "      <td>1.758443</td>\n",
       "      <td>0.782100</td>\n",
       "      <td>00:04</td>\n",
       "    </tr>\n",
       "    <tr>\n",
       "      <td>8</td>\n",
       "      <td>1.730942</td>\n",
       "      <td>1.725720</td>\n",
       "      <td>0.799500</td>\n",
       "      <td>00:04</td>\n",
       "    </tr>\n",
       "    <tr>\n",
       "      <td>9</td>\n",
       "      <td>1.710432</td>\n",
       "      <td>1.703774</td>\n",
       "      <td>0.812800</td>\n",
       "      <td>00:04</td>\n",
       "    </tr>\n",
       "    <tr>\n",
       "      <td>10</td>\n",
       "      <td>1.696002</td>\n",
       "      <td>1.688439</td>\n",
       "      <td>0.819800</td>\n",
       "      <td>00:04</td>\n",
       "    </tr>\n",
       "  </tbody>\n",
       "</table>"
      ],
      "text/plain": [
       "<IPython.core.display.HTML object>"
      ]
     },
     "metadata": {},
     "output_type": "display_data"
    },
    {
     "data": {
      "text/html": [],
      "text/plain": [
       "<IPython.core.display.HTML object>"
      ]
     },
     "metadata": {},
     "output_type": "display_data"
    },
    {
     "name": "stdout",
     "output_type": "stream",
     "text": [
      "Accuracy: 0.8198\n",
      "Evaluating: lr=0.0025, batch_size=128, opt_func=Adam, n_epochs=5, run=1\n"
     ]
    },
    {
     "data": {
      "text/html": [],
      "text/plain": [
       "<IPython.core.display.HTML object>"
      ]
     },
     "metadata": {},
     "output_type": "display_data"
    },
    {
     "name": "stdout",
     "output_type": "stream",
     "text": [
      "Initial accuracy: 0.1055\n"
     ]
    },
    {
     "data": {
      "text/html": [
       "<table border=\"1\" class=\"dataframe\">\n",
       "  <thead>\n",
       "    <tr style=\"text-align: left;\">\n",
       "      <th>epoch</th>\n",
       "      <th>train_loss</th>\n",
       "      <th>valid_loss</th>\n",
       "      <th>batch_accuracy</th>\n",
       "      <th>time</th>\n",
       "    </tr>\n",
       "  </thead>\n",
       "  <tbody>\n",
       "    <tr>\n",
       "      <td>0</td>\n",
       "      <td>1.530781</td>\n",
       "      <td>1.532960</td>\n",
       "      <td>0.933500</td>\n",
       "      <td>00:03</td>\n",
       "    </tr>\n",
       "    <tr>\n",
       "      <td>1</td>\n",
       "      <td>1.515432</td>\n",
       "      <td>1.523461</td>\n",
       "      <td>0.942000</td>\n",
       "      <td>00:03</td>\n",
       "    </tr>\n",
       "    <tr>\n",
       "      <td>2</td>\n",
       "      <td>1.507879</td>\n",
       "      <td>1.517598</td>\n",
       "      <td>0.945900</td>\n",
       "      <td>00:03</td>\n",
       "    </tr>\n",
       "    <tr>\n",
       "      <td>3</td>\n",
       "      <td>1.502995</td>\n",
       "      <td>1.510831</td>\n",
       "      <td>0.953900</td>\n",
       "      <td>00:03</td>\n",
       "    </tr>\n",
       "    <tr>\n",
       "      <td>4</td>\n",
       "      <td>1.499228</td>\n",
       "      <td>1.507643</td>\n",
       "      <td>0.956400</td>\n",
       "      <td>00:03</td>\n",
       "    </tr>\n",
       "  </tbody>\n",
       "</table>"
      ],
      "text/plain": [
       "<IPython.core.display.HTML object>"
      ]
     },
     "metadata": {},
     "output_type": "display_data"
    },
    {
     "data": {
      "text/html": [],
      "text/plain": [
       "<IPython.core.display.HTML object>"
      ]
     },
     "metadata": {},
     "output_type": "display_data"
    },
    {
     "name": "stdout",
     "output_type": "stream",
     "text": [
      "Accuracy: 0.9564\n",
      "Evaluating: lr=0.0025, batch_size=128, opt_func=Adam, n_epochs=8, run=1\n"
     ]
    },
    {
     "data": {
      "text/html": [],
      "text/plain": [
       "<IPython.core.display.HTML object>"
      ]
     },
     "metadata": {},
     "output_type": "display_data"
    },
    {
     "name": "stdout",
     "output_type": "stream",
     "text": [
      "Initial accuracy: 0.1427\n"
     ]
    },
    {
     "data": {
      "text/html": [
       "<table border=\"1\" class=\"dataframe\">\n",
       "  <thead>\n",
       "    <tr style=\"text-align: left;\">\n",
       "      <th>epoch</th>\n",
       "      <th>train_loss</th>\n",
       "      <th>valid_loss</th>\n",
       "      <th>batch_accuracy</th>\n",
       "      <th>time</th>\n",
       "    </tr>\n",
       "  </thead>\n",
       "  <tbody>\n",
       "    <tr>\n",
       "      <td>0</td>\n",
       "      <td>1.529957</td>\n",
       "      <td>1.539446</td>\n",
       "      <td>0.926200</td>\n",
       "      <td>00:03</td>\n",
       "    </tr>\n",
       "    <tr>\n",
       "      <td>1</td>\n",
       "      <td>1.512531</td>\n",
       "      <td>1.528646</td>\n",
       "      <td>0.935700</td>\n",
       "      <td>00:03</td>\n",
       "    </tr>\n",
       "    <tr>\n",
       "      <td>2</td>\n",
       "      <td>1.504322</td>\n",
       "      <td>1.521778</td>\n",
       "      <td>0.941900</td>\n",
       "      <td>00:03</td>\n",
       "    </tr>\n",
       "    <tr>\n",
       "      <td>3</td>\n",
       "      <td>1.498789</td>\n",
       "      <td>1.516302</td>\n",
       "      <td>0.947600</td>\n",
       "      <td>00:03</td>\n",
       "    </tr>\n",
       "    <tr>\n",
       "      <td>4</td>\n",
       "      <td>1.494789</td>\n",
       "      <td>1.514644</td>\n",
       "      <td>0.949000</td>\n",
       "      <td>00:03</td>\n",
       "    </tr>\n",
       "    <tr>\n",
       "      <td>5</td>\n",
       "      <td>1.492652</td>\n",
       "      <td>1.512603</td>\n",
       "      <td>0.950800</td>\n",
       "      <td>00:03</td>\n",
       "    </tr>\n",
       "    <tr>\n",
       "      <td>6</td>\n",
       "      <td>1.491129</td>\n",
       "      <td>1.510526</td>\n",
       "      <td>0.952500</td>\n",
       "      <td>00:03</td>\n",
       "    </tr>\n",
       "    <tr>\n",
       "      <td>7</td>\n",
       "      <td>1.489273</td>\n",
       "      <td>1.508557</td>\n",
       "      <td>0.953800</td>\n",
       "      <td>00:03</td>\n",
       "    </tr>\n",
       "  </tbody>\n",
       "</table>"
      ],
      "text/plain": [
       "<IPython.core.display.HTML object>"
      ]
     },
     "metadata": {},
     "output_type": "display_data"
    },
    {
     "data": {
      "text/html": [],
      "text/plain": [
       "<IPython.core.display.HTML object>"
      ]
     },
     "metadata": {},
     "output_type": "display_data"
    },
    {
     "name": "stdout",
     "output_type": "stream",
     "text": [
      "Accuracy: 0.9538\n",
      "Evaluating: lr=0.0025, batch_size=128, opt_func=Adam, n_epochs=11, run=1\n"
     ]
    },
    {
     "data": {
      "text/html": [],
      "text/plain": [
       "<IPython.core.display.HTML object>"
      ]
     },
     "metadata": {},
     "output_type": "display_data"
    },
    {
     "name": "stdout",
     "output_type": "stream",
     "text": [
      "Initial accuracy: 0.1067\n"
     ]
    },
    {
     "data": {
      "text/html": [
       "<table border=\"1\" class=\"dataframe\">\n",
       "  <thead>\n",
       "    <tr style=\"text-align: left;\">\n",
       "      <th>epoch</th>\n",
       "      <th>train_loss</th>\n",
       "      <th>valid_loss</th>\n",
       "      <th>batch_accuracy</th>\n",
       "      <th>time</th>\n",
       "    </tr>\n",
       "  </thead>\n",
       "  <tbody>\n",
       "    <tr>\n",
       "      <td>0</td>\n",
       "      <td>1.533914</td>\n",
       "      <td>1.540793</td>\n",
       "      <td>0.925300</td>\n",
       "      <td>00:03</td>\n",
       "    </tr>\n",
       "    <tr>\n",
       "      <td>1</td>\n",
       "      <td>1.515642</td>\n",
       "      <td>1.530161</td>\n",
       "      <td>0.935200</td>\n",
       "      <td>00:03</td>\n",
       "    </tr>\n",
       "    <tr>\n",
       "      <td>2</td>\n",
       "      <td>1.506263</td>\n",
       "      <td>1.523747</td>\n",
       "      <td>0.941600</td>\n",
       "      <td>00:03</td>\n",
       "    </tr>\n",
       "    <tr>\n",
       "      <td>3</td>\n",
       "      <td>1.499985</td>\n",
       "      <td>1.520486</td>\n",
       "      <td>0.942700</td>\n",
       "      <td>00:03</td>\n",
       "    </tr>\n",
       "    <tr>\n",
       "      <td>4</td>\n",
       "      <td>1.497273</td>\n",
       "      <td>1.517275</td>\n",
       "      <td>0.945800</td>\n",
       "      <td>00:03</td>\n",
       "    </tr>\n",
       "    <tr>\n",
       "      <td>5</td>\n",
       "      <td>1.495085</td>\n",
       "      <td>1.512785</td>\n",
       "      <td>0.951000</td>\n",
       "      <td>00:03</td>\n",
       "    </tr>\n",
       "    <tr>\n",
       "      <td>6</td>\n",
       "      <td>1.492261</td>\n",
       "      <td>1.521364</td>\n",
       "      <td>0.941000</td>\n",
       "      <td>00:03</td>\n",
       "    </tr>\n",
       "    <tr>\n",
       "      <td>7</td>\n",
       "      <td>1.491213</td>\n",
       "      <td>1.514982</td>\n",
       "      <td>0.948600</td>\n",
       "      <td>00:03</td>\n",
       "    </tr>\n",
       "    <tr>\n",
       "      <td>8</td>\n",
       "      <td>1.490479</td>\n",
       "      <td>1.515629</td>\n",
       "      <td>0.945900</td>\n",
       "      <td>00:03</td>\n",
       "    </tr>\n",
       "    <tr>\n",
       "      <td>9</td>\n",
       "      <td>1.488654</td>\n",
       "      <td>1.514578</td>\n",
       "      <td>0.947500</td>\n",
       "      <td>00:03</td>\n",
       "    </tr>\n",
       "    <tr>\n",
       "      <td>10</td>\n",
       "      <td>1.487999</td>\n",
       "      <td>1.517002</td>\n",
       "      <td>0.945200</td>\n",
       "      <td>00:03</td>\n",
       "    </tr>\n",
       "  </tbody>\n",
       "</table>"
      ],
      "text/plain": [
       "<IPython.core.display.HTML object>"
      ]
     },
     "metadata": {},
     "output_type": "display_data"
    },
    {
     "data": {
      "text/html": [],
      "text/plain": [
       "<IPython.core.display.HTML object>"
      ]
     },
     "metadata": {},
     "output_type": "display_data"
    },
    {
     "name": "stdout",
     "output_type": "stream",
     "text": [
      "Accuracy: 0.9452\n",
      "Evaluating: lr=0.0025, batch_size=128, opt_func=SGD, n_epochs=5, run=1\n"
     ]
    },
    {
     "data": {
      "text/html": [],
      "text/plain": [
       "<IPython.core.display.HTML object>"
      ]
     },
     "metadata": {},
     "output_type": "display_data"
    },
    {
     "name": "stdout",
     "output_type": "stream",
     "text": [
      "Initial accuracy: 0.0746\n"
     ]
    },
    {
     "data": {
      "text/html": [
       "<table border=\"1\" class=\"dataframe\">\n",
       "  <thead>\n",
       "    <tr style=\"text-align: left;\">\n",
       "      <th>epoch</th>\n",
       "      <th>train_loss</th>\n",
       "      <th>valid_loss</th>\n",
       "      <th>batch_accuracy</th>\n",
       "      <th>time</th>\n",
       "    </tr>\n",
       "  </thead>\n",
       "  <tbody>\n",
       "    <tr>\n",
       "      <td>0</td>\n",
       "      <td>2.299823</td>\n",
       "      <td>2.299710</td>\n",
       "      <td>0.116100</td>\n",
       "      <td>00:02</td>\n",
       "    </tr>\n",
       "    <tr>\n",
       "      <td>1</td>\n",
       "      <td>2.294157</td>\n",
       "      <td>2.294064</td>\n",
       "      <td>0.145900</td>\n",
       "      <td>00:02</td>\n",
       "    </tr>\n",
       "    <tr>\n",
       "      <td>2</td>\n",
       "      <td>2.284962</td>\n",
       "      <td>2.284916</td>\n",
       "      <td>0.233800</td>\n",
       "      <td>00:02</td>\n",
       "    </tr>\n",
       "    <tr>\n",
       "      <td>3</td>\n",
       "      <td>2.267291</td>\n",
       "      <td>2.267512</td>\n",
       "      <td>0.407200</td>\n",
       "      <td>00:02</td>\n",
       "    </tr>\n",
       "    <tr>\n",
       "      <td>4</td>\n",
       "      <td>2.225219</td>\n",
       "      <td>2.225286</td>\n",
       "      <td>0.458000</td>\n",
       "      <td>00:02</td>\n",
       "    </tr>\n",
       "  </tbody>\n",
       "</table>"
      ],
      "text/plain": [
       "<IPython.core.display.HTML object>"
      ]
     },
     "metadata": {},
     "output_type": "display_data"
    },
    {
     "data": {
      "text/html": [],
      "text/plain": [
       "<IPython.core.display.HTML object>"
      ]
     },
     "metadata": {},
     "output_type": "display_data"
    },
    {
     "name": "stdout",
     "output_type": "stream",
     "text": [
      "Accuracy: 0.458\n",
      "Evaluating: lr=0.0025, batch_size=128, opt_func=SGD, n_epochs=8, run=1\n"
     ]
    },
    {
     "data": {
      "text/html": [],
      "text/plain": [
       "<IPython.core.display.HTML object>"
      ]
     },
     "metadata": {},
     "output_type": "display_data"
    },
    {
     "name": "stdout",
     "output_type": "stream",
     "text": [
      "Initial accuracy: 0.1209\n"
     ]
    },
    {
     "data": {
      "text/html": [
       "<table border=\"1\" class=\"dataframe\">\n",
       "  <thead>\n",
       "    <tr style=\"text-align: left;\">\n",
       "      <th>epoch</th>\n",
       "      <th>train_loss</th>\n",
       "      <th>valid_loss</th>\n",
       "      <th>batch_accuracy</th>\n",
       "      <th>time</th>\n",
       "    </tr>\n",
       "  </thead>\n",
       "  <tbody>\n",
       "    <tr>\n",
       "      <td>0</td>\n",
       "      <td>2.293537</td>\n",
       "      <td>2.293105</td>\n",
       "      <td>0.161700</td>\n",
       "      <td>00:02</td>\n",
       "    </tr>\n",
       "    <tr>\n",
       "      <td>1</td>\n",
       "      <td>2.280053</td>\n",
       "      <td>2.279111</td>\n",
       "      <td>0.186700</td>\n",
       "      <td>00:02</td>\n",
       "    </tr>\n",
       "    <tr>\n",
       "      <td>2</td>\n",
       "      <td>2.255932</td>\n",
       "      <td>2.253800</td>\n",
       "      <td>0.293400</td>\n",
       "      <td>00:02</td>\n",
       "    </tr>\n",
       "    <tr>\n",
       "      <td>3</td>\n",
       "      <td>2.212644</td>\n",
       "      <td>2.209249</td>\n",
       "      <td>0.392200</td>\n",
       "      <td>00:02</td>\n",
       "    </tr>\n",
       "    <tr>\n",
       "      <td>4</td>\n",
       "      <td>2.159985</td>\n",
       "      <td>2.156560</td>\n",
       "      <td>0.449400</td>\n",
       "      <td>00:02</td>\n",
       "    </tr>\n",
       "    <tr>\n",
       "      <td>5</td>\n",
       "      <td>2.097909</td>\n",
       "      <td>2.094165</td>\n",
       "      <td>0.463400</td>\n",
       "      <td>00:02</td>\n",
       "    </tr>\n",
       "    <tr>\n",
       "      <td>6</td>\n",
       "      <td>2.042330</td>\n",
       "      <td>2.038290</td>\n",
       "      <td>0.474200</td>\n",
       "      <td>00:02</td>\n",
       "    </tr>\n",
       "    <tr>\n",
       "      <td>7</td>\n",
       "      <td>1.999063</td>\n",
       "      <td>1.995488</td>\n",
       "      <td>0.522100</td>\n",
       "      <td>00:02</td>\n",
       "    </tr>\n",
       "  </tbody>\n",
       "</table>"
      ],
      "text/plain": [
       "<IPython.core.display.HTML object>"
      ]
     },
     "metadata": {},
     "output_type": "display_data"
    },
    {
     "data": {
      "text/html": [],
      "text/plain": [
       "<IPython.core.display.HTML object>"
      ]
     },
     "metadata": {},
     "output_type": "display_data"
    },
    {
     "name": "stdout",
     "output_type": "stream",
     "text": [
      "Accuracy: 0.5221\n",
      "Evaluating: lr=0.0025, batch_size=128, opt_func=SGD, n_epochs=11, run=1\n"
     ]
    },
    {
     "data": {
      "text/html": [],
      "text/plain": [
       "<IPython.core.display.HTML object>"
      ]
     },
     "metadata": {},
     "output_type": "display_data"
    },
    {
     "name": "stdout",
     "output_type": "stream",
     "text": [
      "Initial accuracy: 0.1065\n"
     ]
    },
    {
     "data": {
      "text/html": [
       "<table border=\"1\" class=\"dataframe\">\n",
       "  <thead>\n",
       "    <tr style=\"text-align: left;\">\n",
       "      <th>epoch</th>\n",
       "      <th>train_loss</th>\n",
       "      <th>valid_loss</th>\n",
       "      <th>batch_accuracy</th>\n",
       "      <th>time</th>\n",
       "    </tr>\n",
       "  </thead>\n",
       "  <tbody>\n",
       "    <tr>\n",
       "      <td>0</td>\n",
       "      <td>2.295713</td>\n",
       "      <td>2.295902</td>\n",
       "      <td>0.187100</td>\n",
       "      <td>00:02</td>\n",
       "    </tr>\n",
       "    <tr>\n",
       "      <td>1</td>\n",
       "      <td>2.283422</td>\n",
       "      <td>2.283685</td>\n",
       "      <td>0.283500</td>\n",
       "      <td>00:02</td>\n",
       "    </tr>\n",
       "    <tr>\n",
       "      <td>2</td>\n",
       "      <td>2.260146</td>\n",
       "      <td>2.260224</td>\n",
       "      <td>0.302900</td>\n",
       "      <td>00:02</td>\n",
       "    </tr>\n",
       "    <tr>\n",
       "      <td>3</td>\n",
       "      <td>2.213649</td>\n",
       "      <td>2.213618</td>\n",
       "      <td>0.288300</td>\n",
       "      <td>00:02</td>\n",
       "    </tr>\n",
       "    <tr>\n",
       "      <td>4</td>\n",
       "      <td>2.169961</td>\n",
       "      <td>2.170891</td>\n",
       "      <td>0.295500</td>\n",
       "      <td>00:02</td>\n",
       "    </tr>\n",
       "    <tr>\n",
       "      <td>5</td>\n",
       "      <td>2.136492</td>\n",
       "      <td>2.137958</td>\n",
       "      <td>0.310500</td>\n",
       "      <td>00:02</td>\n",
       "    </tr>\n",
       "    <tr>\n",
       "      <td>6</td>\n",
       "      <td>2.101400</td>\n",
       "      <td>2.103271</td>\n",
       "      <td>0.402500</td>\n",
       "      <td>00:02</td>\n",
       "    </tr>\n",
       "    <tr>\n",
       "      <td>7</td>\n",
       "      <td>2.043784</td>\n",
       "      <td>2.047225</td>\n",
       "      <td>0.542500</td>\n",
       "      <td>00:02</td>\n",
       "    </tr>\n",
       "    <tr>\n",
       "      <td>8</td>\n",
       "      <td>1.980222</td>\n",
       "      <td>1.983985</td>\n",
       "      <td>0.575400</td>\n",
       "      <td>00:02</td>\n",
       "    </tr>\n",
       "    <tr>\n",
       "      <td>9</td>\n",
       "      <td>1.924405</td>\n",
       "      <td>1.929751</td>\n",
       "      <td>0.632700</td>\n",
       "      <td>00:02</td>\n",
       "    </tr>\n",
       "    <tr>\n",
       "      <td>10</td>\n",
       "      <td>1.884579</td>\n",
       "      <td>1.888969</td>\n",
       "      <td>0.658400</td>\n",
       "      <td>00:02</td>\n",
       "    </tr>\n",
       "  </tbody>\n",
       "</table>"
      ],
      "text/plain": [
       "<IPython.core.display.HTML object>"
      ]
     },
     "metadata": {},
     "output_type": "display_data"
    },
    {
     "data": {
      "text/html": [],
      "text/plain": [
       "<IPython.core.display.HTML object>"
      ]
     },
     "metadata": {},
     "output_type": "display_data"
    },
    {
     "name": "stdout",
     "output_type": "stream",
     "text": [
      "Accuracy: 0.6584\n",
      "Best hyperparameters: (0.0025, 32, <function Adam at 0x7fa4bc89b280>, 11, 1)\n",
      "Best accuracy: 0.9622\n"
     ]
    }
   ],
   "source": [
    "learner_file_name = 'best_learner.pt'\n",
    "# Run the grid search\n",
    "best_params, best_accuracy = grid_search(param_grid, train_dataset, validate_dataset, 'grid_search_results.csv', 'losses.csv', learner_file_name)\n",
    "print(f\"Best hyperparameters: {best_params}\")\n",
    "print(f\"Best accuracy: {best_accuracy}\")"
   ]
  },
  {
   "cell_type": "code",
   "execution_count": 74,
   "id": "ab8edcfd",
   "metadata": {},
   "outputs": [
    {
     "data": {
      "image/png": "[encoded data removed]",
      "text/plain": [
       "<Figure size 1000x800 with 2 Axes>"
      ]
     },
     "metadata": {},
     "output_type": "display_data"
    }
   ],
   "source": [
    "plot_grid_search_results('grid_search_results.csv')"
   ]
  },
  {
   "cell_type": "markdown",
   "id": "4c7bdcd1",
   "metadata": {},
   "source": [
    "### Look at the misclassified"
   ]
  },
  {
   "cell_type": "code",
   "execution_count": 42,
   "id": "05406e97",
   "metadata": {},
   "outputs": [],
   "source": [
    "def find_misclassified_train_indices(learner, device='cpu'):\n",
    "    \"\"\"\n",
    "    Finds the indices of misclassified inputs along with their predicted and true labels.\n",
    "\n",
    "    Args:\n",
    "        learner (fastai.learner.Learner): The fastai learner object.\n",
    "        device (str): The device to run the model on ('cpu' or 'cuda').\n",
    "\n",
    "    Returns:\n",
    "        tuple: A tuple containing three tensors:\n",
    "            - misclassified_indices: Tensor of dataset indices of misclassified inputs.\n",
    "            - predicted_labels: Tensor of predicted labels for misclassified inputs.\n",
    "            - true_labels: Tensor of true labels for misclassified inputs.\n",
    "    \"\"\"\n",
    "    dataloader = learner.dls.train\n",
    "    model = learner.model\n",
    "\n",
    "    # Ensure the model is in evaluation mode\n",
    "    model.eval()\n",
    "    \n",
    "    misclassified_indices = []\n",
    "    predicted_labels = []\n",
    "    true_labels = []\n",
    "\n",
    "    with torch.no_grad():\n",
    "        for batch_idx, (inputs, labels) in enumerate(dataloader):\n",
    "            inputs, labels = inputs.to(device), labels.to(device)\n",
    "\n",
    "            # Get batch size\n",
    "            batch_size = inputs.size(0)\n",
    "\n",
    "            # Make predictions\n",
    "            outputs = model(inputs)\n",
    "            _, predicted = torch.max(outputs, 1)\n",
    "\n",
    "            # Compare predictions to true labels\n",
    "            for i in range(batch_size):\n",
    "                if predicted[i] != labels[i]:\n",
    "                    # Calculate dataset index\n",
    "                    dataset_index = batch_idx * batch_size + i\n",
    "                    misclassified_indices.append(dataset_index)\n",
    "                    predicted_labels.append([predicted[i].item()])\n",
    "                    true_labels.append([labels[i].item()])  # Wrap the label in a list\n",
    "\n",
    "    # Convert lists to tensors\n",
    "    misclassified_indices = torch.tensor(misclassified_indices, dtype=torch.long)\n",
    "    predicted_labels = torch.tensor(predicted_labels, dtype=torch.long)\n",
    "    true_labels = torch.tensor(true_labels, dtype=torch.long)\n",
    "\n",
    "    return misclassified_indices, predicted_labels, true_labels"
   ]
  },
  {
   "cell_type": "code",
   "execution_count": 43,
   "id": "ffa0c19e",
   "metadata": {},
   "outputs": [],
   "source": [
    "learner: Learner = torch.load(learner_file_name)\n",
    "misclassified_image_indexes_train, predicted_labels, true_labels = find_misclassified_train_indices(learner)"
   ]
  },
  {
   "cell_type": "code",
   "execution_count": 44,
   "id": "c2e225f1",
   "metadata": {},
   "outputs": [],
   "source": [
    "misclassified_images_train = X[misclassified_image_indexes_train]\n",
    "misclassified_data_loader_train = list(zip(misclassified_images_train, true_labels, predicted_labels))"
   ]
  },
  {
   "cell_type": "code",
   "execution_count": 45,
   "id": "7cf31518",
   "metadata": {},
   "outputs": [
    {
     "name": "stdout",
     "output_type": "stream",
     "text": [
      "label: 1\n",
      "predicted: 3\n"
     ]
    },
    {
     "data": {
      "image/jpeg": "[encoded data removed]",
      "image/png": "[encoded data removed]",
      "text/plain": [
       "<PIL.Image.Image image mode=L size=28x28>"
      ]
     },
     "execution_count": 45,
     "metadata": {},
     "output_type": "execute_result"
    }
   ],
   "source": [
    "load_random_example(misclassified_data_loader_train)"
   ]
  },
  {
   "cell_type": "code",
   "execution_count": 46,
   "id": "755030bd",
   "metadata": {},
   "outputs": [],
   "source": [
    "misclassified_images_to_plot = [X[idx] for idx in misclassified_image_indexes_train]\n",
    "\n",
    "predicted_labels_to_plot = predicted_labels[:10]\n",
    "true_labels_to_plot = true_labels[:10]"
   ]
  },
  {
   "cell_type": "code",
   "execution_count": 47,
   "id": "fe3f9920",
   "metadata": {},
   "outputs": [
    {
     "data": {
      "image/png": "[encoded data removed]",
      "text/plain": [
       "<Figure size 1000x400 with 10 Axes>"
      ]
     },
     "metadata": {},
     "output_type": "display_data"
    }
   ],
   "source": [
    "# Optionally, visualize some of the misclassified images\n",
    "plot_images(misclassified_images_to_plot, misclassified_image_indexes_train, 1, true_labels, predicted_labels, index_mapping=train_inverse_index_mapping)"
   ]
  },
  {
   "cell_type": "markdown",
   "id": "01419c86",
   "metadata": {},
   "source": [
    "Lets do a sanity check to make sure we have the right indexes in our original training set. \n",
    "\n",
    "First lets look at the misclassified image in our (shuffled) train_X set"
   ]
  },
  {
   "cell_type": "code",
   "execution_count": 48,
   "id": "790800ec",
   "metadata": {},
   "outputs": [
    {
     "name": "stdout",
     "output_type": "stream",
     "text": [
      "train_X idx: 70863 (i.e. the shuffled index)\n"
     ]
    },
    {
     "data": {
      "image/jpeg": "[encoded data removed]",
      "image/png": "[encoded data removed]",
      "text/plain": [
       "<PIL.Image.Image image mode=L size=28x28>"
      ]
     },
     "execution_count": 48,
     "metadata": {},
     "output_type": "execute_result"
    }
   ],
   "source": [
    "import random\n",
    "image_indexes = misclassified_image_indexes_train\n",
    "index_mapping = train_inverse_index_mapping\n",
    "\n",
    "i = random.randint(0, image_indexes.shape[0])\n",
    "training_set_index = image_indexes[i]\n",
    "unshuffled_index = index_mapping[training_set_index]\n",
    "train_X_idx_string = f\"train_X idx: {training_set_index} (i.e. the shuffled index)\"\n",
    "print(train_X_idx_string)\n",
    "\n",
    "image = X[training_set_index]\n",
    "display_image(image)"
   ]
  },
  {
   "cell_type": "markdown",
   "id": "d150fb84",
   "metadata": {},
   "source": [
    "Now lets look at the image in the unshuffled set to verify that our mapping is correct"
   ]
  },
  {
   "cell_type": "code",
   "execution_count": 49,
   "id": "d6df3c48",
   "metadata": {},
   "outputs": [
    {
     "name": "stdout",
     "output_type": "stream",
     "text": [
      "train_X_original idx: 48986 (i.e. the unshuffled/original index)\n"
     ]
    },
    {
     "data": {
      "image/jpeg": "[encoded data removed]",
      "image/png": "[encoded data removed]",
      "text/plain": [
       "<PIL.Image.Image image mode=L size=28x28>"
      ]
     },
     "execution_count": 49,
     "metadata": {},
     "output_type": "execute_result"
    }
   ],
   "source": [
    "train_X_idx_string = f\"train_X_original idx: {unshuffled_index} (i.e. the unshuffled/original index)\"\n",
    "print(train_X_idx_string)\n",
    "\n",
    "image = train_X_original[unshuffled_index]\n",
    "display_image(image)"
   ]
  },
  {
   "cell_type": "markdown",
   "id": "2101e4cf",
   "metadata": {},
   "source": [
    "Looks good!\n",
    "\n",
    "Now we can write a function to get the original indexes from our misclassified"
   ]
  },
  {
   "cell_type": "code",
   "execution_count": 50,
   "id": "1ee9c50d",
   "metadata": {},
   "outputs": [],
   "source": [
    "def get_original_indices(image_indexes, index_mapping):\n",
    "    X_indices = []\n",
    "    y_indices = []\n",
    "    for i in range(len(image_indexes)):\n",
    "        training_set_index = image_indexes[i]\n",
    "        original_data_index = index_mapping[training_set_index]\n",
    "        X_indices.append(original_data_index)\n",
    "        y_indices.append(y[training_set_index])\n",
    "    return X_indices, y_indices"
   ]
  },
  {
   "cell_type": "code",
   "execution_count": 51,
   "id": "f4bf00e5",
   "metadata": {},
   "outputs": [],
   "source": [
    "original_indices_X, original_indices_y = get_original_indices(misclassified_image_indexes_train, train_inverse_index_mapping)"
   ]
  },
  {
   "cell_type": "markdown",
   "id": "b7d1266b",
   "metadata": {},
   "source": [
    "Now that we have the original indexes of the examples we got wrong lets save them to disk (we'll use them later on)."
   ]
  },
  {
   "cell_type": "code",
   "execution_count": 52,
   "id": "f21f855e",
   "metadata": {},
   "outputs": [],
   "source": [
    "# if you want to include duplicates for the misclassified data then pass in the file name root here\n",
    "misclassified_data_name = \"misclassified\""
   ]
  },
  {
   "cell_type": "code",
   "execution_count": 53,
   "id": "e15d7ec1",
   "metadata": {},
   "outputs": [],
   "source": [
    "save_to_disk(misclassified_data_name, original_indices_X, original_indices_y)"
   ]
  },
  {
   "cell_type": "code",
   "execution_count": 54,
   "id": "cbfbeced",
   "metadata": {},
   "outputs": [
    {
     "data": {
      "text/plain": [
       "4724"
      ]
     },
     "execution_count": 54,
     "metadata": {},
     "output_type": "execute_result"
    }
   ],
   "source": [
    "len(misclassified_images_train)"
   ]
  },
  {
   "cell_type": "markdown",
   "id": "f16839ea",
   "metadata": {},
   "source": [
    "### Improving our model\n",
    "\n",
    "Let's see if we can improve on our best. To do this we will pass in the name of our misclassified data so that the function will supplement the original data with an additional copy of our misclassified examples."
   ]
  },
  {
   "cell_type": "code",
   "execution_count": 76,
   "id": "bb32c252",
   "metadata": {},
   "outputs": [
    {
     "name": "stdout",
     "output_type": "stream",
     "text": [
      "Loaded train data from disk\n",
      "Loaded validate data from disk\n",
      "Loaded misclassified data from disk\n"
     ]
    },
    {
     "data": {
      "text/plain": [
       "(torch.Size([194172, 784]),\n",
       " torch.Size([194172, 1]),\n",
       " torch.Size([10000, 784]),\n",
       " torch.Size([10000, 1]))"
      ]
     },
     "execution_count": 76,
     "metadata": {},
     "output_type": "execute_result"
    }
   ],
   "source": [
    "(revised_train_X, revised_train_y, train_X_original, _), (revised_validate_X, revised_validate_y) = get_data(misclassified_data_name)\n",
    "revised_train_X.shape, revised_train_y.shape, revised_validate_X.shape, revised_validate_y.shape"
   ]
  },
  {
   "cell_type": "markdown",
   "id": "fe97c2a3",
   "metadata": {},
   "source": [
    "Now let's use the parameters from our best previous run to train a new model with the revised data."
   ]
  },
  {
   "cell_type": "code",
   "execution_count": 56,
   "id": "c9706fa6",
   "metadata": {},
   "outputs": [
    {
     "name": "stdout",
     "output_type": "stream",
     "text": [
      "Index(['lr', 'batch_size', 'opt_func', 'n_epochs', 'runs', 'accuracy'], dtype='object')\n"
     ]
    }
   ],
   "source": [
    "# Load the results from the CSV file\n",
    "df = pd.read_csv(\"grid_search_results.csv\")\n",
    "print(df.columns)"
   ]
  },
  {
   "cell_type": "code",
   "execution_count": 57,
   "id": "dab886f1",
   "metadata": {},
   "outputs": [
    {
     "data": {
      "text/plain": [
       "lr            0.0025\n",
       "batch_size        32\n",
       "opt_func        Adam\n",
       "n_epochs          11\n",
       "runs               1\n",
       "accuracy      0.9622\n",
       "Name: 39, dtype: object"
      ]
     },
     "execution_count": 57,
     "metadata": {},
     "output_type": "execute_result"
    }
   ],
   "source": [
    "best_params = df.iloc[df.accuracy.idxmax()]\n",
    "best_params\n"
   ]
  },
  {
   "cell_type": "code",
   "execution_count": 58,
   "id": "6e942413",
   "metadata": {},
   "outputs": [],
   "source": [
    "revised_learning_rate = float(best_params['lr'])\n",
    "revised_batch_size = int(best_params['batch_size'])\n",
    "revised_opt_func = Adam if best_params['opt_func'] == \"Adam\" else SGD\n",
    "revised_n_epochs = int(best_params['n_epochs'])"
   ]
  },
  {
   "cell_type": "markdown",
   "id": "7b499fcc",
   "metadata": {},
   "source": [
    "But this time we will pass in the name of our misclassified data so that the function will supplement the original data with an additional copy of our misclassified examples."
   ]
  },
  {
   "cell_type": "code",
   "execution_count": 77,
   "id": "650fd858",
   "metadata": {},
   "outputs": [
    {
     "data": {
      "text/html": [],
      "text/plain": [
       "<IPython.core.display.HTML object>"
      ]
     },
     "metadata": {},
     "output_type": "display_data"
    },
    {
     "name": "stdout",
     "output_type": "stream",
     "text": [
      "Initial accuracy: 0.1433\n"
     ]
    },
    {
     "data": {
      "text/html": [
       "<table border=\"1\" class=\"dataframe\">\n",
       "  <thead>\n",
       "    <tr style=\"text-align: left;\">\n",
       "      <th>epoch</th>\n",
       "      <th>train_loss</th>\n",
       "      <th>valid_loss</th>\n",
       "      <th>batch_accuracy</th>\n",
       "      <th>time</th>\n",
       "    </tr>\n",
       "  </thead>\n",
       "  <tbody>\n",
       "    <tr>\n",
       "      <td>0</td>\n",
       "      <td>1.560206</td>\n",
       "      <td>1.535407</td>\n",
       "      <td>0.929200</td>\n",
       "      <td>00:12</td>\n",
       "    </tr>\n",
       "    <tr>\n",
       "      <td>1</td>\n",
       "      <td>1.542929</td>\n",
       "      <td>1.527006</td>\n",
       "      <td>0.937500</td>\n",
       "      <td>00:14</td>\n",
       "    </tr>\n",
       "    <tr>\n",
       "      <td>2</td>\n",
       "      <td>1.532822</td>\n",
       "      <td>1.521348</td>\n",
       "      <td>0.942000</td>\n",
       "      <td>00:13</td>\n",
       "    </tr>\n",
       "    <tr>\n",
       "      <td>3</td>\n",
       "      <td>1.525583</td>\n",
       "      <td>1.519093</td>\n",
       "      <td>0.943300</td>\n",
       "      <td>00:15</td>\n",
       "    </tr>\n",
       "    <tr>\n",
       "      <td>4</td>\n",
       "      <td>1.523534</td>\n",
       "      <td>1.515229</td>\n",
       "      <td>0.947400</td>\n",
       "      <td>00:14</td>\n",
       "    </tr>\n",
       "    <tr>\n",
       "      <td>5</td>\n",
       "      <td>1.522282</td>\n",
       "      <td>1.522538</td>\n",
       "      <td>0.940300</td>\n",
       "      <td>00:14</td>\n",
       "    </tr>\n",
       "    <tr>\n",
       "      <td>6</td>\n",
       "      <td>1.518382</td>\n",
       "      <td>1.514260</td>\n",
       "      <td>0.949300</td>\n",
       "      <td>00:14</td>\n",
       "    </tr>\n",
       "    <tr>\n",
       "      <td>7</td>\n",
       "      <td>1.518531</td>\n",
       "      <td>1.517809</td>\n",
       "      <td>0.945600</td>\n",
       "      <td>00:14</td>\n",
       "    </tr>\n",
       "    <tr>\n",
       "      <td>8</td>\n",
       "      <td>1.514561</td>\n",
       "      <td>1.514869</td>\n",
       "      <td>0.949500</td>\n",
       "      <td>00:15</td>\n",
       "    </tr>\n",
       "    <tr>\n",
       "      <td>9</td>\n",
       "      <td>1.513598</td>\n",
       "      <td>1.517164</td>\n",
       "      <td>0.946800</td>\n",
       "      <td>00:17</td>\n",
       "    </tr>\n",
       "    <tr>\n",
       "      <td>10</td>\n",
       "      <td>1.514145</td>\n",
       "      <td>1.515912</td>\n",
       "      <td>0.947400</td>\n",
       "      <td>00:18</td>\n",
       "    </tr>\n",
       "  </tbody>\n",
       "</table>"
      ],
      "text/plain": [
       "<IPython.core.display.HTML object>"
      ]
     },
     "metadata": {},
     "output_type": "display_data"
    },
    {
     "data": {
      "text/html": [],
      "text/plain": [
       "<IPython.core.display.HTML object>"
      ]
     },
     "metadata": {},
     "output_type": "display_data"
    },
    {
     "name": "stdout",
     "output_type": "stream",
     "text": [
      "Accuracy: 0.9474\n"
     ]
    }
   ],
   "source": [
    "revised_train_dataset = list(zip(revised_train_X,revised_train_y.long()))\n",
    "revised_validate_dataset = list(zip(revised_validate_X, revised_validate_y.long()))\n",
    "_, revised_val_accuracy = evaluate_model(revised_train_dataset, revised_validate_dataset, revised_learning_rate, revised_batch_size, revised_opt_func, revised_n_epochs)\n",
    "print(f\"Accuracy: {revised_val_accuracy}\")"
   ]
  },
  {
   "cell_type": "markdown",
   "id": "c5510598",
   "metadata": {},
   "source": [
    "Welp, that didn't work ¯\\_(ツ)_/¯ \n",
    "    \n",
    "I played around with the augmented data a bit but was not able to consistently beat the initial run.\n",
    "\n",
    "Unfortunately I did not have time to dig into the issue further. Still it was a good exercise that we can build on in the future! "
   ]
  },
  {
   "cell_type": "code",
   "execution_count": 82,
   "id": "e99016a7",
   "metadata": {},
   "outputs": [],
   "source": [
    "import readme_ation\n",
    "\n",
    "readme_ation.add_setup_with_versions(['lesson_3.ipynb'],\"README.md\")"
   ]
  }
 ],
 "metadata": {
  "kernelspec": {
   "display_name": "fastai_lesson_3",
   "language": "python",
   "name": "python3"
  },
  "language_info": {
   "codemirror_mode": {
    "name": "ipython",
    "version": 3
   },
   "file_extension": ".py",
   "mimetype": "text/x-python",
   "name": "python",
   "nbconvert_exporter": "python",
   "pygments_lexer": "ipython3",
   "version": "3.9.19"
  }
 },
 "nbformat": 4,
 "nbformat_minor": 5
}
